{
  "cells": [
    {
      "cell_type": "markdown",
      "metadata": {
        "id": "uJnWnDDP8_0r"
      },
      "source": [
        "# Basic control structures and variables I\n",
        "\n",
        "## Nails for the hammer"
      ]
    },
    {
      "cell_type": "markdown",
      "metadata": {
        "id": "tN1uyilG8_0s"
      },
      "source": [
        "Since we only have a short course, and you already have used some Python, to varying degrees, I will move through this introductory session fairly quickly, so you have the tools to explore a wide variety of Python aspects by the end of Days 2 and 3.\n",
        "\n",
        "My recommendation is that the first time I run a cell, you do so too - I will show you how in a moment. This means everything I define and later use, you will have defined and can later use too."
      ]
    },
    {
      "cell_type": "markdown",
      "metadata": {
        "id": "QRYr2r7k8_0s"
      },
      "source": [
        "# First experiment with Jupyter"
      ]
    },
    {
      "cell_type": "markdown",
      "metadata": {
        "id": "-wgIp9nr8_0s"
      },
      "source": [
        "* Find which line number you used in Etherpad (https://bit.ly/py-ether)\n",
        "* Click the blank box below saying `In [ ]`\n",
        "* Change the box below to read `x = LINENUM` (e.g. `x = 15`)\n",
        "* Press *Ctrl+Return*"
      ]
    },
    {
      "cell_type": "code",
      "execution_count": 2,
      "metadata": {
        "id": "xcJvQmwY8_0s"
      },
      "outputs": [],
      "source": [
        "x=15 # comment"
      ]
    },
    {
      "cell_type": "markdown",
      "metadata": {
        "id": "K_0B3s368_0t"
      },
      "source": [
        "Note that `#` is the comment symbol in Python - all text after it is ignored.\n",
        "\n",
        "This lets you to make notes-to-self in your code. However, above, we want to Python to run that line, so don't forget to delete the `#` symbol before pressing _Ctrl+Return_"
      ]
    },
    {
      "cell_type": "markdown",
      "metadata": {
        "id": "evo5AjNx8_0t"
      },
      "source": [
        "This just set the variable `x` (globally for this notebook) to the number of your Etherpad line"
      ]
    },
    {
      "cell_type": "markdown",
      "metadata": {
        "id": "l0TRiDej8_0t"
      },
      "source": [
        "Click to edit the next `In [ ]` and press *Ctrl+Return* (without changing anything this time)"
      ]
    },
    {
      "cell_type": "code",
      "execution_count": 3,
      "metadata": {
        "scrolled": true,
        "id": "2cHeAieO8_0t",
        "colab": {
          "base_uri": "https://localhost:8080/"
        },
        "outputId": "142683a1-8be3-4aaf-e048-4b5ed61cffa5"
      },
      "outputs": [
        {
          "output_type": "execute_result",
          "data": {
            "text/plain": [
              "30"
            ]
          },
          "metadata": {},
          "execution_count": 3
        }
      ],
      "source": [
        "2 * x"
      ]
    },
    {
      "cell_type": "markdown",
      "metadata": {
        "id": "CkiOLMcO8_0t"
      },
      "source": [
        "Hopefully, you should notice that *x* is indeed what you input. This should all be pretty familiar, unless you come from statically-typed languages (C/C++/Java) where you would have to declare a variable. Python lets you effectively declare it, and its type, by assigning to it.\n",
        "\n",
        "Note you can also use _Shift+Return_, which will move you onto the next cell when it runs the current one."
      ]
    },
    {
      "cell_type": "markdown",
      "metadata": {
        "id": "h0vxIF068_0t"
      },
      "source": [
        "We can refer to this output as `Out[2]`, using it like any variable, without having to re-run everything so far."
      ]
    },
    {
      "cell_type": "markdown",
      "metadata": {
        "id": "IV7tI6E18_0t"
      },
      "source": [
        "Do the same trick in the next `In [ ]` (edit and *Ctrl+Return*)"
      ]
    },
    {
      "cell_type": "code",
      "execution_count": 6,
      "metadata": {
        "id": "8n_M-Na58_0t",
        "colab": {
          "base_uri": "https://localhost:8080/"
        },
        "outputId": "e6dd2d19-32e7-479c-940b-cf7aff991b41"
      },
      "outputs": [
        {
          "output_type": "stream",
          "name": "stdout",
          "text": [
            "Something else\n",
            "0.6666666666666666\n"
          ]
        }
      ],
      "source": [
        "if Out[3] / 2 == x:\n",
        "    print(\"Something else\")\n",
        "print(2/3)"
      ]
    },
    {
      "cell_type": "markdown",
      "metadata": {
        "id": "p8MxISKq8_0t"
      },
      "source": [
        "There are a couple of things here to dissect. Many languages need braces `{}`, brackets `[]` or parentheses `()` to draw boundaries around the argument of the `if` statement, or the body. In Python, symbols are reduced in favour of words and spaces, for readability. To achieve the same effect, Python separates the condition from the body with the colon `:` and the indentation (four spaces, by convention)\n",
        "\n",
        "Indentation is Python's Marmite for other programmers. As they are keen to point out, most whitespace does *not* matter: e.g. I could write\n",
        "\n",
        "`Out[2] / 2           ==    x  :`\n",
        "\n",
        "and it's the same as\n",
        "\n",
        "`Out[2] / 2 = x:`\n",
        "\n",
        "However, indentation (whitespace at the start of a line) does. It is an extremely visually clear way to show where blocks of code, like the body of this `if` statement, start and end. For scientists, it forces a very good programming practice - basic code style - your code doesn't run without if it isn't visually clear (well... neatly indented). One of the reasons I got into Python was that my PhD C++ code was so unreadable, dodgily indented and unwieldy, it was easier to rewrite in Python than try and extend it - once I had modification was easy, I could see how everything was laid out, where functions started and ended, before even reading a character.\n",
        "\n",
        "Another thing to note is that you can print with `print`. Here we are running Python3, the latest version. If you've played with Python2, you will notice this syntax is a bit different - it has parentheses (aka. parens) around the argument. A whole raft of changes came in with Python3 and, like Windows XP, Python2 has stayed around for a long time through sheer momentum. However it has long reached end-of-life, so you should make sure to develop new software for Python3. Good porting tools exist for moving old code and, if required, you can write code that will work in both.\n",
        "\n",
        "To summarize those key points:"
      ]
    },
    {
      "cell_type": "markdown",
      "metadata": {
        "id": "5ayLGor_8_0t"
      },
      "source": [
        "* Indentation separates bodies of functions, conditionals, loops from the outside code\n",
        "* Basic boolean operators are `==`, `or`, `and`, `not`, `>`, `<`, etc.\n",
        "* This is Python3 syntax (very slightly different to Python2)"
      ]
    },
    {
      "cell_type": "markdown",
      "metadata": {
        "id": "yJDUFovd8_0t"
      },
      "source": [
        "# Debugging\n",
        "## Ladder for the hole"
      ]
    },
    {
      "cell_type": "markdown",
      "metadata": {
        "id": "sYcK3LNg8_0t"
      },
      "source": [
        "Now we can edit and run code, the inevitable consequence is that we get a bug!"
      ]
    },
    {
      "cell_type": "markdown",
      "metadata": {
        "id": "iXu8gqHZ8_0t"
      },
      "source": [
        "Try running the line below (without correcting it):"
      ]
    },
    {
      "cell_type": "code",
      "execution_count": 7,
      "metadata": {
        "id": "GnYzkqaZ8_0u",
        "colab": {
          "base_uri": "https://localhost:8080/",
          "height": 106
        },
        "outputId": "a7dad527-a9f1-43d9-86dc-aa8931d03fad"
      },
      "outputs": [
        {
          "output_type": "error",
          "ename": "SyntaxError",
          "evalue": "unterminated string literal (detected at line 4) (ipython-input-171453110.py, line 4)",
          "traceback": [
            "\u001b[0;36m  File \u001b[0;32m\"/tmp/ipython-input-171453110.py\"\u001b[0;36m, line \u001b[0;32m4\u001b[0m\n\u001b[0;31m    print(\"Yes I do')\u001b[0m\n\u001b[0m          ^\u001b[0m\n\u001b[0;31mSyntaxError\u001b[0m\u001b[0;31m:\u001b[0m unterminated string literal (detected at line 4)\n"
          ]
        }
      ],
      "source": [
        "if (x < 2) or (x > 100):\n",
        "    print(\"Do I know you?\")\n",
        "else:\n",
        "    print(\"Yes I do')"
      ]
    },
    {
      "cell_type": "code",
      "source": [
        "#corrected version of above cell\n",
        "if (x < 2) or (x > 100):\n",
        "    print(\"Do I know you?\")\n",
        "else:\n",
        "    print(\"Yes I do\")"
      ],
      "metadata": {
        "colab": {
          "base_uri": "https://localhost:8080/"
        },
        "id": "B80gvM7K-XFT",
        "outputId": "e6222dc0-dd83-4ea7-c3da-96ad6f029a49"
      },
      "execution_count": 8,
      "outputs": [
        {
          "output_type": "stream",
          "name": "stdout",
          "text": [
            "Yes I do\n"
          ]
        }
      ]
    },
    {
      "cell_type": "markdown",
      "metadata": {
        "id": "kkxhtLNw8_0u"
      },
      "source": [
        "In general, the most immediately useful information is on the very last line: `SyntaxError`. Above it, is the last \"frame\" called - that is, level of function. Say you call a function, and it calls another, and so forth until the innermost function hits an error. Here, it will list all the functions in that sequence, so you can track exactly how you got to the dodgy line.\n",
        "\n",
        "In Jupyter, the filename is not very informative - but you can see the input number (e.g. `ipython-input-4` &lrarr; `In [4]`).\n",
        "\n",
        "Bonus mark if you spotted the error (not that we actually have marks, but hey) - have a look and see if you can fix it and re-run the command, the same way you ran it the first time. Feel free to discuss, use Etherpad chat, whichever. Note that the `In [4]` changes to `In [5]`, and so forth, each time you run that \"cell\".\n",
        "\n",
        "In general, \"a string\" and 'a string' are equivalent - Python does not mind whether single or double quotes are used, as long as they match at either end."
      ]
    },
    {
      "cell_type": "markdown",
      "metadata": {
        "id": "aJsf4H5D8_0u"
      },
      "source": [
        "* Check the error at the bottom\n",
        "* Check the caret (^) showing where Python sees a problem\n",
        "* Look at the syntax highlighting in the cell"
      ]
    },
    {
      "cell_type": "markdown",
      "metadata": {
        "id": "lWD9Mbid8_0u"
      },
      "source": [
        "# Functions\n",
        "\n",
        "## Painting the Black Box"
      ]
    },
    {
      "cell_type": "markdown",
      "metadata": {
        "id": "4ybCrVlI8_0u"
      },
      "source": [
        "Like every language, Python has functions... they are defined like so:"
      ]
    },
    {
      "cell_type": "code",
      "execution_count": 9,
      "metadata": {
        "id": "Ler3gEFU8_0u"
      },
      "outputs": [],
      "source": [
        "def tell_me_if_im_old(name, age):\n",
        "    print(\"...checking if\", name, \"is old...\")\n",
        "\n",
        "    if age < 100:\n",
        "        return False\n",
        "    else:\n",
        "        return True"
      ]
    },
    {
      "cell_type": "markdown",
      "metadata": {
        "id": "qFPESN8f8_0u"
      },
      "source": [
        "Couple things to note: (i) this has nested blocks, we just indented twice for the inner ones (`if` and `else` bodies). (ii) this *didn't* specify a type for `age` (or `name`) - all it cares is that we can compare `age` to an *int*. Similarly, we don't specify a return type - it is up to us to return something intuitive and sensible. Let's use it:"
      ]
    },
    {
      "cell_type": "code",
      "execution_count": 10,
      "metadata": {
        "id": "u35L0CMc8_0u",
        "colab": {
          "base_uri": "https://localhost:8080/"
        },
        "outputId": "da29e245-9db0-4f9f-e154-b20397c8d037"
      },
      "outputs": [
        {
          "output_type": "stream",
          "name": "stdout",
          "text": [
            "I am 35 - am I old?\n",
            "...checking if Phil is old...\n",
            "Not at all, spring chicken.\n"
          ]
        }
      ],
      "source": [
        "phils_age = 35\n",
        "name = \"Phil\"\n",
        "\n",
        "print(\"I am\", phils_age, \"- am I old?\")\n",
        "\n",
        "if tell_me_if_im_old(name, phils_age):\n",
        "    print(\"Yup, it's a fact.\")\n",
        "else:\n",
        "    print(\"Not at all, spring chicken.\")"
      ]
    },
    {
      "cell_type": "markdown",
      "metadata": {
        "id": "aJyGoWh88_0u"
      },
      "source": [
        "We also have methods on objects - nearly everything in Python is an object (even classes themselves), and so have methods:"
      ]
    },
    {
      "cell_type": "code",
      "execution_count": 11,
      "metadata": {
        "id": "NJw2Vqgt8_0u",
        "colab": {
          "base_uri": "https://localhost:8080/",
          "height": 36
        },
        "outputId": "18b9fd75-4973-4e01-f6aa-0d589ec5d264"
      },
      "outputs": [
        {
          "output_type": "execute_result",
          "data": {
            "text/plain": [
              "'JUST A NORMAL STRING'"
            ],
            "application/vnd.google.colaboratory.intrinsic+json": {
              "type": "string"
            }
          },
          "metadata": {},
          "execution_count": 11
        }
      ],
      "source": [
        "\"just a normal string\".upper()"
      ]
    },
    {
      "cell_type": "code",
      "execution_count": 12,
      "metadata": {
        "scrolled": true,
        "id": "lCpt4j_C8_0u"
      },
      "outputs": [],
      "source": [
        "if \"Another string\".islower():\n",
        "    print(\"The string was lowercase\")"
      ]
    },
    {
      "cell_type": "markdown",
      "metadata": {
        "id": "hBx0GiUo8_0u"
      },
      "source": [
        "# Something for Nothing\n",
        "\n",
        "How do we express _no_ value? Not zero, or false, but the complete absence of any meaningful type or value. This is covered by `null` in C-like languages, but in Python, we call it `None`."
      ]
    },
    {
      "cell_type": "code",
      "execution_count": 15,
      "metadata": {
        "id": "-mlPuK078_0u"
      },
      "outputs": [],
      "source": [
        "if None:\n",
        "    print('Nothing doing')"
      ]
    },
    {
      "cell_type": "markdown",
      "metadata": {
        "id": "gShm7qCh8_0v"
      },
      "source": [
        "None, perhaps unsurprisingly, is treated as \"false-y\" in a conditional expression like `if`. It doesn't play well with other types either..."
      ]
    },
    {
      "cell_type": "code",
      "execution_count": 16,
      "metadata": {
        "id": "CEYitHoo8_0v",
        "colab": {
          "base_uri": "https://localhost:8080/",
          "height": 141
        },
        "outputId": "4551cd01-57a3-4dce-ca01-6e38d81b4eef"
      },
      "outputs": [
        {
          "output_type": "error",
          "ename": "TypeError",
          "evalue": "unsupported operand type(s) for +: 'NoneType' and 'int'",
          "traceback": [
            "\u001b[0;31m---------------------------------------------------------------------------\u001b[0m",
            "\u001b[0;31mTypeError\u001b[0m                                 Traceback (most recent call last)",
            "\u001b[0;32m/tmp/ipython-input-1875925809.py\u001b[0m in \u001b[0;36m<cell line: 0>\u001b[0;34m()\u001b[0m\n\u001b[0;32m----> 1\u001b[0;31m \u001b[0;32mNone\u001b[0m \u001b[0;34m+\u001b[0m \u001b[0;36m1\u001b[0m\u001b[0;34m\u001b[0m\u001b[0;34m\u001b[0m\u001b[0m\n\u001b[0m",
            "\u001b[0;31mTypeError\u001b[0m: unsupported operand type(s) for +: 'NoneType' and 'int'"
          ]
        }
      ],
      "source": [
        "None + 1 #DataType Mismatch\n",
        "\n"
      ]
    },
    {
      "cell_type": "markdown",
      "metadata": {
        "id": "kYRkCMf_8_0v"
      },
      "source": [
        "Side-note: for those already familiar with Python functions, you may wish to note that a function with no return value, implicitly returns `None`."
      ]
    },
    {
      "cell_type": "markdown",
      "metadata": {
        "id": "2G8QrsiG8_0v"
      },
      "source": [
        "# Lists and dicts\n",
        "## Conveyor belts and storage units"
      ]
    },
    {
      "cell_type": "markdown",
      "metadata": {
        "id": "xBTob-Od8_0v"
      },
      "source": [
        "Like any language, often need to be able to group things in Python."
      ]
    },
    {
      "cell_type": "markdown",
      "metadata": {
        "id": "o9N4SNVb8_0v"
      },
      "source": [
        "We can create a `list`, which is like a one-dimensional C or FORTRAN array, as follows (don't forget to execute it!):"
      ]
    },
    {
      "cell_type": "code",
      "execution_count": 17,
      "metadata": {
        "id": "-wD6xyd-8_0v"
      },
      "outputs": [],
      "source": [
        "things_to_do = ['Learn Python', 'Finish PhD', 'Publish research',\n",
        "                'Accept Nobel prize', 'Inspire a new generation']"
      ]
    },
    {
      "cell_type": "markdown",
      "metadata": {
        "id": "dkesAprh8_0v"
      },
      "source": [
        "The syntax here is the same as for the more basic types we saw so far, `variable = value`, and our list is a comma-separated series of *things*, bounded by brackets `[]`."
      ]
    },
    {
      "cell_type": "markdown",
      "metadata": {
        "id": "0xeD6GDP8_04"
      },
      "source": [
        "Once you execute the cell above, you should be able to try this:"
      ]
    },
    {
      "cell_type": "code",
      "execution_count": 18,
      "metadata": {
        "id": "k2C_7fxh8_04",
        "colab": {
          "base_uri": "https://localhost:8080/"
        },
        "outputId": "97d2817d-daec-4c41-ead2-939d415c5558"
      },
      "outputs": [
        {
          "output_type": "execute_result",
          "data": {
            "text/plain": [
              "['Accept Nobel prize',\n",
              " 'Finish PhD',\n",
              " 'Inspire a new generation',\n",
              " 'Learn Python',\n",
              " 'Publish research']"
            ]
          },
          "metadata": {},
          "execution_count": 18
        }
      ],
      "source": [
        "sorted(things_to_do)"
      ]
    },
    {
      "cell_type": "markdown",
      "metadata": {
        "id": "xBWOpZvK8_04"
      },
      "source": [
        "...and get an alphabetical list of tasks. Note that `sorted` doesn't update the original object, so if you re-run without `sorted`, it's back to the previous order."
      ]
    },
    {
      "cell_type": "markdown",
      "metadata": {
        "id": "X2QFeV0q8_05"
      },
      "source": [
        "To do this, you use a slightly different technique *or* you just assign: `things_to_do = sorted(things_to_do)`.\n",
        "\n",
        "`sorted` guesses the ordering you want, based on the type of data. It doesn't all have to be strings, you could have mixture of strings and integers, say. `sorted` can take optional arguments, letting you force it to do things the way you want, or even provide your own ordering function."
      ]
    },
    {
      "cell_type": "markdown",
      "metadata": {
        "id": "y6kJKS9_8_05"
      },
      "source": [
        "# So how do we get things out of a list?"
      ]
    },
    {
      "cell_type": "markdown",
      "metadata": {
        "id": "VtX5o7t18_05"
      },
      "source": [
        "Lists are ordered, so you can say, \"I'd like the fifth item, please\". You put it in brackets after the list name:"
      ]
    },
    {
      "cell_type": "code",
      "execution_count": 19,
      "metadata": {
        "id": "9rENGPKK8_05",
        "colab": {
          "base_uri": "https://localhost:8080/",
          "height": 36
        },
        "outputId": "28864036-5358-4254-c8d9-0629fcc2d6c8"
      },
      "outputs": [
        {
          "output_type": "execute_result",
          "data": {
            "text/plain": [
              "'Inspire a new generation'"
            ],
            "application/vnd.google.colaboratory.intrinsic+json": {
              "type": "string"
            }
          },
          "metadata": {},
          "execution_count": 19
        }
      ],
      "source": [
        "things_to_do[4]"
      ]
    },
    {
      "cell_type": "markdown",
      "metadata": {
        "id": "_ji-tU-58_05"
      },
      "source": [
        "However, note that..."
      ]
    },
    {
      "cell_type": "markdown",
      "metadata": {
        "id": "innb23PI8_05"
      },
      "source": [
        "## PYTHON LISTS COUNT FROM 0\n",
        "(PYTHON IS ZERO-INDEXED)"
      ]
    },
    {
      "cell_type": "markdown",
      "metadata": {
        "id": "_PosZCkN8_05"
      },
      "source": [
        "Like C, but unlike MATLAB or FORTRAN. The first item in a list is \"`things_to_do[0]`\""
      ]
    },
    {
      "cell_type": "markdown",
      "metadata": {
        "id": "KNQkhgJA8_05"
      },
      "source": [
        "By the way, did you notice that `In[]` is a list?"
      ]
    },
    {
      "cell_type": "code",
      "execution_count": 20,
      "metadata": {
        "id": "3lxQCFHX8_05",
        "colab": {
          "base_uri": "https://localhost:8080/",
          "height": 36
        },
        "outputId": "50a6be55-612b-46e9-f626-258897a84cc5"
      },
      "outputs": [
        {
          "output_type": "execute_result",
          "data": {
            "text/plain": [
              "'if Out[1] / 2 == x:\\n    print(\"Something else\")\\nprint(2/3)'"
            ],
            "application/vnd.google.colaboratory.intrinsic+json": {
              "type": "string"
            }
          },
          "metadata": {},
          "execution_count": 20
        }
      ],
      "source": [
        "In[4]"
      ]
    },
    {
      "cell_type": "markdown",
      "metadata": {
        "id": "GzyYWc6d8_05"
      },
      "source": [
        "You can try `len` as well"
      ]
    },
    {
      "cell_type": "code",
      "source": [
        "len(In[4])"
      ],
      "metadata": {
        "colab": {
          "base_uri": "https://localhost:8080/"
        },
        "id": "TcAK5_wuANXc",
        "outputId": "e64bcbab-595b-4b54-d571-ef5aa8f6a0ea"
      },
      "execution_count": 21,
      "outputs": [
        {
          "output_type": "execute_result",
          "data": {
            "text/plain": [
              "58"
            ]
          },
          "metadata": {},
          "execution_count": 21
        }
      ]
    },
    {
      "cell_type": "markdown",
      "metadata": {
        "id": "bVbq3r6A8_05"
      },
      "source": [
        "# Slicing\n"
      ]
    },
    {
      "cell_type": "markdown",
      "metadata": {
        "id": "BcbHUVpz8_05"
      },
      "source": [
        "Suppose I want a bit of a list, like the middle 3 items, or the first 2..."
      ]
    },
    {
      "cell_type": "code",
      "execution_count": 22,
      "metadata": {
        "id": "FgAAsq4q8_05",
        "colab": {
          "base_uri": "https://localhost:8080/"
        },
        "outputId": "69f37620-c3ec-4c8a-c12a-7d8977756d3d"
      },
      "outputs": [
        {
          "output_type": "stream",
          "name": "stdout",
          "text": [
            "['Learn Python', 'Finish PhD', 'Publish research', 'Accept Nobel prize', 'Inspire a new generation']\n"
          ]
        },
        {
          "output_type": "execute_result",
          "data": {
            "text/plain": [
              "['Finish PhD', 'Publish research', 'Accept Nobel prize']"
            ]
          },
          "metadata": {},
          "execution_count": 22
        }
      ],
      "source": [
        "print(things_to_do)\n",
        "things_to_do[1:4]"
      ]
    },
    {
      "cell_type": "markdown",
      "metadata": {
        "id": "gYsnyloY8_05"
      },
      "source": [
        "...if you wonder why `things_to_do[4]` (the fifth item) didn't appear, note that that number after the colon means 'up-to-but-not-including'..."
      ]
    },
    {
      "cell_type": "code",
      "execution_count": 23,
      "metadata": {
        "id": "nVLDu7Gb8_05",
        "colab": {
          "base_uri": "https://localhost:8080/"
        },
        "outputId": "8f7eddd8-e5eb-4455-b80b-4a05caa83978"
      },
      "outputs": [
        {
          "output_type": "execute_result",
          "data": {
            "text/plain": [
              "['Learn Python', 'Finish PhD']"
            ]
          },
          "metadata": {},
          "execution_count": 23
        }
      ],
      "source": [
        "things_to_do[:2]"
      ]
    },
    {
      "cell_type": "code",
      "execution_count": 24,
      "metadata": {
        "id": "ht4XfoXc8_05",
        "colab": {
          "base_uri": "https://localhost:8080/"
        },
        "outputId": "cd62ad04-be8d-4318-be2e-c00c47b3fe66"
      },
      "outputs": [
        {
          "output_type": "execute_result",
          "data": {
            "text/plain": [
              "['Accept Nobel prize', 'Inspire a new generation']"
            ]
          },
          "metadata": {},
          "execution_count": 24
        }
      ],
      "source": [
        "things_to_do[3:]"
      ]
    },
    {
      "cell_type": "code",
      "execution_count": 25,
      "metadata": {
        "id": "O5C0f6vi8_05",
        "colab": {
          "base_uri": "https://localhost:8080/"
        },
        "outputId": "a50f5706-2931-4fd9-de9c-86f350139afb"
      },
      "outputs": [
        {
          "output_type": "execute_result",
          "data": {
            "text/plain": [
              "['Accept Nobel prize', 'Inspire a new generation']"
            ]
          },
          "metadata": {},
          "execution_count": 25
        }
      ],
      "source": [
        "things_to_do[-2:]"
      ]
    },
    {
      "cell_type": "markdown",
      "metadata": {
        "id": "mmMM_gmy8_05"
      },
      "source": [
        "A slightly more niche extension of slicing is to set a step - in case we want to leapfrog our way from the start to the end:"
      ]
    },
    {
      "cell_type": "code",
      "execution_count": 26,
      "metadata": {
        "id": "9pTeEjpD8_05",
        "colab": {
          "base_uri": "https://localhost:8080/"
        },
        "outputId": "11bbfb9c-dab2-4dd7-bde7-c9c6f356971f"
      },
      "outputs": [
        {
          "output_type": "execute_result",
          "data": {
            "text/plain": [
              "['Learn Python', 'Inspire a new generation']"
            ]
          },
          "metadata": {},
          "execution_count": 26
        }
      ],
      "source": [
        "things_to_do[::4]"
      ]
    },
    {
      "cell_type": "code",
      "execution_count": 27,
      "metadata": {
        "id": "t2Opa-OC8_06",
        "colab": {
          "base_uri": "https://localhost:8080/"
        },
        "outputId": "db9e05ec-d3db-4826-c34a-98cec6875ec9"
      },
      "outputs": [
        {
          "output_type": "execute_result",
          "data": {
            "text/plain": [
              "['Finish PhD', 'Accept Nobel prize']"
            ]
          },
          "metadata": {},
          "execution_count": 27
        }
      ],
      "source": [
        "things_to_do[1::2]"
      ]
    },
    {
      "cell_type": "markdown",
      "metadata": {
        "id": "5RheafBg8_06"
      },
      "source": [
        "We can _even_ use this to step backwards through the list:"
      ]
    },
    {
      "cell_type": "code",
      "execution_count": 28,
      "metadata": {
        "id": "Bra9nppY8_06",
        "colab": {
          "base_uri": "https://localhost:8080/"
        },
        "outputId": "e8267196-e32c-4dcb-a44d-7c398519575a"
      },
      "outputs": [
        {
          "output_type": "execute_result",
          "data": {
            "text/plain": [
              "['Inspire a new generation',\n",
              " 'Accept Nobel prize',\n",
              " 'Publish research',\n",
              " 'Finish PhD',\n",
              " 'Learn Python']"
            ]
          },
          "metadata": {},
          "execution_count": 28
        }
      ],
      "source": [
        "things_to_do[::-1]"
      ]
    },
    {
      "cell_type": "markdown",
      "metadata": {
        "id": "Z48ljaus8_06"
      },
      "source": [
        "We can use negative numbers to count back from the end instead..."
      ]
    },
    {
      "cell_type": "markdown",
      "metadata": {
        "id": "qjgiKGk58_06"
      },
      "source": [
        "Which is \"start two from the end, and give me everything from there onwards\""
      ]
    },
    {
      "cell_type": "markdown",
      "metadata": {
        "id": "H_cnC1iM8_06"
      },
      "source": [
        "# Dictionaries"
      ]
    },
    {
      "cell_type": "markdown",
      "metadata": {
        "id": "n1FKSHlD8_06"
      },
      "source": [
        "This is fine - a list is like a conveyer belt, with a load of arbitrarily filled boxes passing by, one after the other. However, sometimes we care which item is which, and want to have a name for it, so we can drop in and grab it wherever it may be. That's where dictionaries (= dicts) come in. Try running this:"
      ]
    },
    {
      "cell_type": "code",
      "execution_count": 29,
      "metadata": {
        "id": "9TpdY6Fe8_06"
      },
      "outputs": [],
      "source": [
        "my_meetup_dot_com_profile = {\n",
        "    \"first name\": \"Ignatius\",\n",
        "    \"favourite number\": 9,\n",
        "    \"favourite programming language\": \"FORTRAN66\",\n",
        "    3: \"is the magic number\"\n",
        "}"
      ]
    },
    {
      "cell_type": "markdown",
      "metadata": {
        "id": "FUHw3W_88_06"
      },
      "source": [
        "The syntax is slightly different. Instead of brackets, we use braces `{}`.\n",
        "\n",
        "Now each element has a name, followed by a colon and the element itself, which can still be basically anything. Like storage units, we now have a group of things we can address. That address could be a number, a string, or any other basic type. And keys can be different types - check the last entry."
      ]
    },
    {
      "cell_type": "markdown",
      "metadata": {
        "id": "Ap3vukPT8_06"
      },
      "source": [
        "This is *completely unsorted*. However, you can get any element back by its name (key):"
      ]
    },
    {
      "cell_type": "code",
      "execution_count": 30,
      "metadata": {
        "id": "BwqEnF798_06",
        "colab": {
          "base_uri": "https://localhost:8080/"
        },
        "outputId": "f466ec92-6438-434a-b7cb-a590988ad893"
      },
      "outputs": [
        {
          "output_type": "stream",
          "name": "stdout",
          "text": [
            "My favourite number is\n"
          ]
        },
        {
          "output_type": "execute_result",
          "data": {
            "text/plain": [
              "9"
            ]
          },
          "metadata": {},
          "execution_count": 30
        }
      ],
      "source": [
        "print(\"My favourite number is\")\n",
        "my_meetup_dot_com_profile['favourite number']"
      ]
    },
    {
      "cell_type": "markdown",
      "metadata": {
        "id": "M-vI0oIR8_06"
      },
      "source": [
        "And even though it is unsorted, it can have integers or so forth as keys - note the very last entry in the definition..."
      ]
    },
    {
      "cell_type": "code",
      "execution_count": 31,
      "metadata": {
        "id": "ecfz7vJv8_06",
        "colab": {
          "base_uri": "https://localhost:8080/",
          "height": 36
        },
        "outputId": "710dd90f-0e1d-4722-f9c0-cd980bb0d0e5"
      },
      "outputs": [
        {
          "output_type": "execute_result",
          "data": {
            "text/plain": [
              "'is the magic number'"
            ],
            "application/vnd.google.colaboratory.intrinsic+json": {
              "type": "string"
            }
          },
          "metadata": {},
          "execution_count": 31
        }
      ],
      "source": [
        "my_meetup_dot_com_profile[3]"
      ]
    },
    {
      "cell_type": "markdown",
      "metadata": {
        "id": "GUZKsHRm8_06"
      },
      "source": [
        "...but not..."
      ]
    },
    {
      "cell_type": "code",
      "execution_count": 32,
      "metadata": {
        "scrolled": true,
        "id": "zHNwlJXk8_06",
        "colab": {
          "base_uri": "https://localhost:8080/",
          "height": 141
        },
        "outputId": "add718f1-f87f-4df3-9057-c4db2271c51e"
      },
      "outputs": [
        {
          "output_type": "error",
          "ename": "KeyError",
          "evalue": "2",
          "traceback": [
            "\u001b[0;31m---------------------------------------------------------------------------\u001b[0m",
            "\u001b[0;31mKeyError\u001b[0m                                  Traceback (most recent call last)",
            "\u001b[0;32m/tmp/ipython-input-2057135581.py\u001b[0m in \u001b[0;36m<cell line: 0>\u001b[0;34m()\u001b[0m\n\u001b[0;32m----> 1\u001b[0;31m \u001b[0mmy_meetup_dot_com_profile\u001b[0m\u001b[0;34m[\u001b[0m\u001b[0;36m2\u001b[0m\u001b[0;34m]\u001b[0m\u001b[0;34m\u001b[0m\u001b[0;34m\u001b[0m\u001b[0m\n\u001b[0m",
            "\u001b[0;31mKeyError\u001b[0m: 2"
          ]
        }
      ],
      "source": [
        "my_meetup_dot_com_profile[2]   #There is No key named \"2\""
      ]
    },
    {
      "cell_type": "markdown",
      "metadata": {
        "id": "0tN-5QUW8_06"
      },
      "source": [
        "Because it doesn't exist."
      ]
    },
    {
      "cell_type": "markdown",
      "metadata": {
        "id": "dZtND1UQ8_06"
      },
      "source": [
        "# Extending lists and dicts"
      ]
    },
    {
      "cell_type": "markdown",
      "metadata": {
        "id": "aKcWNBQy8_06"
      },
      "source": [
        "Extending lists is a little unwieldy, but dicts are more intuitive:"
      ]
    },
    {
      "cell_type": "code",
      "execution_count": 33,
      "metadata": {
        "scrolled": true,
        "id": "LC6O_Zt88_06",
        "colab": {
          "base_uri": "https://localhost:8080/"
        },
        "outputId": "42a6106b-d7ef-4c71-85b1-013a9a456c8e"
      },
      "outputs": [
        {
          "output_type": "stream",
          "name": "stdout",
          "text": [
            "TODO: ['Learn Python', 'Finish PhD', 'Publish research', 'Accept Nobel prize', 'Inspire a new generation', 'Find a nice retirement village in the Galapagos Islands'] \n",
            "\n",
            "MEETUP: {'first name': 'Ignatius', 'favourite number': 9, 'favourite programming language': 'FORTRAN66', 3: 'is the magic number', 'Interests': ['Python2', 'Python3', 'Scientific Python', 'Pottery']}\n"
          ]
        }
      ],
      "source": [
        "things_to_do.append(\"Find a nice retirement village in the Galapagos Islands\")\n",
        "\n",
        "my_meetup_dot_com_profile[\"Interests\"] = [\"Python2\", \"Python3\", \"Scientific Python\", \"Pottery\"]\n",
        "\n",
        "print(\"TODO:\", things_to_do, \"\\n\\nMEETUP:\", my_meetup_dot_com_profile)"
      ]
    },
    {
      "cell_type": "markdown",
      "metadata": {
        "id": "TJJM_GmT8_06"
      },
      "source": [
        "Here, we added an `Interests` key to the `my_meetup_dot_com_profile` dictionary.\n",
        "\n",
        "Note that anything can be an *item* in a dictionary or list - in this case, a list is an item in our dict, whose key is `Interests`. Also note that, as with other languages, `\\n` signifies a newline."
      ]
    },
    {
      "cell_type": "markdown",
      "metadata": {
        "id": "s2BcW-9j8_07"
      },
      "source": [
        "There are many other types of collections - sets, tuples, trees, deques, sets. Some of these we will touch on later. For the moment, I'll highlight only OrderedDict. One question that often gets asked is \"if dictionaries don't have a guaranteed order, how can I have a mapping that does?\""
      ]
    },
    {
      "cell_type": "code",
      "execution_count": 34,
      "metadata": {
        "id": "M6uo_mTK8_07",
        "colab": {
          "base_uri": "https://localhost:8080/"
        },
        "outputId": "62278eae-fbb5-41e2-84ff-4ac2fdb863af"
      },
      "outputs": [
        {
          "output_type": "execute_result",
          "data": {
            "text/plain": [
              "['key1', 'key2', 'test', 'another_test']"
            ]
          },
          "metadata": {},
          "execution_count": 34
        }
      ],
      "source": [
        "from collections import OrderedDict # we'll discuss importing shortly\n",
        "\n",
        "my_ordered_dict = OrderedDict([['key1', 'value1'], ['key2', 'value2']])\n",
        "my_ordered_dict['test'] = 'value1'\n",
        "my_ordered_dict['another_test'] = 'value2'\n",
        "\n",
        "list(my_ordered_dict)"
      ]
    },
    {
      "cell_type": "markdown",
      "metadata": {
        "id": "2bQdxXW88_07"
      },
      "source": [
        "However, this is not generally necessary and before using it, you should double-check whether it is the most self-explanatory way to write your code."
      ]
    },
    {
      "cell_type": "markdown",
      "metadata": {
        "id": "PWt0mlRv8_07"
      },
      "source": [
        "# Join\n",
        "\n",
        "## The most useful method in the str object"
      ]
    },
    {
      "cell_type": "markdown",
      "metadata": {
        "id": "-Maxv3fb8_07"
      },
      "source": [
        "Different languages have different ways of collapsing a string with a separator - it is something you will need to do again and again. In Python, the approach is a little surprising - we have already seen that strings are objects (of type `str`), but it turns out Python uses this to provide a way of joining iterables (like `lists` or `dicts`):"
      ]
    },
    {
      "cell_type": "code",
      "execution_count": 35,
      "metadata": {
        "id": "y4XQQxXG8_07",
        "colab": {
          "base_uri": "https://localhost:8080/",
          "height": 36
        },
        "outputId": "c12e33b3-ad31-4e42-a66b-c5425287d94b"
      },
      "outputs": [
        {
          "output_type": "execute_result",
          "data": {
            "text/plain": [
              "'Learn Python, Finish PhD, Publish research, Accept Nobel prize, Inspire a new generation, Find a nice retirement village in the Galapagos Islands'"
            ],
            "application/vnd.google.colaboratory.intrinsic+json": {
              "type": "string"
            }
          },
          "metadata": {},
          "execution_count": 35
        }
      ],
      "source": [
        "', '.join(things_to_do)"
      ]
    },
    {
      "cell_type": "markdown",
      "metadata": {
        "id": "MytiRLp08_07"
      },
      "source": [
        "This way around, all the string needs to do is add itself before each item in the iterable (except the first) - as long as it can keep getting items, it doesn't care what the iterable is, a dict or anything (iterable == thing you iterate/step through)."
      ]
    },
    {
      "cell_type": "markdown",
      "metadata": {
        "id": "vO-hOQ4t8_07"
      },
      "source": [
        "Can you see the benefit of defining this method as part of `str`, being able to pass it any possible iterable to join up, instead of having to define a method on every type of iterable and passing it a string?"
      ]
    },
    {
      "cell_type": "markdown",
      "metadata": {
        "id": "_Fob6jDG8_07"
      },
      "source": [
        "# Quick aside\n",
        "\n",
        "## Save early, save often"
      ]
    },
    {
      "cell_type": "markdown",
      "metadata": {
        "id": "nYELZOaW8_07"
      },
      "source": [
        "Jupyter does do some automatic saving, but click the disk icon at the top left now to force an update..."
      ]
    },
    {
      "cell_type": "markdown",
      "metadata": {
        "id": "Tg_1svBH8_07"
      },
      "source": [
        "# ReDebugging\n",
        "\n",
        "## Bringing it together"
      ]
    },
    {
      "cell_type": "markdown",
      "metadata": {
        "id": "o1Rxgq9k8_07"
      },
      "source": [
        "Here's another one to see if you can fix - try running and then spot the issue:"
      ]
    },
    {
      "cell_type": "code",
      "execution_count": 36,
      "metadata": {
        "id": "UQfaq8om8_07",
        "outputId": "17724ce2-284a-46c0-c51d-f6c18a43dd28",
        "colab": {
          "base_uri": "https://localhost:8080/",
          "height": 193
        }
      },
      "outputs": [
        {
          "output_type": "error",
          "ename": "ZeroDivisionError",
          "evalue": "division by zero",
          "traceback": [
            "\u001b[0;31m---------------------------------------------------------------------------\u001b[0m",
            "\u001b[0;31mZeroDivisionError\u001b[0m                         Traceback (most recent call last)",
            "\u001b[0;32m/tmp/ipython-input-4084718918.py\u001b[0m in \u001b[0;36m<cell line: 0>\u001b[0;34m()\u001b[0m\n\u001b[1;32m      1\u001b[0m \u001b[0my\u001b[0m \u001b[0;34m=\u001b[0m \u001b[0;36m120\u001b[0m\u001b[0;34m\u001b[0m\u001b[0;34m\u001b[0m\u001b[0m\n\u001b[1;32m      2\u001b[0m \u001b[0;32mfor\u001b[0m \u001b[0mz\u001b[0m \u001b[0;32min\u001b[0m \u001b[0mrange\u001b[0m\u001b[0;34m(\u001b[0m\u001b[0;36m5\u001b[0m\u001b[0;34m)\u001b[0m\u001b[0;34m:\u001b[0m\u001b[0;34m\u001b[0m\u001b[0;34m\u001b[0m\u001b[0m\n\u001b[0;32m----> 3\u001b[0;31m     \u001b[0my\u001b[0m \u001b[0;34m=\u001b[0m \u001b[0my\u001b[0m \u001b[0;34m/\u001b[0m \u001b[0mz\u001b[0m\u001b[0;34m\u001b[0m\u001b[0;34m\u001b[0m\u001b[0m\n\u001b[0m\u001b[1;32m      4\u001b[0m     \u001b[0mprint\u001b[0m\u001b[0;34m(\u001b[0m\u001b[0;34m\"When z is\"\u001b[0m\u001b[0;34m,\u001b[0m \u001b[0mz\u001b[0m\u001b[0;34m,\u001b[0m \u001b[0;34m\"then y is\"\u001b[0m\u001b[0;34m,\u001b[0m \u001b[0my\u001b[0m\u001b[0;34m)\u001b[0m\u001b[0;34m\u001b[0m\u001b[0;34m\u001b[0m\u001b[0m\n",
            "\u001b[0;31mZeroDivisionError\u001b[0m: division by zero"
          ]
        }
      ],
      "source": [
        "y = 120\n",
        "for z in range(5):\n",
        "    y = y / z\n",
        "    print(\"When z is\", z, \"then y is\", y)"
      ]
    },
    {
      "cell_type": "markdown",
      "metadata": {
        "id": "vuY42HkN8_08"
      },
      "source": [
        "Output should be:\n",
        "```\n",
        "When z is 1 then y is 120.0\n",
        "When z is 2 then y is 60.0\n",
        "When z is 3 then y is 20.0\n",
        "When z is 4 then y is 5.0\n",
        "```\n",
        "\n",
        "Next challenge, output should be:\n",
        "```\n",
        "When z is 1 then y is 120.0\n",
        "When z is 3 then y is 40.0\n",
        "```"
      ]
    },
    {
      "cell_type": "code",
      "source": [
        "y = 120\n",
        "for z in range(5):\n",
        "    if z==0:\n",
        "      continue\n",
        "    else:\n",
        "      y = y / z\n",
        "    print(\"When z is\", z, \"then y is\", y)"
      ],
      "metadata": {
        "colab": {
          "base_uri": "https://localhost:8080/"
        },
        "id": "wqLdpcPZCiCO",
        "outputId": "594f3287-38c2-48b4-c0e5-564515be34da"
      },
      "execution_count": 37,
      "outputs": [
        {
          "output_type": "stream",
          "name": "stdout",
          "text": [
            "When z is 1 then y is 120.0\n",
            "When z is 2 then y is 60.0\n",
            "When z is 3 then y is 20.0\n",
            "When z is 4 then y is 5.0\n"
          ]
        }
      ]
    },
    {
      "cell_type": "code",
      "source": [
        "y = 120\n",
        "for z in range(5):\n",
        "    if z==0:\n",
        "      continue\n",
        "    elif z%2==1:\n",
        "      y = y / z\n",
        "      print(\"When z is\", z, \"then y is\", y)"
      ],
      "metadata": {
        "colab": {
          "base_uri": "https://localhost:8080/"
        },
        "id": "r7A5M9lYChJs",
        "outputId": "650949a5-bd81-4e7e-cfa4-442202cd7cb9"
      },
      "execution_count": 41,
      "outputs": [
        {
          "output_type": "stream",
          "name": "stdout",
          "text": [
            "When z is 1 then y is 120.0\n",
            "When z is 3 then y is 40.0\n"
          ]
        }
      ]
    },
    {
      "cell_type": "markdown",
      "metadata": {
        "id": "oVOMZn9T8_08"
      },
      "source": [
        "Couple of bits of useful information:\n",
        "\n",
        "* `for` is, unsurprisingly, a `for` loop, as in other languages\n",
        "* `for` doesn't have limit arguments, like in C, say - it takes a set/list/(anything iterable) and goes through each element\n",
        "* `range` just returns a list of integers\n",
        "* `range` can take one argument or two arguments (or more, but not so relevant now)\n",
        "* `range` documentation is here : [Python3 range syntax](https://docs.python.org/3/library/functions.html#func-range) (link opens in new window, so click it!)\n",
        "\n",
        "The easiest way, IMO, to info on any Python function or library is to Google \"Python3 funcname\" and click the first python.org link. If even something seems wrong, make sure you are looking at the Python3, not Python2 docs (or v.v.)\n",
        "\n",
        "If it isn't there already, when you solve this (i.e. get the output above), please make a note in Etherpad. If you are still solving the puzzle - don't look at Etherpad unless you want the answer."
      ]
    },
    {
      "cell_type": "markdown",
      "metadata": {
        "id": "3s1Hndf78_08"
      },
      "source": [
        "Note that the `in` operator can separately be used to return a boolean: e.g. \"`list_item in alist`\", \"`key in adict`\" can be used for `if` clauses"
      ]
    },
    {
      "cell_type": "markdown",
      "metadata": {
        "id": "SRk-640H8_08"
      },
      "source": [
        "To see what range actually returns, you can run:"
      ]
    },
    {
      "cell_type": "code",
      "execution_count": 42,
      "metadata": {
        "id": "swvSKVXG8_08",
        "colab": {
          "base_uri": "https://localhost:8080/"
        },
        "outputId": "49b86afc-ca22-475e-85fc-48e834a7e56f"
      },
      "outputs": [
        {
          "output_type": "execute_result",
          "data": {
            "text/plain": [
              "range"
            ]
          },
          "metadata": {},
          "execution_count": 42
        }
      ],
      "source": [
        "type(range(5))"
      ]
    },
    {
      "cell_type": "markdown",
      "metadata": {
        "id": "v62EDQ8v8_08"
      },
      "source": [
        "Well, that wasn't very descriptive. It turns out the `range` function returns something with (a confusingly named) type `range` - this is what `for` gets handed. Don't worry about the ins-and-outs of that type just yet - what matters is: things of type `range` look like, act like and sound like a `list`.\n",
        "\n",
        "As far as `for` is concerned, that's good enough - this is the [**duck test**](https://simple.wikipedia.org/wiki/Duck_typing), and is a key paradigm in Python - when writing code, don't require your input to be of a specific type `float`, or type `int` (for example), just complain if it doesn't *do* what you want (for example, it refuses to be added to something, or printed, by giving an error).\n",
        "\n",
        "Here, `range` can iterate, like a list, which is all `for` wants - it doesn't care that it isn't _technically_ a list, as it can do what `for` needs. Similarly with, say, the `==` comparison operator - you can compare any objects and as long as they define their comparison behaviour, the operator itself doesn't care what they are.\n",
        "\n",
        "To prove `range(5)` is what we expect it is, lets turn it into a list and see what happens..."
      ]
    },
    {
      "cell_type": "code",
      "execution_count": 43,
      "metadata": {
        "id": "Jdh0RTdV8_08",
        "colab": {
          "base_uri": "https://localhost:8080/"
        },
        "outputId": "6014c0eb-f784-4580-f519-ddbc019713d3"
      },
      "outputs": [
        {
          "output_type": "execute_result",
          "data": {
            "text/plain": [
              "[0, 1, 2, 3, 4]"
            ]
          },
          "metadata": {},
          "execution_count": 43
        }
      ],
      "source": [
        "list(range(5))"
      ]
    },
    {
      "cell_type": "markdown",
      "metadata": {
        "id": "wwo_GUqf8_08"
      },
      "source": [
        "Essentially, `for` sees what we see - a sequence of five numbers."
      ]
    },
    {
      "cell_type": "markdown",
      "metadata": {
        "id": "THXDEBf98_08"
      },
      "source": [
        "Bear in mind that you can cast like this to various types. `str` will make something a string..."
      ]
    },
    {
      "cell_type": "code",
      "execution_count": 44,
      "metadata": {
        "id": "mGwuDesh8_08",
        "colab": {
          "base_uri": "https://localhost:8080/",
          "height": 36
        },
        "outputId": "9012a7dd-d929-4943-8eba-e4312e73e7f2"
      },
      "outputs": [
        {
          "output_type": "execute_result",
          "data": {
            "text/plain": [
              "'range(0, 5)'"
            ],
            "application/vnd.google.colaboratory.intrinsic+json": {
              "type": "string"
            }
          },
          "metadata": {},
          "execution_count": 44
        }
      ],
      "source": [
        "str(range(5))"
      ]
    },
    {
      "cell_type": "markdown",
      "metadata": {
        "id": "lE5un7OC8_08"
      },
      "source": [
        "However, unlike some languages, Python does care about type, so you must concatenate strings with strings or add numerical types to numerical types. To check the type of any number or variable, you can use the built-in, `type`:"
      ]
    },
    {
      "cell_type": "code",
      "execution_count": 45,
      "metadata": {
        "id": "B9Khv2258_08",
        "colab": {
          "base_uri": "https://localhost:8080/",
          "height": 141
        },
        "outputId": "f0c92b26-2ea5-48d6-f961-5a57e9acfbfa"
      },
      "outputs": [
        {
          "output_type": "error",
          "ename": "TypeError",
          "evalue": "unsupported operand type(s) for +: 'float' and 'str'",
          "traceback": [
            "\u001b[0;31m---------------------------------------------------------------------------\u001b[0m",
            "\u001b[0;31mTypeError\u001b[0m                                 Traceback (most recent call last)",
            "\u001b[0;32m/tmp/ipython-input-3516321120.py\u001b[0m in \u001b[0;36m<cell line: 0>\u001b[0;34m()\u001b[0m\n\u001b[0;32m----> 1\u001b[0;31m \u001b[0;36m3.14\u001b[0m \u001b[0;34m+\u001b[0m \u001b[0;34m\" is almost pi\"\u001b[0m\u001b[0;34m\u001b[0m\u001b[0;34m\u001b[0m\u001b[0m\n\u001b[0m",
            "\u001b[0;31mTypeError\u001b[0m: unsupported operand type(s) for +: 'float' and 'str'"
          ]
        }
      ],
      "source": [
        "3.14 + \" is almost pi\""
      ]
    },
    {
      "cell_type": "code",
      "source": [
        "#corrected version\n",
        "str(3.14) + \" is almost pi\""
      ],
      "metadata": {
        "colab": {
          "base_uri": "https://localhost:8080/",
          "height": 36
        },
        "id": "1LCoBT0BDRxD",
        "outputId": "4c0e714b-ff9b-4acf-b26d-c331598dfb86"
      },
      "execution_count": 47,
      "outputs": [
        {
          "output_type": "execute_result",
          "data": {
            "text/plain": [
              "'3.14 is almost pi'"
            ],
            "application/vnd.google.colaboratory.intrinsic+json": {
              "type": "string"
            }
          },
          "metadata": {},
          "execution_count": 47
        }
      ]
    },
    {
      "cell_type": "code",
      "execution_count": 46,
      "metadata": {
        "id": "lzZ3ND2-8_08",
        "colab": {
          "base_uri": "https://localhost:8080/"
        },
        "outputId": "cee28e38-a79f-4525-aceb-f4f52e955536"
      },
      "outputs": [
        {
          "output_type": "execute_result",
          "data": {
            "text/plain": [
              "str"
            ]
          },
          "metadata": {},
          "execution_count": 46
        }
      ],
      "source": [
        "type(str(3.14))"
      ]
    },
    {
      "cell_type": "markdown",
      "metadata": {
        "id": "PU_QG2Ow8_08"
      },
      "source": [
        "A string is, well, a list of characters, - so \"`for`\" can iterate over that too:"
      ]
    },
    {
      "cell_type": "code",
      "execution_count": 48,
      "metadata": {
        "id": "WDuVs1dw8_08",
        "colab": {
          "base_uri": "https://localhost:8080/"
        },
        "outputId": "ebc25273-3afb-43cf-d872-2c6580c4c955"
      },
      "outputs": [
        {
          "output_type": "stream",
          "name": "stdout",
          "text": [
            "Let me hear you say Y.M.C.A.  Let me hear you say Y.M.C.A.  \n"
          ]
        }
      ],
      "source": [
        "lyric = \"\"\n",
        "for _ in range(2):\n",
        "    lyric += \"Let me hear you say \"\n",
        "    for character in \"YMCA\":\n",
        "        lyric += character + '.'\n",
        "    lyric += \"  \"\n",
        "print(lyric)"
      ]
    },
    {
      "cell_type": "markdown",
      "metadata": {
        "id": "cQqAekwj8_08"
      },
      "source": [
        "Note the '`for character in \"YMCA\"`'. We also snuck in a nested loop - you just keep indenting each time you nest - no more complicated than that.\n",
        "\n",
        "And, a new operator has appeared: \"`+=`\". Familiar to most languages it is equivalent to `lyric = lyric + blah`. Note that we therefore have to have `lyric` defined before the first `+=`, as \"`lyric = lyric + anything`\" doesn't make sense if `lyric` does not already exist. This is the reason for our first line: \"`lyric = \"\"`\".\n",
        "\n",
        "Finally, note that we have looped twice using `range`, just as above, but our loop variable `i` is never used - it is effectively a placeholder. All we want from that line is to have the body below run twice.\n",
        "\n",
        "*Sidenote*: some people use an underscore \"`_`\" as a loop variable in this case, to indicate to someone reading that the variable is nothing more than that and never used - as far as Python is concerned, \"`_`\" is as good a name for a variable as any other, so this is entirely about readability."
      ]
    },
    {
      "cell_type": "markdown",
      "metadata": {
        "id": "dou_gOrF8_08"
      },
      "source": [
        "Just to prove that \"`for`\" will iterate over any list, numeric, string or otherwise, we can try it with our todo list:"
      ]
    },
    {
      "cell_type": "code",
      "execution_count": 49,
      "metadata": {
        "id": "3rq9-ldP8_09",
        "colab": {
          "base_uri": "https://localhost:8080/"
        },
        "outputId": "bf21dd27-62f3-4373-8c45-e35337dbcefc"
      },
      "outputs": [
        {
          "output_type": "stream",
          "name": "stdout",
          "text": [
            "Learn Python :\n",
            "  using Python, this task will take 12 months to complete\n",
            "Finish PhD :\n",
            "  using Python, this task will take 10 months to complete\n",
            "Publish research :\n",
            "  using Python, this task will take 16 months to complete\n",
            "Accept Nobel prize :\n",
            "  using Python, this task will take 18 months to complete\n",
            "Inspire a new generation :\n",
            "  using Python, this task will take 24 months to complete\n",
            "Find a nice retirement village in the Galapagos Islands :\n",
            "  using Python, this task will take 55 months to complete\n",
            "You cannot retire for at least 11 years\n"
          ]
        }
      ],
      "source": [
        "total_months = 0\n",
        "for task in things_to_do:\n",
        "    total_months += len(task)\n",
        "    print(task, \":\")\n",
        "    print(\"  using Python, this task will take\", len(task), \"months to complete\")\n",
        "print(\"You cannot retire for at least\", total_months // 12, \"years\")"
      ]
    },
    {
      "cell_type": "markdown",
      "metadata": {
        "id": "m6HIGFDi8_09"
      },
      "source": [
        "Here we have added one or two minor surprises. One is the *horrendously* misleading use of *len* (hint: you are unlikely to get a Nobel Prize by 2020), which in reality calculates the number of items in any \"`iterable`\". Reminder: this is the general term for something sort-of-list-like. According to my script, tasks take as long as the number of items in their \"list\", i.e. characters in the string.\n",
        "\n",
        "Another aspect is the double slash. This is an important difference between Python3 and Python2 (and many other languages). [Dividing non-divisible integers](https://en.wikipedia.org/wiki/Division_%28mathematics%29#Of_integers) with one slash, as normal, gives a float in Python3. If you want to get an integer (that is, whatever the float answer is with the decimal chopped off), you can use double-slash. Try removing the second slash and re-running to see the exact non-integer answer. In Python2, using one slash *always* gives an integer, unless you cast the bottom or top to a float (as in C, say)."
      ]
    },
    {
      "cell_type": "markdown",
      "metadata": {
        "id": "roYOgeCt8_09"
      },
      "source": [
        "While we have looked at strings and lists, and one or two of their methods - functions within individual string and list objects - there are a few dictionary ones that are relevant to loops too."
      ]
    },
    {
      "cell_type": "code",
      "execution_count": 50,
      "metadata": {
        "id": "irG0Fr2X8_09",
        "colab": {
          "base_uri": "https://localhost:8080/"
        },
        "outputId": "45683f6e-4f49-45cd-c730-bf6378c56997"
      },
      "outputs": [
        {
          "output_type": "stream",
          "name": "stdout",
          "text": [
            "first name\n",
            "favourite number\n",
            "favourite programming language\n",
            "3\n",
            "Interests\n"
          ]
        }
      ],
      "source": [
        "for field in my_meetup_dot_com_profile.keys():\n",
        "    print(field)"
      ]
    },
    {
      "cell_type": "code",
      "execution_count": 51,
      "metadata": {
        "id": "Liul1ycz8_09",
        "colab": {
          "base_uri": "https://localhost:8080/"
        },
        "outputId": "15dabff3-ae92-4e47-e05f-0ef7d86bd39d"
      },
      "outputs": [
        {
          "output_type": "stream",
          "name": "stdout",
          "text": [
            "Ignatius\n",
            "9\n",
            "FORTRAN66\n",
            "is the magic number\n",
            "['Python2', 'Python3', 'Scientific Python', 'Pottery']\n"
          ]
        }
      ],
      "source": [
        "for value in my_meetup_dot_com_profile.values():\n",
        "    print(value)"
      ]
    },
    {
      "cell_type": "code",
      "execution_count": 52,
      "metadata": {
        "id": "e4vlEUYK8_09",
        "colab": {
          "base_uri": "https://localhost:8080/"
        },
        "outputId": "329dde76-87a9-4d2d-9ebf-f739e96c989d"
      },
      "outputs": [
        {
          "output_type": "stream",
          "name": "stdout",
          "text": [
            "first name = Ignatius\n",
            "favourite number = 9\n",
            "favourite programming language = FORTRAN66\n",
            "3 = is the magic number\n",
            "Interests = ['Python2', 'Python3', 'Scientific Python', 'Pottery']\n"
          ]
        }
      ],
      "source": [
        "for pair in my_meetup_dot_com_profile.items():\n",
        "    print(pair[0], \"=\", pair[1])"
      ]
    },
    {
      "cell_type": "markdown",
      "metadata": {
        "id": "9saRnZPr8_09"
      },
      "source": [
        "#### Advanced Note\n",
        "\n",
        "If you know the number of values being assigned to a pair (or triple, etc.), you can comma-separate multiple new variable names to assign them all at once in the `for` loop, instead of having to manually assign them human-readable names afterwards."
      ]
    },
    {
      "cell_type": "code",
      "execution_count": 53,
      "metadata": {
        "id": "chY2U8st8_09",
        "colab": {
          "base_uri": "https://localhost:8080/"
        },
        "outputId": "19338d17-49b8-4e2e-80d8-3b9a38f0c1ca"
      },
      "outputs": [
        {
          "output_type": "stream",
          "name": "stdout",
          "text": [
            "key1 = 123 short\n",
            "key2 = 234 short\n",
            "key3 = 345 short\n",
            "key1 = 123 long\n",
            "key2 = 234 long\n",
            "key3 = 345 long\n",
            "...or even nested...\n",
            "key1 = 1 2 3\n",
            "key2 = a b c\n",
            "key3 = do re mi\n"
          ]
        }
      ],
      "source": [
        "my_dict = {'key1': 123, 'key2': 234, 'key3': 345}\n",
        "\n",
        "for key, value in my_dict.items():\n",
        "    print(key, '=', value, 'short')\n",
        "\n",
        "# is the same as\n",
        "\n",
        "for pair in my_dict.items():\n",
        "    key = pair[0]\n",
        "    value = pair[1]\n",
        "    print(key, '=', value, 'long')\n",
        "\n",
        "print('...or even nested...')\n",
        "\n",
        "my_dict = {'key1': [1, 2, 3], 'key2': ['a', 'b', 'c'], 'key3': ['do', 're', 'mi']}\n",
        "\n",
        "for key, (first, another, yet_another) in my_dict.items():\n",
        "    print(key, '=', first, another, yet_another)"
      ]
    },
    {
      "cell_type": "markdown",
      "metadata": {
        "id": "aVCgQjVD8_09"
      },
      "source": [
        "In fact, any standard form of assignment allows for this:"
      ]
    },
    {
      "cell_type": "code",
      "execution_count": 54,
      "metadata": {
        "id": "6b-p0oap8_09",
        "colab": {
          "base_uri": "https://localhost:8080/"
        },
        "outputId": "d4fc10f2-cf3a-4af3-8aff-b70dc1666f3f"
      },
      "outputs": [
        {
          "output_type": "stream",
          "name": "stdout",
          "text": [
            "stalk flesh\n"
          ]
        }
      ],
      "source": [
        "pear = ['stalk', 'flesh']\n",
        "# Assigning a group variables at once\n",
        "this, that = pear\n",
        "print(this, that)"
      ]
    },
    {
      "cell_type": "markdown",
      "metadata": {
        "id": "aziQnC9y8_09"
      },
      "source": [
        "# Exercise: Strung together"
      ]
    },
    {
      "cell_type": "markdown",
      "metadata": {
        "id": "m-bbSz7x8_09"
      },
      "source": [
        "Use the cell below to create a function that takes a dictionary as an argument (like `name` and `age` were in an earlier example), and returns a new dictionary, with the same keys, but where each original item has been converted to a string.\n",
        "\n",
        "Any items of a ``list`` type should become a single string with entries separated by commas and no brackets at either side (e.g. \"one, two, kumquat, four\").\n",
        "\n",
        "Call your function with \"**`my_meetup_dot_com_profile`**\" as an argument and print each entry on a separate line like so:\n",
        "\n",
        "    FAVOURITE PROGRAMMING LANGUAGE : FORTRAN66\n",
        "    FIRST NAME : Ignatius\n",
        "    ...\n",
        "\n",
        "where each key is capitalized and item value printed beside it. The order of lines is not important."
      ]
    },
    {
      "cell_type": "code",
      "execution_count": 57,
      "metadata": {
        "id": "sJxBVfTh8_09",
        "colab": {
          "base_uri": "https://localhost:8080/"
        },
        "outputId": "1a81ac20-4ea3-4cd9-a45c-07c945714933"
      },
      "outputs": [
        {
          "output_type": "stream",
          "name": "stdout",
          "text": [
            "{'first name': 'Ignatius', 'favourite number': 9, 'favourite programming language': 'FORTRAN66', 3: 'is the magic number', 'Interests': ['Python2', 'Python3', 'Scientific Python', 'Pottery']}\n"
          ]
        }
      ],
      "source": [
        "# Use this cell\n",
        "\n",
        "def create_dict_from_lists(dictt):\n",
        "    keys_list = list(dictt.keys())\n",
        "    values_list = list(dictt.values())\n",
        "    if len(keys_list) != len(values_list):\n",
        "        print(\"Warning: Lists have different lengths. Returning empty dictionary.\")\n",
        "        return {}\n",
        "\n",
        "    result_dict = {}\n",
        "    for i in range(len(keys_list)):\n",
        "        result_dict[keys_list[i]] = values_list[i]\n",
        "\n",
        "    return result_dict\n",
        "\n",
        "result = create_dict_from_lists(my_meetup_dot_com_profile)\n",
        "print(result)\n"
      ]
    },
    {
      "cell_type": "markdown",
      "metadata": {
        "id": "SdN4b_Xo8_09"
      },
      "source": [
        "Note that you can create a blank dictionary with \"`= {}`\".\n",
        "Extension: if you get that done quickly, try making your function call itself on any (nested) items it finds of `dict` type, and turn the output into the string-value you need for your new dictionary. This is \"recursion\".\n",
        "\n",
        "Set\n",
        "```\n",
        "   my_meetup_dot_com_profile['dogs'] = {\"Freddie\": 5, \"Nitwit\": \"also a dog\"}\n",
        "```\n",
        "and run your function on \"**`my_meetup_dot_com_profile`**\" again to test your improvement."
      ]
    },
    {
      "cell_type": "code",
      "execution_count": 59,
      "metadata": {
        "id": "LjL_PLJI8_09",
        "colab": {
          "base_uri": "https://localhost:8080/"
        },
        "outputId": "709098e7-7ad0-46b7-9a31-f6b9017ad678"
      },
      "outputs": [
        {
          "output_type": "stream",
          "name": "stdout",
          "text": [
            "FIRST NAME : Ignatius\n",
            "FAVOURITE NUMBER : 9\n",
            "FAVOURITE PROGRAMMING LANGUAGE : FORTRAN66\n",
            "3 : is the magic number\n",
            "INTERESTS : Python2, Python3, Scientific Python, Pottery\n",
            "DOGS : {'Freddie': '5', 'Nitwit': 'also a dog'}\n"
          ]
        }
      ],
      "source": [
        "# Use this cell\n",
        "\n",
        "import collections # Needed for checking OrderedDict type if used\n",
        "\n",
        "def convert_values_to_strings_recursive(input_dict):\n",
        "    output_dict = {}\n",
        "    for key, value in input_dict.items():\n",
        "        if isinstance(value, dict) or isinstance(value, collections.OrderedDict):\n",
        "            # If the value is a dictionary (or OrderedDict), recursively call the function\n",
        "            # and then convert the resulting dictionary to a string.\n",
        "            output_dict[key] = str(convert_values_to_strings_recursive(value))\n",
        "        elif isinstance(value, list):\n",
        "            # If the value is a list, join its elements into a comma-separated string.\n",
        "            # We convert each element to a string before joining in case of mixed types.\n",
        "            output_dict[key] = ', '.join(str(item) for item in value)\n",
        "        else:\n",
        "            # For all other types, simply convert the value to a string.\n",
        "            output_dict[key] = str(value)\n",
        "    return output_dict\n",
        "\n",
        "# Add the nested dictionary as requested in the exercise\n",
        "my_meetup_dot_com_profile['dogs'] = {\"Freddie\": 5, \"Nitwit\": \"also a dog\"}\n",
        "\n",
        "# Call the function on the modified dictionary\n",
        "stringified_profile = convert_values_to_strings_recursive(my_meetup_dot_com_profile)\n",
        "\n",
        "# Print the results as requested\n",
        "for key, value in stringified_profile.items():\n",
        "    print(str(key).upper(), \":\", value)\n"
      ]
    },
    {
      "cell_type": "markdown",
      "metadata": {
        "id": "x7ppJ5l88_09"
      },
      "source": [
        "### Exercise: Zipping Up\n",
        "\n",
        "Using a for loop, write code to take two lists (of, say, 6 elements each) and make a dictionary where the first list is the keys and the second is the values."
      ]
    },
    {
      "cell_type": "code",
      "execution_count": 64,
      "metadata": {
        "id": "usPtPNjM8_09",
        "colab": {
          "base_uri": "https://localhost:8080/"
        },
        "outputId": "88b38c85-cb0e-4f24-fba4-d8520ae4b1ef"
      },
      "outputs": [
        {
          "output_type": "stream",
          "name": "stdout",
          "text": [
            "{'a': 1, 'b': 2, 'c': 3}\n"
          ]
        }
      ],
      "source": [
        "# Loop through them to make a dictionary, where the first list is the keys,\n",
        "# and the second list is the values.\n",
        "# You might want to make this into a function where the first argument is\n",
        "# the first list, and the second argument is the second list\n",
        "\n",
        "def create_dict_from_lists_simple(keys, values):\n",
        "    result = {}\n",
        "    if len(keys) != len(values):\n",
        "        print(\"Warning: List lengths differ.\")\n",
        "        return {}\n",
        "    for i in range(len(keys)):\n",
        "        result[keys[i]] = values[i]\n",
        "    return result\n",
        "\n",
        "my_list_of_keys = ['a', 'b', 'c']\n",
        "my_list_of_values = [1, 2, 3]\n",
        "my_dict = create_dict_from_lists_simple(my_list_of_keys, my_list_of_values)\n",
        "print(my_dict)"
      ]
    },
    {
      "cell_type": "markdown",
      "metadata": {
        "id": "0pWxEerI8_09"
      },
      "source": [
        "A handy function Python provides is `zip` - it lets you take multiple iterables, and pair them together in sequence:"
      ]
    },
    {
      "cell_type": "code",
      "execution_count": 65,
      "metadata": {
        "id": "KSLcYFLa8_09",
        "colab": {
          "base_uri": "https://localhost:8080/"
        },
        "outputId": "89e7af93-6329-4b61-e92c-620022bf864d"
      },
      "outputs": [
        {
          "output_type": "stream",
          "name": "stdout",
          "text": [
            "<zip object at 0x7cd6f45c47c0>\n"
          ]
        },
        {
          "output_type": "execute_result",
          "data": {
            "text/plain": [
              "[('a', 1), ('b', 2), ('c', 3)]"
            ]
          },
          "metadata": {},
          "execution_count": 65
        }
      ],
      "source": [
        "my_zip = zip(my_list_of_keys, my_list_of_values)\n",
        "print(my_zip)\n",
        "list(my_zip)"
      ]
    },
    {
      "cell_type": "markdown",
      "metadata": {
        "id": "OB9N-SHJ8_09"
      },
      "source": [
        "Above you might notice that `zip` returns a variable of type `zip` - to get a printable list, we have to \"cast\" it to a list. Why would the Python architects give us a function that returns a type that is so specific to the function? What advantage could a `zip` type have over a `list` type?"
      ]
    },
    {
      "cell_type": "markdown",
      "metadata": {
        "id": "7fX2cnbL8_0-"
      },
      "source": [
        "The other approach to printing this, without casting it, is to use... `print`"
      ]
    },
    {
      "cell_type": "code",
      "execution_count": 66,
      "metadata": {
        "id": "G9esKwTO8_0-",
        "colab": {
          "base_uri": "https://localhost:8080/"
        },
        "outputId": "581006d4-ba4d-47bd-8981-6737428f8812"
      },
      "outputs": [
        {
          "output_type": "stream",
          "name": "stdout",
          "text": [
            "('a', 1) ('b', 2) ('c', 3)\n"
          ]
        }
      ],
      "source": [
        "my_zip = zip(my_list_of_keys, my_list_of_values)\n",
        "print(*my_zip)"
      ]
    },
    {
      "cell_type": "markdown",
      "metadata": {
        "id": "aCgwrpYn8_0-"
      },
      "source": [
        "A new bit of syntax slipped in here! This is a spread operator, a little like other languages (e.g. `f(&args...)` in C++11) -- it takes an iterable (something you can loop through) and sets each value to a new argument."
      ]
    },
    {
      "cell_type": "code",
      "execution_count": 67,
      "metadata": {
        "id": "W5fT6zxm8_0-",
        "colab": {
          "base_uri": "https://localhost:8080/"
        },
        "outputId": "f911adbe-43bc-4836-dcec-800124994b4a"
      },
      "outputs": [
        {
          "output_type": "execute_result",
          "data": {
            "text/plain": [
              "range(1, 3, 5)"
            ]
          },
          "metadata": {},
          "execution_count": 67
        }
      ],
      "source": [
        "args = [1, 3, 5]\n",
        "range(*args)"
      ]
    },
    {
      "cell_type": "markdown",
      "metadata": {
        "id": "VgvNUEMI8_0-"
      },
      "source": [
        "If you're feeling _very_ smart, see if you can think why this `print` does not print anything..."
      ]
    },
    {
      "cell_type": "code",
      "execution_count": 68,
      "metadata": {
        "id": "u7ZnnVAE8_0-",
        "colab": {
          "base_uri": "https://localhost:8080/"
        },
        "outputId": "61057b49-33c2-4618-cfaa-d85b65139dfb"
      },
      "outputs": [
        {
          "output_type": "stream",
          "name": "stdout",
          "text": [
            "\n"
          ]
        }
      ],
      "source": [
        "print(*my_zip)   #reason : Iterators can only be consumed once"
      ]
    },
    {
      "cell_type": "markdown",
      "metadata": {
        "id": "o6goCKRF8_0-"
      },
      "source": [
        "Here's another handy way to use `zip`..."
      ]
    },
    {
      "cell_type": "code",
      "execution_count": 69,
      "metadata": {
        "id": "uiGUt1_C8_0-",
        "colab": {
          "base_uri": "https://localhost:8080/"
        },
        "outputId": "53b63e3b-adbb-47a9-d1a6-d0692ba646ec"
      },
      "outputs": [
        {
          "output_type": "execute_result",
          "data": {
            "text/plain": [
              "{'a': 1, 'b': 2, 'c': 3}"
            ]
          },
          "metadata": {},
          "execution_count": 69
        }
      ],
      "source": [
        "dict(zip(my_list_of_keys, my_list_of_values))"
      ]
    },
    {
      "cell_type": "markdown",
      "metadata": {
        "id": "2FQzvDlN8_0-"
      },
      "source": [
        "Can you think how to create the same dictionary using only the dict function and some lists?"
      ]
    },
    {
      "cell_type": "code",
      "execution_count": 70,
      "metadata": {
        "id": "4p3xobfQ8_0-",
        "colab": {
          "base_uri": "https://localhost:8080/"
        },
        "outputId": "9217eba8-08af-49fa-ebab-6682b6f778ad"
      },
      "outputs": [
        {
          "output_type": "stream",
          "name": "stdout",
          "text": [
            "{'a': 1, 'b': 2, 'c': 3}\n"
          ]
        }
      ],
      "source": [
        "my_list_of_keys = ['a', 'b', 'c']\n",
        "my_list_of_values = [1, 2, 3]\n",
        "\n",
        "# Manually create a list of key-value tuples\n",
        "list_of_pairs = [('a', 1), ('b', 2), ('c', 3)]\n",
        "\n",
        "# Create the dictionary using the dict() constructor with the list of tuples\n",
        "my_dict_from_list = dict(list_of_pairs)\n",
        "\n",
        "print(my_dict_from_list)\n"
      ]
    },
    {
      "cell_type": "markdown",
      "metadata": {
        "id": "cyvpOt8n8_0-"
      },
      "source": [
        "For mathematicians, you can think of this like a transpose function, as if it were swapping rows and columns in a matrix."
      ]
    },
    {
      "cell_type": "code",
      "execution_count": 71,
      "metadata": {
        "id": "__fuST6b8_0-",
        "colab": {
          "base_uri": "https://localhost:8080/"
        },
        "outputId": "489661af-f3f4-450d-a23f-9849578c0256"
      },
      "outputs": [
        {
          "output_type": "stream",
          "name": "stdout",
          "text": [
            "['a', 'b', 'c'] [1, 2, 3]\n"
          ]
        },
        {
          "output_type": "execute_result",
          "data": {
            "text/plain": [
              "[('a', 1), ('b', 2), ('c', 3)]"
            ]
          },
          "metadata": {},
          "execution_count": 71
        }
      ],
      "source": [
        "print(my_list_of_keys, my_list_of_values)\n",
        "list(zip(my_list_of_keys, my_list_of_values))"
      ]
    },
    {
      "cell_type": "markdown",
      "metadata": {
        "id": "CpACdbQ98_0-"
      },
      "source": [
        "# Modules\n",
        "\n",
        "## Gotta catch em all"
      ]
    },
    {
      "cell_type": "markdown",
      "metadata": {
        "id": "NLRsAkeT8_0-"
      },
      "source": [
        "## Introduction to modules"
      ]
    },
    {
      "cell_type": "markdown",
      "metadata": {
        "id": "RNxrNZwx8_0-"
      },
      "source": [
        "* Where Python gets its power"
      ]
    },
    {
      "cell_type": "markdown",
      "metadata": {
        "id": "4NZ2UMbZ8_0-"
      },
      "source": [
        "Wealth of modules providing everything from full GUI toolkits to astrophysics simulations. Mature and reliable numerics libraries, and an evolving ecosystem that grows day by day"
      ]
    },
    {
      "cell_type": "markdown",
      "metadata": {
        "id": "F0dqfbSR8_0_"
      },
      "source": [
        "* Some modules come bundled, but you can install many more"
      ]
    },
    {
      "cell_type": "markdown",
      "metadata": {
        "id": "SZFsEYLz8_0_"
      },
      "source": [
        "Python has tools so you can just specify the name and it will get it from the appropriate online repository. On Windows, this can be tricky, but a recent Python distribution, Anaconda, makes it easy, and includes thousands of packages out of the box. This seems your best bet if on Windows or Mac and I have USB sticks here for you to get going at the end of the day."
      ]
    },
    {
      "cell_type": "markdown",
      "metadata": {
        "id": "9TX-6wjw8_0_"
      },
      "source": [
        "* Some are part of Python, lots are third-party"
      ]
    },
    {
      "cell_type": "markdown",
      "metadata": {
        "id": "ZbBeaAuC8_0_"
      },
      "source": [
        "It is good to have an idea of which is which, as you can get (normally free) help, often at pretty short notice, by heading to the project's forums - remember, always be polite and, bear in mind, it isn't a commercial service, so an answer isn't guaranteed. For reference, when someone is really desperate they can offer a bounty for a solution or a bit of code on certain websites, not to mention people offering consultancy support, so that doesn't entirely mean there are no other options, but most of the time what's freely available is more than adequate."
      ]
    },
    {
      "cell_type": "markdown",
      "metadata": {
        "id": "1zpx9gU08_0_"
      },
      "source": [
        "## Using modules"
      ]
    },
    {
      "cell_type": "markdown",
      "metadata": {
        "id": "OAY4Sf2N8_0_"
      },
      "source": [
        "First off, you *import* a module. This tells Python that it should hoke it out of its cave of treasures for upcoming use..."
      ]
    },
    {
      "cell_type": "code",
      "execution_count": 72,
      "metadata": {
        "id": "0Cb075YC8_0_"
      },
      "outputs": [],
      "source": [
        "import math"
      ]
    },
    {
      "cell_type": "markdown",
      "metadata": {
        "id": "7GpSvoAt8_0_"
      },
      "source": [
        "This brings in a whole set of tools for dealing with basic mathematics. (so execute it!)"
      ]
    },
    {
      "cell_type": "markdown",
      "metadata": {
        "id": "ggycMDwG8_0_"
      },
      "source": [
        "We reach into this with a dot..."
      ]
    },
    {
      "cell_type": "code",
      "execution_count": 73,
      "metadata": {
        "id": "S_Xkpi328_0_",
        "colab": {
          "base_uri": "https://localhost:8080/"
        },
        "outputId": "7bdd3d95-758b-4769-cea6-3da4df32cc00"
      },
      "outputs": [
        {
          "output_type": "execute_result",
          "data": {
            "text/plain": [
              "3.141592653589793"
            ]
          },
          "metadata": {},
          "execution_count": 73
        }
      ],
      "source": [
        "math.pi"
      ]
    },
    {
      "cell_type": "markdown",
      "metadata": {
        "id": "xROnvkO78_0_"
      },
      "source": [
        "It has functions and constants..."
      ]
    },
    {
      "cell_type": "code",
      "execution_count": 74,
      "metadata": {
        "scrolled": true,
        "id": "UdJT1O1-8_0_",
        "colab": {
          "base_uri": "https://localhost:8080/"
        },
        "outputId": "540e5e8e-b530-4770-d015-a7b345c3b259"
      },
      "outputs": [
        {
          "output_type": "execute_result",
          "data": {
            "text/plain": [
              "1.0"
            ]
          },
          "metadata": {},
          "execution_count": 74
        }
      ],
      "source": [
        "math.sin(math.pi / 2)"
      ]
    },
    {
      "cell_type": "markdown",
      "metadata": {
        "id": "RKRqr3Tj8_0_"
      },
      "source": [
        "So how do you find out what is available in `math`? Like before, Google `python3 math`... try it now:\n",
        "https://www.google.ie/search?q=python3+math (this is just the Google search link)"
      ]
    },
    {
      "cell_type": "markdown",
      "metadata": {
        "id": "8iOa31228_0_"
      },
      "source": [
        "For me, the closest version of Python was actually the second link (for Python 3.5) - normally, minor version differences are rarely a problem, but if what you see seems different to the manual, just add Google for \"`python 3.4 math`\", or whatever. To check the current version that Jupyter is using, go to `Help->About`."
      ]
    },
    {
      "cell_type": "markdown",
      "metadata": {
        "id": "iwu1UB-j8_0_"
      },
      "source": [
        "Another useful one is `os`..."
      ]
    },
    {
      "cell_type": "code",
      "execution_count": 75,
      "metadata": {
        "id": "PBO61JqE8_1A",
        "colab": {
          "base_uri": "https://localhost:8080/"
        },
        "outputId": "97c7b6ae-750f-4e49-e433-ecbd47efc521"
      },
      "outputs": [
        {
          "output_type": "stream",
          "name": "stdout",
          "text": [
            "False\n"
          ]
        }
      ],
      "source": [
        "import os\n",
        "print(os.path.exists('/usr/bin/python'))"
      ]
    },
    {
      "cell_type": "markdown",
      "metadata": {
        "id": "oi8etEJS8_1A"
      },
      "source": [
        "This is in fact using a submodule, `os.path`, we can reach in twice to get functions inside that."
      ]
    },
    {
      "cell_type": "markdown",
      "metadata": {
        "id": "ihgXn-Io8_1A"
      },
      "source": [
        "Also `sys`..."
      ]
    },
    {
      "cell_type": "code",
      "execution_count": 76,
      "metadata": {
        "id": "vxALwpNk8_1A",
        "colab": {
          "base_uri": "https://localhost:8080/"
        },
        "outputId": "33bbfc0f-12d8-4250-b132-57d2acd14e73"
      },
      "outputs": [
        {
          "output_type": "stream",
          "name": "stdout",
          "text": [
            "['/content', '/env/python', '/usr/lib/python311.zip', '/usr/lib/python3.11', '/usr/lib/python3.11/lib-dynload', '', '/usr/local/lib/python3.11/dist-packages', '/usr/lib/python3/dist-packages', '/usr/local/lib/python3.11/dist-packages/IPython/extensions', '/root/.ipython']\n"
          ]
        }
      ],
      "source": [
        "import sys\n",
        "print(sys.path)\n",
        "# sys.exit(1)  # Exit with error code 1"
      ]
    },
    {
      "cell_type": "markdown",
      "metadata": {
        "id": "4XIJnmHY8_1A"
      },
      "source": [
        "The last command tells your script to exit, with code 1. I don't really want to try that right now, as whatever happens won't be good."
      ]
    },
    {
      "cell_type": "markdown",
      "metadata": {
        "id": "vGckz4qu8_1A"
      },
      "source": [
        "## There are four key variants of importing\n",
        "\n",
        "### You will see all four, so check back here"
      ]
    },
    {
      "cell_type": "code",
      "execution_count": 77,
      "metadata": {
        "scrolled": true,
        "id": "gTMqqkmg8_1A",
        "colab": {
          "base_uri": "https://localhost:8080/"
        },
        "outputId": "6b915689-65d6-4ad4-a758-cfcfd4478b80"
      },
      "outputs": [
        {
          "output_type": "stream",
          "name": "stdout",
          "text": [
            "2.718281828459045\n"
          ]
        }
      ],
      "source": [
        "import math\n",
        "print(math.e)"
      ]
    },
    {
      "cell_type": "markdown",
      "metadata": {
        "id": "2Zac9XmJ8_1A"
      },
      "source": [
        "This is the most succint as it just dumps everything in the `math` module into the global namespace, which saves much typing, but it can make debugging a headache, especially if there are some strange functions or variables in there that happen to have the same name as something else you later decide to use (this does happen from time to time)"
      ]
    },
    {
      "cell_type": "code",
      "execution_count": 78,
      "metadata": {
        "id": "hK0AXJFM8_1A",
        "colab": {
          "base_uri": "https://localhost:8080/"
        },
        "outputId": "03767924-462a-44ee-9292-f5115a7d5ca0"
      },
      "outputs": [
        {
          "output_type": "stream",
          "name": "stdout",
          "text": [
            "2.718281828459045\n"
          ]
        }
      ],
      "source": [
        "import math as m\n",
        "print(m.e)"
      ]
    },
    {
      "cell_type": "markdown",
      "metadata": {
        "id": "oGbjaxAt8_1A"
      },
      "source": [
        "...we've seen that..."
      ]
    },
    {
      "cell_type": "code",
      "execution_count": 79,
      "metadata": {
        "id": "m5svxOph8_1A",
        "colab": {
          "base_uri": "https://localhost:8080/"
        },
        "outputId": "d2c39955-d0d8-4899-b9f8-7706ce26d532"
      },
      "outputs": [
        {
          "output_type": "stream",
          "name": "stdout",
          "text": [
            "2.718281828459045\n"
          ]
        }
      ],
      "source": [
        "from math import e\n",
        "print(e)"
      ]
    },
    {
      "cell_type": "markdown",
      "metadata": {
        "id": "LJgs2I1c8_1A"
      },
      "source": [
        "...in other words, give `math` an alias..."
      ]
    },
    {
      "cell_type": "code",
      "execution_count": 80,
      "metadata": {
        "id": "bWVwVjZH8_1A",
        "colab": {
          "base_uri": "https://localhost:8080/"
        },
        "outputId": "0d33f603-b617-49f5-f60a-805209ec1d53"
      },
      "outputs": [
        {
          "output_type": "stream",
          "name": "stdout",
          "text": [
            "sin(3)\n"
          ]
        }
      ],
      "source": [
        "from math import *\n",
        "from sympy import *\n",
        "print(sin(3))"
      ]
    },
    {
      "cell_type": "markdown",
      "metadata": {
        "id": "eB8uSDj28_1A"
      },
      "source": [
        "...which saves some typing if you're *sure* you don't want to use any other variable called `e`..."
      ]
    },
    {
      "cell_type": "markdown",
      "metadata": {
        "id": "xCFX6HDR8_1A"
      },
      "source": [
        "## We are near the end of the walk-through\n",
        "\n",
        "Feel free to go back and forward through this. I am going to give you one final task to get you started on this topic..."
      ]
    },
    {
      "cell_type": "markdown",
      "metadata": {
        "id": "6KLiVYqF8_1A"
      },
      "source": [
        "Remember your line number from Etherpad? If not, it should be in variable `x`..."
      ]
    },
    {
      "cell_type": "code",
      "execution_count": 81,
      "metadata": {
        "id": "7G1hUwVO8_1A",
        "colab": {
          "base_uri": "https://localhost:8080/"
        },
        "outputId": "55d0e7e6-abb5-41b8-f6af-96d39c9f01d5"
      },
      "outputs": [
        {
          "output_type": "stream",
          "name": "stdout",
          "text": [
            "I am on line number 15\n"
          ]
        }
      ],
      "source": [
        "print(\"I am on line number\", x)"
      ]
    },
    {
      "cell_type": "markdown",
      "metadata": {
        "id": "SxvrV9Fa8_1A"
      },
      "source": [
        "But double-check Etherpad..."
      ]
    },
    {
      "cell_type": "markdown",
      "metadata": {
        "id": "F6KIHx-C8_1B"
      },
      "source": [
        "Remember the post-its? So, everybody stick your star post-it somewhere I can see it..."
      ]
    },
    {
      "cell_type": "markdown",
      "metadata": {
        "id": "Tv_w6eUA8_1B"
      },
      "source": [
        "Your task is to write a Jupyter cell to give you the $x^{th}$ digit of $pi$ and **write the digit at the start of that Etherpad line**, the one with your name on it. In particular, try and do this, just using `x`, without typing the number in directly. Then you can experiment to see if other numbers work too.\n",
        "\n",
        "There are several ways to do this... I've given you enough tools above to find at least one. If, when you get it working, no-one has described your approach on Etherpad, write a short description at the bottom of the notepad.\n",
        "\n",
        "When done, swap your star for an arrow."
      ]
    },
    {
      "cell_type": "code",
      "execution_count": 82,
      "metadata": {
        "id": "XLjzc9KQ8_1B",
        "colab": {
          "base_uri": "https://localhost:8080/"
        },
        "outputId": "aa0e052a-4800-495e-acaa-09fec21c817a"
      },
      "outputs": [
        {
          "output_type": "stream",
          "name": "stdout",
          "text": [
            "The 15th digit of pi after the decimal is: 3\n"
          ]
        }
      ],
      "source": [
        "# Overwrite this cell with your code and run it\n",
        "\n",
        "import math\n",
        "\n",
        "pi_str = str(math.pi)\n",
        "\n",
        "# Check if x is a valid index\n",
        "if x + 1 < len(pi_str):\n",
        "    xth_digit = pi_str[x + 1]\n",
        "    print(f\"The {x}th digit of pi after the decimal is: {xth_digit}\")\n",
        "else:\n",
        "    print(f\"Cannot find the {x}th digit of pi after the decimal. The string representation is not long enough.\")"
      ]
    },
    {
      "cell_type": "markdown",
      "metadata": {
        "id": "G9hHarW-8_1B"
      },
      "source": [
        "So, hopefully, you now have a calculator for the $x^{th}$ digit of $\\pi$. How can you use this without going back and editing the cell?"
      ]
    },
    {
      "cell_type": "markdown",
      "metadata": {
        "id": "DloF7eyf8_1B"
      },
      "source": [
        "Well... copy and paste your text below the line in the cell below:"
      ]
    },
    {
      "cell_type": "code",
      "execution_count": 83,
      "metadata": {
        "id": "bW1zHRXi8_1B"
      },
      "outputs": [],
      "source": [
        "def get_xth_digit_of_pi(x):\n",
        "  # Overwrite this cell with your code and run it\n",
        "\n",
        "  import math\n",
        "\n",
        "  pi_str = str(math.pi)\n",
        "\n",
        "  # Check if x is a valid index\n",
        "  if x + 1 < len(pi_str):\n",
        "      xth_digit = pi_str[x + 1]\n",
        "      print(f\"The {x}th digit of pi after the decimal is: {xth_digit}\")\n",
        "      return xth_digit\n",
        "  else:\n",
        "      print(f\"Cannot find the {x}th digit of pi after the decimal. The string representation is not long enough.\")\n"
      ]
    },
    {
      "cell_type": "markdown",
      "metadata": {
        "id": "WvUGhrfx8_1B"
      },
      "source": [
        "Now indent everything beneath the `def` line by four spaces and run it. You have just defined a function! If so, this should give you a `1`:"
      ]
    },
    {
      "cell_type": "code",
      "execution_count": 84,
      "metadata": {
        "id": "RQH_IRBd8_1B",
        "colab": {
          "base_uri": "https://localhost:8080/",
          "height": 53
        },
        "outputId": "dca8c1bf-8b15-4ecd-ff19-16871dbffa36"
      },
      "outputs": [
        {
          "output_type": "stream",
          "name": "stdout",
          "text": [
            "The 5th digit of pi after the decimal is: 9\n"
          ]
        },
        {
          "output_type": "execute_result",
          "data": {
            "text/plain": [
              "'9'"
            ],
            "application/vnd.google.colaboratory.intrinsic+json": {
              "type": "string"
            }
          },
          "metadata": {},
          "execution_count": 84
        }
      ],
      "source": [
        "get_xth_digit_of_pi(5)"
      ]
    },
    {
      "cell_type": "markdown",
      "metadata": {
        "id": "7lwbSt258_1B"
      },
      "source": [
        "If you had errors that don't make sense, try the chat window, try someone beside you (my normal approach in life) or ask me."
      ]
    },
    {
      "cell_type": "markdown",
      "metadata": {
        "id": "qvThBbW88_1B"
      },
      "source": [
        "# Pythonic\n",
        "## Walks like a Python..."
      ]
    },
    {
      "cell_type": "markdown",
      "metadata": {
        "id": "o8KDRhZf8_1B"
      },
      "source": [
        "This is a fundamental principle of Python and, unusually for something for fundamental, it isn't part of the code. Python is a bit like Ultimate Frisbee - in case you haven't had the pleasure, referees are not required, even in international competitions. This is on the basis that, if you're playing the sport, then you've decided you're there with the ethos, and the players can sort out those decisions amongst themselves and get on with the game. If you're trying to take advantage of that, then the fundamental question is, why play Ultimate Frisbee?"
      ]
    },
    {
      "cell_type": "markdown",
      "metadata": {
        "id": "tBRSgCiK8_1B"
      },
      "source": [
        "Good Python practice frequently diverges from what is commended in other languages. Succinctness or efficiency is not necessarily good - clarity comes before cleverness. However, using a pattern from previous experience when Python has a neater, more beautiful, more *Pythonic* way - that's something to try to avoid. The upshot of all this is that, when you come to what the community considers \"good code\", it is simple, elegant and clear."
      ]
    },
    {
      "cell_type": "markdown",
      "metadata": {
        "id": "oD69Jpq78_1B"
      },
      "source": [
        "## Not-so-Pythonic way:"
      ]
    },
    {
      "cell_type": "code",
      "execution_count": 85,
      "metadata": {
        "id": "stGLm4uW8_1B",
        "colab": {
          "base_uri": "https://localhost:8080/"
        },
        "outputId": "8ece8ce5-2f5b-423b-97af-df3ab0700862"
      },
      "outputs": [
        {
          "output_type": "stream",
          "name": "stdout",
          "text": [
            "Learn Python\n",
            "Finish PhD\n",
            "Publish research\n",
            "Accept Nobel prize\n",
            "Inspire a new generation\n",
            "Find a nice retirement village in the Galapagos Islands\n"
          ]
        }
      ],
      "source": [
        "for i in range(len(things_to_do)):\n",
        "    print(things_to_do[i])"
      ]
    },
    {
      "cell_type": "markdown",
      "metadata": {
        "id": "_EKjxzJo8_1B"
      },
      "source": [
        "## More Pythonic way:"
      ]
    },
    {
      "cell_type": "code",
      "execution_count": 86,
      "metadata": {
        "id": "zC9gtefO8_1B",
        "colab": {
          "base_uri": "https://localhost:8080/"
        },
        "outputId": "412b740b-b695-42d6-9445-056f0f8a9501"
      },
      "outputs": [
        {
          "output_type": "stream",
          "name": "stdout",
          "text": [
            "Learn Python\n",
            "Finish PhD\n",
            "Publish research\n",
            "Accept Nobel prize\n",
            "Inspire a new generation\n",
            "Find a nice retirement village in the Galapagos Islands\n"
          ]
        }
      ],
      "source": [
        "for task in things_to_do:\n",
        "    print(task)"
      ]
    },
    {
      "cell_type": "markdown",
      "metadata": {
        "id": "48F8l8n58_1B"
      },
      "source": [
        "Same output, but one feels more like pseudocode, more like how you would verbally convey the idea if somebody asked."
      ]
    },
    {
      "cell_type": "markdown",
      "metadata": {
        "id": "89Wt3Qwy8_1B"
      },
      "source": [
        "If you want to *get* what Python is about, try this (literally):"
      ]
    },
    {
      "cell_type": "code",
      "execution_count": 87,
      "metadata": {
        "id": "u-s2OYuH8_1C",
        "colab": {
          "base_uri": "https://localhost:8080/"
        },
        "outputId": "f0c6556d-6f75-4cdd-ec57-128d379972a6"
      },
      "outputs": [
        {
          "output_type": "stream",
          "name": "stdout",
          "text": [
            "The Zen of Python, by Tim Peters\n",
            "\n",
            "Beautiful is better than ugly.\n",
            "Explicit is better than implicit.\n",
            "Simple is better than complex.\n",
            "Complex is better than complicated.\n",
            "Flat is better than nested.\n",
            "Sparse is better than dense.\n",
            "Readability counts.\n",
            "Special cases aren't special enough to break the rules.\n",
            "Although practicality beats purity.\n",
            "Errors should never pass silently.\n",
            "Unless explicitly silenced.\n",
            "In the face of ambiguity, refuse the temptation to guess.\n",
            "There should be one-- and preferably only one --obvious way to do it.\n",
            "Although that way may not be obvious at first unless you're Dutch.\n",
            "Now is better than never.\n",
            "Although never is often better than *right* now.\n",
            "If the implementation is hard to explain, it's a bad idea.\n",
            "If the implementation is easy to explain, it may be a good idea.\n",
            "Namespaces are one honking great idea -- let's do more of those!\n"
          ]
        }
      ],
      "source": [
        "import this"
      ]
    },
    {
      "cell_type": "markdown",
      "metadata": {
        "id": "hriv-eWW8_1C"
      },
      "source": [
        "This is one of the hardest things to get when switching to Python, particularly from compiled languages, but it is one of Python's greatest rewards. Nothing much beats opening up a script you hacked together two years ago to see zen-like transparency - no confusion, beautifully professional, and thanks to Python's design, no extra time spent writing it, just a feel for what Pythonic *is*."
      ]
    },
    {
      "cell_type": "markdown",
      "metadata": {
        "id": "ZcZAdKKX8_1D"
      },
      "source": [
        "Going back to the pi example, here are a couple of approaches - which is more Pythonic?\n",
        "```\n",
        "1.\n",
        "    scaled_up = math.pi * (10 ** (x - 1))\n",
        "    higher_digits = 10 * (scaled_up // 10)\n",
        "    return int(scaled_up - higher_digits)\n",
        "\n",
        "2.\n",
        "    pi_as_str = str(math.pi)\n",
        "    if x == 1:\n",
        "        x = 0\n",
        "    return pi_as_str[x]\n",
        "```"
      ]
    },
    {
      "cell_type": "markdown",
      "metadata": {
        "id": "I7qlLglA8_1D"
      },
      "source": [
        "# A couple of resources..."
      ]
    },
    {
      "cell_type": "markdown",
      "metadata": {
        "id": "irknvBU08_1D"
      },
      "source": [
        "* If there is one link from this course to click: [What is Pythonic](http://blog.startifact.com/posts/older/what-is-pythonic.html)"
      ]
    },
    {
      "cell_type": "markdown",
      "metadata": {
        "id": "UD_4L0uu8_1D"
      },
      "source": [
        "* [PEP](https://www.python.org/dev/peps/pep-0008/) (Python Enhancement Proposal) 8 - code style"
      ]
    },
    {
      "cell_type": "markdown",
      "metadata": {
        "id": "eddCbsYX8_1D"
      },
      "source": [
        "These are publicly accessible design documents and nearly everything new of importance passes through here. PEP8 is, in fact, a style guide; unlike many languages, there is more or less a definitive recommended style, and this spells it out. Since I discovered *flake8* and *pylint*, I have my IDE set to highlight style errors and it has reaped dividends to the moon and back - I strongly recommend you do so too, especially if we ever have to code together."
      ]
    },
    {
      "cell_type": "markdown",
      "metadata": {
        "id": "rkBt_q9Q8_1D"
      },
      "source": [
        "# What about all the other structures??"
      ]
    },
    {
      "cell_type": "markdown",
      "metadata": {
        "id": "N5cbkZdA8_1D"
      },
      "source": [
        "Well, they are not so hard once you get this far:"
      ]
    },
    {
      "cell_type": "markdown",
      "metadata": {
        "id": "PyXvdj-S8_1D"
      },
      "source": [
        " but you'll come across them throughout today and tomorrow."
      ]
    },
    {
      "cell_type": "markdown",
      "metadata": {
        "id": "6D-CdAUk8_1D"
      },
      "source": [
        "* Most Python entities are objects, with methods like `obj.method(arg1, arg2)` (like routines in modules)"
      ]
    },
    {
      "cell_type": "markdown",
      "metadata": {
        "id": "RjKQCy6e8_1E"
      },
      "source": [
        "* Loops can be `while [SOME BOOLEAN]:`, as well as for"
      ]
    },
    {
      "cell_type": "markdown",
      "metadata": {
        "id": "8n7Ilsrc8_1E"
      },
      "source": [
        "* We will explore some actual modules after next"
      ]
    },
    {
      "cell_type": "markdown",
      "metadata": {
        "id": "k69M9US48_1E"
      },
      "source": [
        "* Generators put loops inside lists"
      ]
    },
    {
      "cell_type": "markdown",
      "metadata": {
        "id": "UITl20HY8_1E"
      },
      "source": [
        "# Summary"
      ]
    },
    {
      "cell_type": "markdown",
      "metadata": {
        "id": "QfR0qMs28_1E"
      },
      "source": [
        "* loops & conditionals"
      ]
    },
    {
      "cell_type": "markdown",
      "metadata": {
        "id": "4vhNgw4h8_1E"
      },
      "source": [
        "* lists & dictionaries"
      ]
    },
    {
      "cell_type": "markdown",
      "metadata": {
        "id": "-sBLxDts8_1E"
      },
      "source": [
        "* modules & functions"
      ]
    },
    {
      "cell_type": "markdown",
      "metadata": {
        "id": "zf0lJqzG8_1E"
      },
      "source": [
        "* methods on objects & \"Pythonic\""
      ]
    }
  ],
  "metadata": {
    "celltoolbar": "Slideshow",
    "kernelspec": {
      "display_name": "Python 3 (ipykernel)",
      "language": "python",
      "name": "python3"
    },
    "language_info": {
      "codemirror_mode": {
        "name": "ipython",
        "version": 3
      },
      "file_extension": ".py",
      "mimetype": "text/x-python",
      "name": "python",
      "nbconvert_exporter": "python",
      "pygments_lexer": "ipython3",
      "version": "3.11.6"
    },
    "livereveal": {
      "theme": "beige",
      "transition": "cascade"
    },
    "colab": {
      "provenance": []
    }
  },
  "nbformat": 4,
  "nbformat_minor": 0
}