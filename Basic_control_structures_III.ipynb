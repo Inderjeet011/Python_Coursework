{
  "cells": [
    {
      "cell_type": "markdown",
      "metadata": {
        "id": "hxDvfi0IOfWd"
      },
      "source": [
        "# Basic control structures and variables III\n",
        "\n",
        "## Why do you only have a hammer anyway?"
      ]
    },
    {
      "cell_type": "markdown",
      "metadata": {
        "id": "p_IdY98iOfWe"
      },
      "source": [
        "# Useful Modules"
      ]
    },
    {
      "cell_type": "markdown",
      "metadata": {
        "id": "R0tcEyvtOfWe"
      },
      "source": [
        "## collections"
      ]
    },
    {
      "cell_type": "markdown",
      "source": [
        "counter"
      ],
      "metadata": {
        "id": "9BFHFCiyUmio"
      }
    },
    {
      "cell_type": "code",
      "execution_count": 3,
      "metadata": {
        "id": "GUGTwkBHOfWe",
        "colab": {
          "base_uri": "https://localhost:8080/"
        },
        "outputId": "162ebe1c-867c-40e5-ba7d-343a5d2741d7"
      },
      "outputs": [
        {
          "output_type": "stream",
          "name": "stdout",
          "text": [
            "Counter({'a': 3, 'n': 2, 'b': 1})\n",
            "<class 'collections.Counter'>\n"
          ]
        }
      ],
      "source": [
        "from collections import Counter\n",
        "c = Counter('banana')\n",
        "print(c)\n",
        "print(type(c))"
      ]
    },
    {
      "cell_type": "code",
      "source": [
        "c[\"a\"]"
      ],
      "metadata": {
        "colab": {
          "base_uri": "https://localhost:8080/"
        },
        "id": "JVwi-fSkQjTL",
        "outputId": "9f0a9954-bc3e-4836-ec0c-f86e4040b158"
      },
      "execution_count": 4,
      "outputs": [
        {
          "output_type": "execute_result",
          "data": {
            "text/plain": [
              "3"
            ]
          },
          "metadata": {},
          "execution_count": 4
        }
      ]
    },
    {
      "cell_type": "markdown",
      "source": [
        "OrderDict"
      ],
      "metadata": {
        "id": "1gfe-vLDTug-"
      }
    },
    {
      "cell_type": "code",
      "source": [
        "from collections import OrderedDict\n",
        "tasks = OrderedDict()\n",
        "tasks[\"task1\"] = \"Wake up\"\n",
        "tasks[\"task2\"] = \"Brush teeth\"\n",
        "tasks[\"task3\"] = \"Have breakfast\""
      ],
      "metadata": {
        "id": "6GuycfUtTt1t"
      },
      "execution_count": 5,
      "outputs": []
    },
    {
      "cell_type": "code",
      "source": [
        "print(\"✅ Original order:\")\n",
        "for k, v in tasks.items():\n",
        "    print(v)"
      ],
      "metadata": {
        "colab": {
          "base_uri": "https://localhost:8080/"
        },
        "id": "tsoeTM-fT3Uf",
        "outputId": "03be5ad3-ee0f-4a94-9991-827b98a567e3"
      },
      "execution_count": 6,
      "outputs": [
        {
          "output_type": "stream",
          "name": "stdout",
          "text": [
            "✅ Original order:\n",
            "Wake up\n",
            "Brush teeth\n",
            "Have breakfast\n"
          ]
        }
      ]
    },
    {
      "cell_type": "code",
      "source": [
        "tasks.move_to_end(\"task3\", last=False)\n"
      ],
      "metadata": {
        "id": "pzvuKrAKUOmP"
      },
      "execution_count": 7,
      "outputs": []
    },
    {
      "cell_type": "code",
      "source": [
        "print(\"\\n After prioritizing breakfast:\")\n",
        "for k, v in tasks.items():\n",
        "    print(v)"
      ],
      "metadata": {
        "colab": {
          "base_uri": "https://localhost:8080/"
        },
        "id": "Ztggmnv9USB9",
        "outputId": "e58a2627-b496-4a93-a424-38a67998da1a"
      },
      "execution_count": 8,
      "outputs": [
        {
          "output_type": "stream",
          "name": "stdout",
          "text": [
            "\n",
            " After prioritizing breakfast:\n",
            "Have breakfast\n",
            "Wake up\n",
            "Brush teeth\n"
          ]
        }
      ]
    },
    {
      "cell_type": "markdown",
      "metadata": {
        "id": "3B_mSTrpOfWf"
      },
      "source": [
        "## contextlib"
      ]
    },
    {
      "cell_type": "code",
      "execution_count": 25,
      "metadata": {
        "id": "KxlrnPaNOfWf",
        "colab": {
          "base_uri": "https://localhost:8080/"
        },
        "outputId": "7029aed4-414d-4b3f-fd7f-59c95d34b291"
      },
      "outputs": [
        {
          "output_type": "stream",
          "name": "stdout",
          "text": [
            "File 'my_context_file.txt' has been created and written to.\n",
            "\n",
            "Attempting to open a non-existent file and suppressing the error:\n",
            "This message is printed even if the file was not found due to contextlib.suppress.\n"
          ]
        }
      ],
      "source": [
        "import contextlib\n",
        "\n",
        "# Example using a context manager for file handling\n",
        "with open(\"my_context_file.txt\", \"w\") as f:\n",
        "    f.write(\"This is written inside a context manager.\")\n",
        "\n",
        "print(\"File 'my_context_file.txt' has been created and written to.\")\n",
        "\n",
        "# Example of suppressing an exception\n",
        "print(\"\\nAttempting to open a non-existent file and suppressing the error:\")\n",
        "with contextlib.suppress(FileNotFoundError):\n",
        "    with open(\"non_existent_file_for_suppress.txt\", \"r\") as f:\n",
        "        content = f.read()\n",
        "        print(content)\n",
        "\n",
        "print(\"This message is printed even if the file was not found due to contextlib.suppress.\")"
      ]
    },
    {
      "cell_type": "markdown",
      "metadata": {
        "id": "cEtu1ei2OfWf"
      },
      "source": [
        "## requests"
      ]
    },
    {
      "cell_type": "code",
      "execution_count": 9,
      "metadata": {
        "id": "GwMqmOmNOfWf",
        "colab": {
          "base_uri": "https://localhost:8080/"
        },
        "outputId": "28eabb99-bc14-4cb0-e4ec-00daf599d814"
      },
      "outputs": [
        {
          "output_type": "stream",
          "name": "stdout",
          "text": [
            "Status Code: 200\n",
            "Title: sunt aut facere repellat provident occaecati excepturi optio reprehenderit\n",
            "Body: quia et suscipit\n",
            "suscipit recusandae consequuntur expedita et cum\n",
            "reprehenderit molestiae ut ut quas totam\n",
            "nostrum rerum est autem sunt rem eveniet architecto\n"
          ]
        }
      ],
      "source": [
        "import requests\n",
        "\n",
        "# URL for a sample post\n",
        "url = \"https://jsonplaceholder.typicode.com/posts/1\"\n",
        "\n",
        "# Make a GET request\n",
        "response = requests.get(url)\n",
        "\n",
        "# Print status code\n",
        "print(\"Status Code:\", response.status_code)\n",
        "\n",
        "# If successful, show JSON data\n",
        "if response.status_code == 200:\n",
        "    data = response.json()  # Convert response to Python dict\n",
        "    print(\"Title:\", data[\"title\"])\n",
        "    print(\"Body:\", data[\"body\"])\n",
        "else:\n",
        "    print(\"Request failed!\")\n"
      ]
    },
    {
      "cell_type": "markdown",
      "metadata": {
        "id": "NFUeiv3zOfWf"
      },
      "source": [
        "## logging"
      ]
    },
    {
      "cell_type": "code",
      "execution_count": 10,
      "metadata": {
        "id": "GFDW5QwbOfWf",
        "colab": {
          "base_uri": "https://localhost:8080/"
        },
        "outputId": "ab7d514c-cf1d-4e41-f873-1ee33da2870f"
      },
      "outputs": [
        {
          "output_type": "stream",
          "name": "stderr",
          "text": [
            "WARNING:root:This is a warning\n",
            "ERROR:root:This is an error\n",
            "CRITICAL:root:This is critical!\n"
          ]
        },
        {
          "output_type": "stream",
          "name": "stdout",
          "text": [
            "Logs have been written to test.log\n"
          ]
        }
      ],
      "source": [
        "import logging\n",
        "\n",
        "# Configure logging\n",
        "logging.basicConfig(\n",
        "    level=logging.INFO,\n",
        "    format=\"%(asctime)s [%(levelname)s] %(message)s\",\n",
        "    filename=\"test.log\",\n",
        "    filemode=\"w\"\n",
        ")\n",
        "\n",
        "# Log some messages\n",
        "logging.debug(\"This is a debug message (won't show because level=INFO)\")\n",
        "logging.info(\"This is an info message\")\n",
        "logging.warning(\"This is a warning\")\n",
        "logging.error(\"This is an error\")\n",
        "logging.critical(\"This is critical!\")\n",
        "\n",
        "print(\"Logs have been written to test.log\")\n"
      ]
    },
    {
      "cell_type": "markdown",
      "metadata": {
        "id": "D-H8rZJ4OfWf"
      },
      "source": [
        "## click, colorama, tabulate"
      ]
    },
    {
      "cell_type": "code",
      "source": [
        "!pip install click colorama tabulate"
      ],
      "metadata": {
        "colab": {
          "base_uri": "https://localhost:8080/"
        },
        "id": "hYXc268zG87w",
        "outputId": "86c46d27-0392-462d-912c-9ef791dfe695"
      },
      "execution_count": 11,
      "outputs": [
        {
          "output_type": "stream",
          "name": "stdout",
          "text": [
            "Requirement already satisfied: click in /usr/local/lib/python3.11/dist-packages (8.2.1)\n",
            "Collecting colorama\n",
            "  Downloading colorama-0.4.6-py2.py3-none-any.whl.metadata (17 kB)\n",
            "Requirement already satisfied: tabulate in /usr/local/lib/python3.11/dist-packages (0.9.0)\n",
            "Downloading colorama-0.4.6-py2.py3-none-any.whl (25 kB)\n",
            "Installing collected packages: colorama\n",
            "Successfully installed colorama-0.4.6\n"
          ]
        }
      ]
    },
    {
      "cell_type": "code",
      "execution_count": 12,
      "metadata": {
        "id": "uswa4RgnOfWf",
        "colab": {
          "base_uri": "https://localhost:8080/"
        },
        "outputId": "b3ce5b11-1326-4c90-ef3e-86b6870dd210"
      },
      "outputs": [
        {
          "output_type": "stream",
          "name": "stdout",
          "text": [
            "Error!\n",
            "Success!\n"
          ]
        }
      ],
      "source": [
        "from colorama import Fore, Style, init\n",
        "\n",
        "init(autoreset=True)\n",
        "print(Fore.RED + \"Error!\" + Style.RESET_ALL)\n",
        "print(Fore.GREEN + \"Success!\")\n"
      ]
    },
    {
      "cell_type": "code",
      "source": [
        "from tabulate import tabulate\n",
        "\n",
        "data = [[\"Alice\", 24], [\"Bob\", 30], [\"Charlie\", 28]]\n",
        "print(tabulate(data, headers=[\"Name\", \"Age\"], tablefmt=\"grid\"))\n"
      ],
      "metadata": {
        "colab": {
          "base_uri": "https://localhost:8080/"
        },
        "id": "v7zbKZuAIGez",
        "outputId": "6b2880d3-dd81-4113-8f1c-0112edf98559"
      },
      "execution_count": 13,
      "outputs": [
        {
          "output_type": "stream",
          "name": "stdout",
          "text": [
            "+---------+-------+\n",
            "| Name    |   Age |\n",
            "+=========+=======+\n",
            "| Alice   |    24 |\n",
            "+---------+-------+\n",
            "| Bob     |    30 |\n",
            "+---------+-------+\n",
            "| Charlie |    28 |\n",
            "+---------+-------+\n"
          ]
        }
      ]
    },
    {
      "cell_type": "markdown",
      "metadata": {
        "id": "e1knt8ANOfWf"
      },
      "source": [
        "## psutil"
      ]
    },
    {
      "cell_type": "code",
      "execution_count": 14,
      "metadata": {
        "id": "TjIYTM7aOfWf",
        "colab": {
          "base_uri": "https://localhost:8080/"
        },
        "outputId": "342b803f-9667-4d56-fcc9-52cabb325f5e"
      },
      "outputs": [
        {
          "output_type": "stream",
          "name": "stdout",
          "text": [
            "CPU Usage: 93.0%\n",
            "Memory: 7.4% used\n",
            "Disk: 35.5% used\n",
            "Bytes Sent: 342741, Bytes Received: 452521\n"
          ]
        }
      ],
      "source": [
        "import psutil\n",
        "\n",
        "# CPU usage (percentage)\n",
        "print(f\"CPU Usage: {psutil.cpu_percent(interval=1)}%\")\n",
        "\n",
        "# Memory usage\n",
        "mem = psutil.virtual_memory()\n",
        "print(f\"Memory: {mem.percent}% used\")\n",
        "\n",
        "# Disk usage\n",
        "disk = psutil.disk_usage('/')\n",
        "print(f\"Disk: {disk.percent}% used\")\n",
        "\n",
        "# Network stats\n",
        "net = psutil.net_io_counters()\n",
        "print(f\"Bytes Sent: {net.bytes_sent}, Bytes Received: {net.bytes_recv}\")\n"
      ]
    },
    {
      "cell_type": "markdown",
      "metadata": {
        "id": "C_NJ5Xv4OfWf"
      },
      "source": [
        "## watchdog"
      ]
    },
    {
      "cell_type": "code",
      "source": [
        "pip install watchdog"
      ],
      "metadata": {
        "colab": {
          "base_uri": "https://localhost:8080/"
        },
        "id": "rnv_aPgDq-B_",
        "outputId": "1cbbfb8d-138a-4108-b611-772a40679109"
      },
      "execution_count": 27,
      "outputs": [
        {
          "output_type": "stream",
          "name": "stdout",
          "text": [
            "Collecting watchdog\n",
            "  Downloading watchdog-6.0.0-py3-none-manylinux2014_x86_64.whl.metadata (44 kB)\n",
            "     ━━━━━━━━━━━━━━━━━━━━━━━━━━━━━━━━━━━━━━━ 44.3/44.3 kB 507.8 kB/s eta 0:00:00\n",
            "\u001b[?25hDownloading watchdog-6.0.0-py3-none-manylinux2014_x86_64.whl (79 kB)\n",
            "   ━━━━━━━━━━━━━━━━━━━━━━━━━━━━━━━━━━━━━━━━ 79.1/79.1 kB 950.6 kB/s eta 0:00:00\n",
            "\u001b[?25hInstalling collected packages: watchdog\n",
            "Successfully installed watchdog-6.0.0\n"
          ]
        }
      ]
    },
    {
      "cell_type": "code",
      "execution_count": 28,
      "metadata": {
        "id": "yMe58j_bOfWf",
        "colab": {
          "base_uri": "https://localhost:8080/"
        },
        "outputId": "20c2a159-4e3e-4c46-fb3e-c437337b87a2"
      },
      "outputs": [
        {
          "output_type": "stream",
          "name": "stdout",
          "text": [
            "Created 'watch_dir'. Create/modify files in it to see watchdog events.\n",
            "Watchdog observer started for 'watch_dir'. (Requires file changes to trigger events)\n",
            "To stop the observer in a real script, you would use observer.stop() and observer.join()\n"
          ]
        }
      ],
      "source": [
        "# Note: watchdog is designed for monitoring file system events in the background.\n",
        "\n",
        "import time\n",
        "import os\n",
        "from watchdog.observers import Observer\n",
        "from watchdog.events import FileSystemEventHandler\n",
        "\n",
        "class ChangeHandler(FileSystemEventHandler):\n",
        "    def on_any_event(self, event):\n",
        "        print(f'event type: {event.event_type} path : {event.src_path}')\n",
        "\n",
        "# Create a dummy directory to watch\n",
        "watch_directory = \"watch_dir\"\n",
        "if not os.path.exists(watch_directory):\n",
        "    os.makedirs(watch_directory)\n",
        "    print(f\"Created '{watch_directory}'. Create/modify files in it to see watchdog events.\")\n",
        "\n",
        "# Setup observer (won't block execution here)\n",
        "event_handler = ChangeHandler()\n",
        "observer = Observer()\n",
        "observer.schedule(event_handler, watch_directory, recursive=True)\n",
        "observer.start()\n",
        "\n",
        "print(f\"Watchdog observer started for '{watch_directory}'. (Requires file changes to trigger events)\")\n",
        "print(\"To stop the observer in a real script, you would use observer.stop() and observer.join()\")\n"
      ]
    },
    {
      "cell_type": "markdown",
      "metadata": {
        "id": "y22-JOPqOfWf"
      },
      "source": [
        "## pickle"
      ]
    },
    {
      "cell_type": "code",
      "execution_count": 29,
      "metadata": {
        "id": "wupbrpKFOfWf",
        "colab": {
          "base_uri": "https://localhost:8080/"
        },
        "outputId": "18b75b2a-6182-458a-9e20-e57a424d808b"
      },
      "outputs": [
        {
          "output_type": "stream",
          "name": "stdout",
          "text": [
            "Data successfully pickled and saved to 'my_data.pkl'\n",
            "\n",
            "Data successfully unpickled from 'my_data.pkl':\n",
            "{'name': 'Sample Data', 'version': 1.0, 'items': [1, 2, 3, 'a', 'b'], 'nested': {'key': 'value'}}\n"
          ]
        }
      ],
      "source": [
        "import pickle\n",
        "\n",
        "# Data to be pickled (serialized)\n",
        "data_to_pickle = {\n",
        "    \"name\": \"Sample Data\",\n",
        "    \"version\": 1.0,\n",
        "    \"items\": [1, 2, 3, \"a\", \"b\"],\n",
        "    \"nested\": {\"key\": \"value\"}\n",
        "}\n",
        "\n",
        "# Specify the filename for the pickled data\n",
        "pickle_filename = \"my_data.pkl\"\n",
        "\n",
        "# Pickling the data\n",
        "try:\n",
        "    with open(pickle_filename, \"wb\") as f:\n",
        "        pickle.dump(data_to_pickle, f)\n",
        "    print(f\"Data successfully pickled and saved to '{pickle_filename}'\")\n",
        "except Exception as e:\n",
        "    print(f\"An error occurred during pickling: {e}\")\n",
        "\n",
        "# Unpickling the data (deserializing)\n",
        "try:\n",
        "    with open(pickle_filename, \"rb\") as f:\n",
        "        loaded_data = pickle.load(f)\n",
        "    print(f\"\\nData successfully unpickled from '{pickle_filename}':\")\n",
        "    print(loaded_data)\n",
        "except FileNotFoundError:\n",
        "    print(f\"\\nError: The file '{pickle_filename}' was not found.\")\n",
        "except Exception as e:\n",
        "    print(f\"\\nAn error occurred during unpickling: {e}\")"
      ]
    },
    {
      "cell_type": "markdown",
      "metadata": {
        "id": "4ZJVb07wOfWf"
      },
      "source": [
        "## socket"
      ]
    },
    {
      "cell_type": "code",
      "execution_count": 30,
      "metadata": {
        "id": "dv1-Io_-OfWf",
        "colab": {
          "base_uri": "https://localhost:8080/"
        },
        "outputId": "5c791657-ded5-40d5-a5e5-0d41e98ce227"
      },
      "outputs": [
        {
          "output_type": "stream",
          "name": "stdout",
          "text": [
            "Host Name: b6cae1043326\n",
            "IP Address: 172.28.0.12\n",
            "IP Address of www.google.com: 74.125.204.105\n"
          ]
        }
      ],
      "source": [
        "import socket\n",
        "\n",
        "# Get the hostname of the local machine\n",
        "host_name = socket.gethostname()\n",
        "print(f\"Host Name: {host_name}\")\n",
        "\n",
        "# Get the IP address associated with the hostname\n",
        "try:\n",
        "    ip_address = socket.gethostbyname(host_name)\n",
        "    print(f\"IP Address: {ip_address}\")\n",
        "except socket.gaierror:\n",
        "    print(\"Could not get IP address for the hostname.\")\n",
        "\n",
        "# Example of resolving a hostname to an IP address\n",
        "try:\n",
        "    google_ip = socket.gethostbyname(\"www.google.com\")\n",
        "    print(f\"IP Address of www.google.com: {google_ip}\")\n",
        "except socket.gaierror:\n",
        "    print(\"Could not resolve www.google.com\")\n",
        "\n",
        "# Note: Creating a server or connecting to one requires additional code\n",
        "# and potentially running a separate process for the server."
      ]
    },
    {
      "cell_type": "markdown",
      "metadata": {
        "id": "u4pGFYR3OfWf"
      },
      "source": [
        "## re"
      ]
    },
    {
      "cell_type": "code",
      "execution_count": 31,
      "metadata": {
        "id": "IE0VIdbXOfWf",
        "colab": {
          "base_uri": "https://localhost:8080/"
        },
        "outputId": "c4917300-9209-482c-f924-db121a2ae0cd"
      },
      "outputs": [
        {
          "output_type": "stream",
          "name": "stdout",
          "text": [
            "Pattern found: quick brown fox\n",
            "All 4-letter words: ['over', 'lazy']\n",
            "Text after replacement: The quick brown fox jumps over the sleeping cat.\n",
            "Words after splitting: ['The', 'quick', 'brown', 'fox', 'jumps', 'over', 'the', 'lazy', 'dog.']\n"
          ]
        }
      ],
      "source": [
        "import re\n",
        "\n",
        "text = \"The quick brown fox jumps over the lazy dog.\"\n",
        "\n",
        "# Example 1: Searching for a pattern\n",
        "pattern = r\"quick brown fox\"\n",
        "match = re.search(pattern, text)\n",
        "if match:\n",
        "    print(f\"Pattern found: {match.group()}\")\n",
        "else:\n",
        "    print(\"Pattern not found.\")\n",
        "\n",
        "# Example 2: Finding all occurrences of a pattern\n",
        "pattern = r\"\\b\\w{4}\\b\" # Find all 4-letter words\n",
        "words = re.findall(pattern, text)\n",
        "print(f\"All 4-letter words: {words}\")\n",
        "\n",
        "# Example 3: Replacing a pattern\n",
        "pattern = r\"lazy dog\"\n",
        "new_text = re.sub(pattern, \"sleeping cat\", text)\n",
        "print(f\"Text after replacement: {new_text}\")\n",
        "\n",
        "# Example 4: Splitting a string by a pattern\n",
        "pattern = r\"\\s+\" # Split by one or more whitespace characters\n",
        "words = re.split(pattern, text)\n",
        "print(f\"Words after splitting: {words}\")"
      ]
    },
    {
      "cell_type": "markdown",
      "metadata": {
        "id": "kRj_aUkhOfWf"
      },
      "source": [
        "## time and arrow"
      ]
    },
    {
      "cell_type": "code",
      "execution_count": 15,
      "metadata": {
        "id": "WFcSIu5nOfWf",
        "colab": {
          "base_uri": "https://localhost:8080/"
        },
        "outputId": "8813775f-4131-488b-8e5d-feca3c9f65f2"
      },
      "outputs": [
        {
          "output_type": "stream",
          "name": "stdout",
          "text": [
            "1755444588.8086298\n",
            "Sun Aug 17 15:29:48 2025\n"
          ]
        }
      ],
      "source": [
        "import time\n",
        "\n",
        "print(time.time())         # Current time in seconds since 1970\n",
        "print(time.ctime())        # Human-readable time\n",
        "time.sleep(2)              # Pause for 2 seconds\n"
      ]
    },
    {
      "cell_type": "code",
      "source": [
        "!pip install arrow"
      ],
      "metadata": {
        "id": "w9WaW-5iL9fv",
        "outputId": "00b29046-d9c6-4384-ddec-c5758b9ca0f7",
        "colab": {
          "base_uri": "https://localhost:8080/"
        }
      },
      "execution_count": 16,
      "outputs": [
        {
          "output_type": "stream",
          "name": "stdout",
          "text": [
            "Collecting arrow\n",
            "  Downloading arrow-1.3.0-py3-none-any.whl.metadata (7.5 kB)\n",
            "Requirement already satisfied: python-dateutil>=2.7.0 in /usr/local/lib/python3.11/dist-packages (from arrow) (2.9.0.post0)\n",
            "Collecting types-python-dateutil>=2.8.10 (from arrow)\n",
            "  Downloading types_python_dateutil-2.9.0.20250809-py3-none-any.whl.metadata (1.8 kB)\n",
            "Requirement already satisfied: six>=1.5 in /usr/local/lib/python3.11/dist-packages (from python-dateutil>=2.7.0->arrow) (1.17.0)\n",
            "Downloading arrow-1.3.0-py3-none-any.whl (66 kB)\n",
            "   ━━━━━━━━━━━━━━━━━━━━━━━━━━━━━━━━━━━━━━━━ 66.4/66.4 kB 479.1 kB/s eta 0:00:00\n",
            "\u001b[?25hDownloading types_python_dateutil-2.9.0.20250809-py3-none-any.whl (17 kB)\n",
            "Installing collected packages: types-python-dateutil, arrow\n",
            "Successfully installed arrow-1.3.0 types-python-dateutil-2.9.0.20250809\n"
          ]
        }
      ]
    },
    {
      "cell_type": "code",
      "source": [],
      "metadata": {
        "id": "jf8aYY5zr20u"
      },
      "execution_count": null,
      "outputs": []
    }
  ],
  "metadata": {
    "celltoolbar": "Slideshow",
    "kernelspec": {
      "display_name": "Python 3",
      "language": "python",
      "name": "python3"
    },
    "language_info": {
      "codemirror_mode": {
        "name": "ipython",
        "version": 3
      },
      "file_extension": ".py",
      "mimetype": "text/x-python",
      "name": "python",
      "nbconvert_exporter": "python",
      "pygments_lexer": "ipython3",
      "version": "3.7.6"
    },
    "livereveal": {
      "theme": "beige",
      "transition": "cascade"
    },
    "colab": {
      "provenance": []
    }
  },
  "nbformat": 4,
  "nbformat_minor": 0
}