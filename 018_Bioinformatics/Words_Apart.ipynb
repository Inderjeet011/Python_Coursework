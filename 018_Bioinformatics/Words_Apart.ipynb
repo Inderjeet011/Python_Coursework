{
  "cells": [
    {
      "cell_type": "markdown",
      "metadata": {
        "id": "vhws9hdMcriF"
      },
      "source": [
        "# Words Apart\n",
        "## Levenshtein Distance"
      ]
    },
    {
      "cell_type": "markdown",
      "metadata": {
        "id": "B8zPyYNUcriH"
      },
      "source": [
        "## How far do you say?\n",
        "### Measuring the gaps between words"
      ]
    },
    {
      "cell_type": "markdown",
      "metadata": {
        "id": "9WZOxSh0criI"
      },
      "source": [
        "Bioinformatics studies the building blocks of life. To examine a few more Python tools, we will look at the most basic building block of bioinformatics - [edit distance](https://en.wikipedia.org/wiki/Edit_distance)."
      ]
    },
    {
      "cell_type": "markdown",
      "metadata": {
        "id": "jfhZ4fgJcriI"
      },
      "source": [
        "This is how you can measure the separation between two strings of letters. If you remember the sci-fi film Gattica (about a world gone genetic-testing crazy), or even school biology, you may be aware that our genes are made up of long DNA sequences of nucleic acids, called _bases_ . There are only four bases: `G`, `A`, `T` and `C`. Guess where the film name comes from..."
      ]
    },
    {
      "cell_type": "markdown",
      "metadata": {
        "id": "2lTuMz_vcriI"
      },
      "source": [
        "This means you can understand a lot about genetic similarity by comparing long sequences and working our how far apart they are - perhaps what genetic mutations would get from one version to another, to understand what animals, plants or bacteria are related and why they differ.\n",
        "\n",
        "GGACTATCTACTACCATACGGACTATCTACTACCATACGGACTATCTACTACCATACGGACTATCTACTACCATACGGACTATCTACTACCATAC...\n",
        "GAGCTATCTACCTAGCATTCGACTAACTACTACCATTCGGACTATCTACTACCATACGGACTATCTACTACCATACGGACTATCTACTACCATAC..."
      ]
    },
    {
      "cell_type": "markdown",
      "metadata": {
        "id": "-3vQ7IlvcriJ"
      },
      "source": [
        "You can see these are similar, but not quite the same, but more more alike than either are to:\n",
        "GGGGGGGGGGGGGGGGGGGAAAAAAAAAAAAAAAAAAAAAAAAAATTTTTTTTTTTTTTTTTTTTTTTTTTTTTTTTTTTCCCCCCCCCCCCC..."
      ]
    },
    {
      "cell_type": "markdown",
      "metadata": {
        "id": "iYTQ3LubcriJ"
      },
      "source": [
        "How do we quantify that? One way:"
      ]
    },
    {
      "cell_type": "markdown",
      "metadata": {
        "id": "5freNsihcriJ"
      },
      "source": [
        "**Levenshtein Distance**: (roughly) the minimum number of single-character edits to get from the first string to the second"
      ]
    },
    {
      "cell_type": "markdown",
      "metadata": {
        "id": "sJsd3KaCcriJ"
      },
      "source": [
        "In this exercise, we will touch on some of the tools that will become more foundational in the IDE setting, with VSCode."
      ]
    },
    {
      "cell_type": "markdown",
      "metadata": {
        "id": "2OY-xpSvcriJ"
      },
      "source": [
        "## pip"
      ]
    },
    {
      "cell_type": "markdown",
      "metadata": {
        "id": "bhp9S3uucriK"
      },
      "source": [
        "`pip` is one of a wide range of tools constituting the Python packaging ecosystem. It is hugely fragmented compared to most languages, but `pip` is a relatively simple and standard way of installing tools. You may also come across the Anaconda distribution, and its tool `conda`, which works very similarly. We need additional libraries for this exercise - you can install them as follows:"
      ]
    },
    {
      "cell_type": "code",
      "execution_count": 15,
      "metadata": {
        "id": "VUobXS_6criK",
        "outputId": "58bca23e-1017-4d16-8fd3-6aad101228e4",
        "colab": {
          "base_uri": "https://localhost:8080/"
        }
      },
      "outputs": [
        {
          "output_type": "stream",
          "name": "stdout",
          "text": [
            "Requirement already satisfied: python-Levenshtein in /usr/local/lib/python3.12/dist-packages (0.12.2)\n",
            "Requirement already satisfied: pytest-benchmark in /usr/local/lib/python3.12/dist-packages (5.1.0)\n",
            "Requirement already satisfied: setuptools in /usr/local/lib/python3.12/dist-packages (from python-Levenshtein) (75.2.0)\n",
            "Requirement already satisfied: pytest>=8.1 in /usr/local/lib/python3.12/dist-packages (from pytest-benchmark) (8.4.1)\n",
            "Requirement already satisfied: py-cpuinfo in /usr/local/lib/python3.12/dist-packages (from pytest-benchmark) (9.0.0)\n",
            "Requirement already satisfied: iniconfig>=1 in /usr/local/lib/python3.12/dist-packages (from pytest>=8.1->pytest-benchmark) (2.1.0)\n",
            "Requirement already satisfied: packaging>=20 in /usr/local/lib/python3.12/dist-packages (from pytest>=8.1->pytest-benchmark) (25.0)\n",
            "Requirement already satisfied: pluggy<2,>=1.5 in /usr/local/lib/python3.12/dist-packages (from pytest>=8.1->pytest-benchmark) (1.6.0)\n",
            "Requirement already satisfied: pygments>=2.7.2 in /usr/local/lib/python3.12/dist-packages (from pytest>=8.1->pytest-benchmark) (2.19.2)\n"
          ]
        }
      ],
      "source": [
        "!pip install python-Levenshtein pytest-benchmark"
      ]
    },
    {
      "cell_type": "markdown",
      "metadata": {
        "id": "m6xAGCw-criL"
      },
      "source": [
        "Good practice is to have a requirements file, where version limits can be set for each package - to avoid accidental breaking upgrades (a common standard is to pin the major version number, as under semantic versioning practice, minor versions should not introduce major breaking changes). Then, when you clone down the repository, one way of installing dependencies is:"
      ]
    },
    {
      "cell_type": "code",
      "execution_count": 27,
      "metadata": {
        "id": "3PnPoSGJcriM",
        "outputId": "ee685964-1314-49ae-9f9a-c30cb6ae99ea",
        "colab": {
          "base_uri": "https://localhost:8080/"
        }
      },
      "outputs": [
        {
          "output_type": "stream",
          "name": "stdout",
          "text": [
            "Requirement already satisfied: numpy in /usr/local/lib/python3.12/dist-packages (from -r requirements.txt (line 1)) (2.0.2)\n",
            "Requirement already satisfied: pytest==8.4.1 in /usr/local/lib/python3.12/dist-packages (from -r requirements.txt (line 2)) (8.4.1)\n",
            "Requirement already satisfied: pytest-benchmark==5.1.0 in /usr/local/lib/python3.12/dist-packages (from -r requirements.txt (line 3)) (5.1.0)\n",
            "Requirement already satisfied: python-levenshtein>=0.20.0 in /usr/local/lib/python3.12/dist-packages (from -r requirements.txt (line 4)) (0.27.1)\n",
            "Requirement already satisfied: iniconfig>=1 in /usr/local/lib/python3.12/dist-packages (from pytest==8.4.1->-r requirements.txt (line 2)) (2.1.0)\n",
            "Requirement already satisfied: packaging>=20 in /usr/local/lib/python3.12/dist-packages (from pytest==8.4.1->-r requirements.txt (line 2)) (25.0)\n",
            "Requirement already satisfied: pluggy<2,>=1.5 in /usr/local/lib/python3.12/dist-packages (from pytest==8.4.1->-r requirements.txt (line 2)) (1.6.0)\n",
            "Requirement already satisfied: pygments>=2.7.2 in /usr/local/lib/python3.12/dist-packages (from pytest==8.4.1->-r requirements.txt (line 2)) (2.19.2)\n",
            "Requirement already satisfied: py-cpuinfo in /usr/local/lib/python3.12/dist-packages (from pytest-benchmark==5.1.0->-r requirements.txt (line 3)) (9.0.0)\n",
            "Collecting Levenshtein==0.27.1 (from python-levenshtein>=0.20.0->-r requirements.txt (line 4))\n",
            "  Using cached levenshtein-0.27.1-cp312-cp312-manylinux_2_17_x86_64.manylinux2014_x86_64.whl.metadata (3.6 kB)\n",
            "Requirement already satisfied: rapidfuzz<4.0.0,>=3.9.0 in /usr/local/lib/python3.12/dist-packages (from Levenshtein==0.27.1->python-levenshtein>=0.20.0->-r requirements.txt (line 4)) (3.13.0)\n",
            "Using cached levenshtein-0.27.1-cp312-cp312-manylinux_2_17_x86_64.manylinux2014_x86_64.whl (159 kB)\n",
            "Installing collected packages: Levenshtein\n",
            "Successfully installed Levenshtein-0.27.1\n"
          ]
        }
      ],
      "source": [
        "!pip install -r requirements.txt"
      ]
    },
    {
      "cell_type": "code",
      "execution_count": 28,
      "metadata": {
        "id": "hElFoGeicriM",
        "outputId": "d93f6ccc-2842-44fe-ed93-c224f638ff1c",
        "colab": {
          "base_uri": "https://localhost:8080/"
        }
      },
      "outputs": [
        {
          "output_type": "stream",
          "name": "stdout",
          "text": [
            "numpy\n",
            "pytest==8.4.1\n",
            "pytest-benchmark==5.1.0\n",
            "python-levenshtein>=0.20.0\n"
          ]
        }
      ],
      "source": [
        "!cat requirements.txt"
      ]
    },
    {
      "cell_type": "markdown",
      "metadata": {
        "id": "oyu0xNjkcriM"
      },
      "source": [
        "You can see here that `pytest-benchmark` and `python-levenshtein` are pinned - ideally being generous down the way, but not giving _too_ much flexibility up the way (you don't know if a breaking change will come in a dependency's new version), will help ensure your dependencies can be met but the risk of third-party breakages is reduced. In production deployment, exact pinning and dedicated repositories are strongly recommended - some language tools do this in a more streamlined way (package.lock for npm, for example). However... narrowly pinning development code can prevent security patches being brought in, or conflicts when your module is later used with other code - the dependency versions conflict."
      ]
    },
    {
      "cell_type": "markdown",
      "metadata": {
        "id": "cl5Ctw7vcriN"
      },
      "source": [
        "## pytest"
      ]
    },
    {
      "cell_type": "markdown",
      "metadata": {
        "id": "gcz9BylFcriN"
      },
      "source": [
        "This is the first contact with `pytest`. It automatically seeks out files starting with `test_` -- I'll walk you through `test_levenshtein.py` now..."
      ]
    },
    {
      "cell_type": "markdown",
      "metadata": {
        "id": "_epRC4nicriN"
      },
      "source": [
        "You can run these tests from the command line:"
      ]
    },
    {
      "cell_type": "code",
      "execution_count": 36,
      "metadata": {
        "id": "VDp7jOP7criN",
        "outputId": "beef696f-787c-41c6-d51e-9dd2eda40fe7",
        "colab": {
          "base_uri": "https://localhost:8080/"
        }
      },
      "outputs": [
        {
          "output_type": "stream",
          "name": "stdout",
          "text": [
            "\u001b[1m============================= test session starts ==============================\u001b[0m\n",
            "platform linux -- Python 3.12.11, pytest-8.4.1, pluggy-1.6.0\n",
            "benchmark: 5.1.0 (defaults: timer=time.perf_counter disable_gc=False min_rounds=5 min_time=0.000005 max_time=1.0 calibration_precision=10 warmup=False warmup_iterations=100000)\n",
            "rootdir: /content\n",
            "plugins: benchmark-5.1.0, langsmith-0.4.14, typeguard-4.4.4, anyio-4.10.0\n",
            "\u001b[1mcollecting ... \u001b[0m\u001b[1m\rcollected 5 items                                                              \u001b[0m\n",
            "\n",
            "test_levenshtein.py \u001b[32m.\u001b[0m\u001b[32m.\u001b[0m\u001b[32m.\u001b[0m\u001b[32m.\u001b[0m\u001b[32m.\u001b[0m\u001b[32m                                                [100%]\u001b[0m\n",
            "\n",
            "\u001b[32m============================== \u001b[32m\u001b[1m5 passed\u001b[0m\u001b[32m in 0.16s\u001b[0m\u001b[32m ===============================\u001b[0m\n"
          ]
        }
      ],
      "source": [
        "!pytest test_levenshtein.py"
      ]
    },
    {
      "cell_type": "markdown",
      "metadata": {
        "id": "Q9X0vN_jcriN"
      },
      "source": [
        "### Exercise: Gene Hacking"
      ]
    },
    {
      "cell_type": "markdown",
      "metadata": {
        "id": "ROBlPeXAcriN"
      },
      "source": [
        "There is a link there to Wikipedia, which has a standard textbook description of two algorithms - we will test which is faster. Can you fill in `my_levenshtein.py` to implement the _recursive_ `calculate_levenshtein` algorithm? Re-run the `pytest` command above until it passes!"
      ]
    },
    {
      "cell_type": "markdown",
      "metadata": {
        "id": "w4oR9SFAcriN"
      },
      "source": [
        "### Extension: Gene Wilder\n",
        "\n",
        "Going one further, can you implement the matrix version, using numpy, in the routine below? (algorithm also available from the same source)"
      ]
    },
    {
      "cell_type": "markdown",
      "metadata": {
        "id": "mfZ7stEicriO"
      },
      "source": [
        "### Extension: Gene E Us"
      ]
    },
    {
      "cell_type": "markdown",
      "metadata": {
        "id": "sHbH630RcriO"
      },
      "source": [
        "Can you write a version that passes all the tests, but does not work in general? Can you add a test to catch your \"mistake\"? How much more robust can you make the testing?\n",
        "\n",
        "This highlights a challenge with testing numerical or ML algorithms - that enumerating all possible cases is not necessarily possible. How might you break it up your testing, or your algorithm, to be able to more reliably test it?"
      ]
    },
    {
      "cell_type": "markdown",
      "metadata": {
        "id": "Lc2tKmZHcriO"
      },
      "source": [
        "## pylint"
      ]
    },
    {
      "cell_type": "markdown",
      "metadata": {
        "id": "maXpiqQecriO"
      },
      "source": [
        "Pylint exists to help make sure your code is compliant with the PEP8 style guide (and a few others) - you can run it like so:"
      ]
    },
    {
      "cell_type": "code",
      "source": [
        "!pip install pylint"
      ],
      "metadata": {
        "colab": {
          "base_uri": "https://localhost:8080/"
        },
        "id": "B3v4uqlo126k",
        "outputId": "9a6ac791-5706-4566-bbf9-4c549457e8e6"
      },
      "execution_count": 38,
      "outputs": [
        {
          "output_type": "stream",
          "name": "stdout",
          "text": [
            "Collecting pylint\n",
            "  Downloading pylint-3.3.8-py3-none-any.whl.metadata (12 kB)\n",
            "Collecting astroid<=3.4.0.dev0,>=3.3.8 (from pylint)\n",
            "  Downloading astroid-3.3.11-py3-none-any.whl.metadata (4.4 kB)\n",
            "Requirement already satisfied: dill>=0.3.6 in /usr/local/lib/python3.12/dist-packages (from pylint) (0.3.8)\n",
            "Collecting isort!=5.13,<7,>=4.2.5 (from pylint)\n",
            "  Downloading isort-6.0.1-py3-none-any.whl.metadata (11 kB)\n",
            "Collecting mccabe<0.8,>=0.6 (from pylint)\n",
            "  Downloading mccabe-0.7.0-py2.py3-none-any.whl.metadata (5.0 kB)\n",
            "Requirement already satisfied: platformdirs>=2.2 in /usr/local/lib/python3.12/dist-packages (from pylint) (4.3.8)\n",
            "Requirement already satisfied: tomlkit>=0.10.1 in /usr/local/lib/python3.12/dist-packages (from pylint) (0.13.3)\n",
            "Downloading pylint-3.3.8-py3-none-any.whl (523 kB)\n",
            "\u001b[2K   \u001b[90m━━━━━━━━━━━━━━━━━━━━━━━━━━━━━━━━━━━━━━━━\u001b[0m \u001b[32m523.2/523.2 kB\u001b[0m \u001b[31m7.9 MB/s\u001b[0m eta \u001b[36m0:00:00\u001b[0m\n",
            "\u001b[?25hDownloading astroid-3.3.11-py3-none-any.whl (275 kB)\n",
            "\u001b[2K   \u001b[90m━━━━━━━━━━━━━━━━━━━━━━━━━━━━━━━━━━━━━━━━\u001b[0m \u001b[32m275.6/275.6 kB\u001b[0m \u001b[31m17.4 MB/s\u001b[0m eta \u001b[36m0:00:00\u001b[0m\n",
            "\u001b[?25hDownloading isort-6.0.1-py3-none-any.whl (94 kB)\n",
            "\u001b[2K   \u001b[90m━━━━━━━━━━━━━━━━━━━━━━━━━━━━━━━━━━━━━━━━\u001b[0m \u001b[32m94.2/94.2 kB\u001b[0m \u001b[31m5.7 MB/s\u001b[0m eta \u001b[36m0:00:00\u001b[0m\n",
            "\u001b[?25hDownloading mccabe-0.7.0-py2.py3-none-any.whl (7.3 kB)\n",
            "Installing collected packages: mccabe, isort, astroid, pylint\n",
            "Successfully installed astroid-3.3.11 isort-6.0.1 mccabe-0.7.0 pylint-3.3.8\n"
          ]
        }
      ]
    },
    {
      "cell_type": "code",
      "execution_count": 39,
      "metadata": {
        "id": "F5FycpOucriO",
        "outputId": "38a9d699-9f94-44f4-c628-d4e69b2b64e2",
        "colab": {
          "base_uri": "https://localhost:8080/"
        }
      },
      "outputs": [
        {
          "output_type": "stream",
          "name": "stdout",
          "text": [
            "************* Module my_levenshtein\n",
            "my_levenshtein.py:35:0: C0116: Missing function or method docstring (missing-function-docstring)\n",
            "my_levenshtein.py:9:0: W0611: Unused import python_course_levenshtein_py (unused-import)\n",
            "\n",
            "-----------------------------------\n",
            "Your code has been rated at 9.20/10\n",
            "\n"
          ]
        }
      ],
      "source": [
        "!pylint my_levenshtein.py"
      ]
    },
    {
      "cell_type": "markdown",
      "metadata": {
        "id": "BnUSR-ufcriO"
      },
      "source": [
        "It's a pain, but once your code passes it, it's a breeze! It is recommended to include it in a continuous integration pipeline, just like testing - some developers include it in the githooks (automated code that is run when code is either committed locally, or pushed remotely)."
      ]
    },
    {
      "cell_type": "markdown",
      "metadata": {
        "id": "RGIJsrLrcriO"
      },
      "source": [
        "### Exercise: Code Hy-gene\n",
        "\n",
        "Try to adapt your code until it passes. Are all the checks useful? Are there some you would switch off?"
      ]
    }
  ],
  "metadata": {
    "celltoolbar": "Slideshow",
    "kernelspec": {
      "display_name": "Python 3",
      "language": "python",
      "name": "python3"
    },
    "language_info": {
      "codemirror_mode": {
        "name": "ipython",
        "version": 3
      },
      "file_extension": ".py",
      "mimetype": "text/x-python",
      "name": "python",
      "nbconvert_exporter": "python",
      "pygments_lexer": "ipython3",
      "version": "3.7.3"
    },
    "livereveal": {
      "theme": "beige",
      "transition": "cascade"
    },
    "colab": {
      "provenance": []
    }
  },
  "nbformat": 4,
  "nbformat_minor": 0
}