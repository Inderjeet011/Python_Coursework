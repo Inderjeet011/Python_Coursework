{
  "cells": [
    {
      "cell_type": "markdown",
      "metadata": {
        "id": "CdAxq_kxR5F-"
      },
      "source": [
        "# Words Apart\n",
        "## Levenshtein Distance"
      ]
    },
    {
      "cell_type": "markdown",
      "metadata": {
        "id": "sBqcUU34R5F_"
      },
      "source": [
        "## How far do you say?\n",
        "### Measuring the gaps between words"
      ]
    },
    {
      "cell_type": "markdown",
      "metadata": {
        "id": "W3rVh_LwR5F_"
      },
      "source": [
        "Bioinformatics studies the building blocks of life. To examine a few more Python tools, we will look at the most basic building block of bioinformatics - [edit distance](https://en.wikipedia.org/wiki/Edit_distance)."
      ]
    },
    {
      "cell_type": "markdown",
      "metadata": {
        "id": "C9UINM0NR5F_"
      },
      "source": [
        "This is how you can measure the separation between two strings of letters. If you remember the sci-fi film Gattica (about a world gone genetic-testing crazy), or even school biology, you may be aware that our genes are made up of long DNA sequences of nucleic acids, called _bases_ . There are only four bases: `G`, `A`, `T` and `C`. Guess where the film name comes from..."
      ]
    },
    {
      "cell_type": "markdown",
      "metadata": {
        "id": "G4SaHmXaR5F_"
      },
      "source": [
        "This means you can understand a lot about genetic similarity by comparing long sequences and working our how far apart they are - perhaps what genetic mutations would get from one version to another, to understand what animals, plants or bacteria are related and why they differ.\n",
        "\n",
        "GGACTATCTACTACCATACGGACTATCTACTACCATACGGACTATCTACTACCATACGGACTATCTACTACCATACGGACTATCTACTACCATAC...\n",
        "GAGCTATCTACCTAGCATTCGACTAACTACTACCATTCGGACTATCTACTACCATACGGACTATCTACTACCATACGGACTATCTACTACCATAC..."
      ]
    },
    {
      "cell_type": "markdown",
      "metadata": {
        "id": "DGMsGa9RR5F_"
      },
      "source": [
        "You can see these are similar, but not quite the same, but more more alike than either are to:\n",
        "GGGGGGGGGGGGGGGGGGGAAAAAAAAAAAAAAAAAAAAAAAAAATTTTTTTTTTTTTTTTTTTTTTTTTTTTTTTTTTTCCCCCCCCCCCCC..."
      ]
    },
    {
      "cell_type": "markdown",
      "metadata": {
        "id": "0ebq7ThWR5F_"
      },
      "source": [
        "How do we quantify that? One way:"
      ]
    },
    {
      "cell_type": "markdown",
      "metadata": {
        "id": "f7Egsr-XR5F_"
      },
      "source": [
        "**Levenshtein Distance**: (roughly) the minimum number of single-character edits to get from the first string to the second"
      ]
    },
    {
      "cell_type": "markdown",
      "metadata": {
        "id": "-U5uPU-3R5F_"
      },
      "source": [
        "In this exercise, we will touch on some of the tools that will become more foundational in the IDE setting, with VSCode."
      ]
    },
    {
      "cell_type": "markdown",
      "metadata": {
        "id": "BDo67SiuR5F_"
      },
      "source": [
        "## pip"
      ]
    },
    {
      "cell_type": "markdown",
      "metadata": {
        "id": "kSvb80nNR5F_"
      },
      "source": [
        "`pip` is one of a wide range of tools constituting the Python packaging ecosystem. It is hugely fragmented compared to most languages, but `pip` is a relatively simple and standard way of installing tools. You may also come across the Anaconda distribution, and its tool `conda`, which works very similarly. We need additional libraries for this exercise - you can install them as follows:"
      ]
    },
    {
      "cell_type": "code",
      "execution_count": null,
      "metadata": {
        "id": "b0nNNTe7R5F_",
        "outputId": "62360cae-0214-483e-96f1-f9d54632a2cb",
        "colab": {
          "base_uri": "https://localhost:8080/"
        }
      },
      "outputs": [
        {
          "output_type": "stream",
          "name": "stdout",
          "text": [
            "Collecting python-Levenshtein\n",
            "  Downloading python_levenshtein-0.27.1-py3-none-any.whl.metadata (3.7 kB)\n",
            "Collecting pytest-benchmark\n",
            "  Downloading pytest_benchmark-5.1.0-py3-none-any.whl.metadata (25 kB)\n",
            "Collecting Levenshtein==0.27.1 (from python-Levenshtein)\n",
            "  Downloading levenshtein-0.27.1-cp311-cp311-manylinux_2_17_x86_64.manylinux2014_x86_64.whl.metadata (3.6 kB)\n",
            "Collecting rapidfuzz<4.0.0,>=3.9.0 (from Levenshtein==0.27.1->python-Levenshtein)\n",
            "  Downloading rapidfuzz-3.13.0-cp311-cp311-manylinux_2_17_x86_64.manylinux2014_x86_64.whl.metadata (12 kB)\n",
            "Requirement already satisfied: pytest>=8.1 in /usr/local/lib/python3.11/dist-packages (from pytest-benchmark) (8.4.1)\n",
            "Requirement already satisfied: py-cpuinfo in /usr/local/lib/python3.11/dist-packages (from pytest-benchmark) (9.0.0)\n",
            "Requirement already satisfied: iniconfig>=1 in /usr/local/lib/python3.11/dist-packages (from pytest>=8.1->pytest-benchmark) (2.1.0)\n",
            "Requirement already satisfied: packaging>=20 in /usr/local/lib/python3.11/dist-packages (from pytest>=8.1->pytest-benchmark) (25.0)\n",
            "Requirement already satisfied: pluggy<2,>=1.5 in /usr/local/lib/python3.11/dist-packages (from pytest>=8.1->pytest-benchmark) (1.6.0)\n",
            "Requirement already satisfied: pygments>=2.7.2 in /usr/local/lib/python3.11/dist-packages (from pytest>=8.1->pytest-benchmark) (2.19.2)\n",
            "Downloading python_levenshtein-0.27.1-py3-none-any.whl (9.4 kB)\n",
            "Downloading levenshtein-0.27.1-cp311-cp311-manylinux_2_17_x86_64.manylinux2014_x86_64.whl (161 kB)\n",
            "\u001b[2K   \u001b[90m━━━━━━━━━━━━━━━━━━━━━━━━━━━━━━━━━━━━━━━━\u001b[0m \u001b[32m161.7/161.7 kB\u001b[0m \u001b[31m5.1 MB/s\u001b[0m eta \u001b[36m0:00:00\u001b[0m\n",
            "\u001b[?25hDownloading pytest_benchmark-5.1.0-py3-none-any.whl (44 kB)\n",
            "\u001b[2K   \u001b[90m━━━━━━━━━━━━━━━━━━━━━━━━━━━━━━━━━━━━━━━━\u001b[0m \u001b[32m44.3/44.3 kB\u001b[0m \u001b[31m2.7 MB/s\u001b[0m eta \u001b[36m0:00:00\u001b[0m\n",
            "\u001b[?25hDownloading rapidfuzz-3.13.0-cp311-cp311-manylinux_2_17_x86_64.manylinux2014_x86_64.whl (3.1 MB)\n",
            "\u001b[2K   \u001b[90m━━━━━━━━━━━━━━━━━━━━━━━━━━━━━━━━━━━━━━━━\u001b[0m \u001b[32m3.1/3.1 MB\u001b[0m \u001b[31m35.1 MB/s\u001b[0m eta \u001b[36m0:00:00\u001b[0m\n",
            "\u001b[?25hInstalling collected packages: rapidfuzz, pytest-benchmark, Levenshtein, python-Levenshtein\n",
            "Successfully installed Levenshtein-0.27.1 pytest-benchmark-5.1.0 python-Levenshtein-0.27.1 rapidfuzz-3.13.0\n"
          ]
        }
      ],
      "source": [
        "!pip install python-Levenshtein pytest-benchmark"
      ]
    },
    {
      "cell_type": "markdown",
      "metadata": {
        "id": "u7_3zrKiR5GA"
      },
      "source": [
        "Good practice is to have a requirements file, where version limits can be set for each package - to avoid accidental breaking upgrades (a common standard is to pin the major version number, as under semantic versioning practice, minor versions should not introduce major breaking changes). Then, when you clone down the repository, one way of installing dependencies is:"
      ]
    },
    {
      "cell_type": "code",
      "execution_count": null,
      "metadata": {
        "id": "Q9-bQywuR5GA",
        "outputId": "02cddcb4-8430-4ae5-ca98-9df786db92d2",
        "colab": {
          "base_uri": "https://localhost:8080/"
        }
      },
      "outputs": [
        {
          "output_type": "stream",
          "name": "stdout",
          "text": [
            "Requirement already satisfied: numpy in /usr/local/lib/python3.11/dist-packages (from -r requirements.txt (line 1)) (2.0.2)\n",
            "Requirement already satisfied: pytest<8 in /usr/local/lib/python3.11/dist-packages (from -r requirements.txt (line 2)) (7.4.4)\n",
            "Requirement already satisfied: pytest-benchmark==3.2.3 in /usr/local/lib/python3.11/dist-packages (from -r requirements.txt (line 3)) (3.2.3)\n",
            "Requirement already satisfied: python-levenshtein<0.13,>=0.10 in /usr/local/lib/python3.11/dist-packages (from -r requirements.txt (line 4)) (0.12.2)\n",
            "Requirement already satisfied: py-cpuinfo in /usr/local/lib/python3.11/dist-packages (from pytest-benchmark==3.2.3->-r requirements.txt (line 3)) (9.0.0)\n",
            "Requirement already satisfied: iniconfig in /usr/local/lib/python3.11/dist-packages (from pytest<8->-r requirements.txt (line 2)) (2.1.0)\n",
            "Requirement already satisfied: packaging in /usr/local/lib/python3.11/dist-packages (from pytest<8->-r requirements.txt (line 2)) (25.0)\n",
            "Requirement already satisfied: pluggy<2.0,>=0.12 in /usr/local/lib/python3.11/dist-packages (from pytest<8->-r requirements.txt (line 2)) (1.6.0)\n",
            "Requirement already satisfied: setuptools in /usr/local/lib/python3.11/dist-packages (from python-levenshtein<0.13,>=0.10->-r requirements.txt (line 4)) (75.2.0)\n"
          ]
        }
      ],
      "source": [
        "!pip install -r requirements.txt"
      ]
    },
    {
      "cell_type": "code",
      "execution_count": null,
      "metadata": {
        "id": "xQ5zdB3LR5GA",
        "outputId": "239b4590-36e3-4f35-aa2d-27d648985003",
        "colab": {
          "base_uri": "https://localhost:8080/"
        }
      },
      "outputs": [
        {
          "output_type": "stream",
          "name": "stdout",
          "text": [
            "numpy\n",
            "pytest<8\n",
            "pytest-benchmark==3.2.3\n",
            "python-levenshtein >=0.10, <0.13\n"
          ]
        }
      ],
      "source": [
        "!cat requirements.txt"
      ]
    },
    {
      "cell_type": "markdown",
      "metadata": {
        "id": "dHqrMcdoR5GA"
      },
      "source": [
        "You can see here that `pytest-benchmark` and `python-levenshtein` are pinned - ideally being generous down the way, but not giving _too_ much flexibility up the way (you don't know if a breaking change will come in a dependency's new version), will help ensure your dependencies can be met but the risk of third-party breakages is reduced. In production deployment, exact pinning and dedicated repositories are strongly recommended - some language tools do this in a more streamlined way (package.lock for npm, for example). However... narrowly pinning development code can prevent security patches being brought in, or conflicts when your module is later used with other code - the dependency versions conflict."
      ]
    },
    {
      "cell_type": "markdown",
      "metadata": {
        "id": "Oy3fq5-wR5GA"
      },
      "source": [
        "## pytest"
      ]
    },
    {
      "cell_type": "markdown",
      "metadata": {
        "id": "YFTLwrNAR5GA"
      },
      "source": [
        "This is the first contact with `pytest`. It automatically seeks out files starting with `test_` -- I'll walk you through `test_levenshtein.py` now..."
      ]
    },
    {
      "cell_type": "markdown",
      "metadata": {
        "id": "6phzGp74R5GB"
      },
      "source": [
        "You can run these tests from the command line:"
      ]
    },
    {
      "cell_type": "markdown",
      "metadata": {
        "id": "w0YEjB7IR5GB"
      },
      "source": [
        "### Exercise: Gene Hacking"
      ]
    },
    {
      "cell_type": "code",
      "source": [
        "pip install py==1.11.0 --force-reinstall"
      ],
      "metadata": {
        "colab": {
          "base_uri": "https://localhost:8080/"
        },
        "id": "kmde80YKXsS0",
        "outputId": "9ad5c744-0d97-4697-fcbe-0267f441504d"
      },
      "execution_count": null,
      "outputs": [
        {
          "output_type": "stream",
          "name": "stdout",
          "text": [
            "Collecting py==1.11.0\n",
            "  Downloading py-1.11.0-py2.py3-none-any.whl.metadata (2.8 kB)\n",
            "Downloading py-1.11.0-py2.py3-none-any.whl (98 kB)\n",
            "\u001b[2K   \u001b[90m━━━━━━━━━━━━━━━━━━━━━━━━━━━━━━━━━━━━━━━━\u001b[0m \u001b[32m98.7/98.7 kB\u001b[0m \u001b[31m1.7 MB/s\u001b[0m eta \u001b[36m0:00:00\u001b[0m\n",
            "\u001b[?25hInstalling collected packages: py\n",
            "Successfully installed py-1.11.0\n"
          ]
        }
      ]
    },
    {
      "cell_type": "code",
      "execution_count": null,
      "metadata": {
        "id": "ojSARK-qR5GB",
        "outputId": "4c4058a0-8550-4aab-ecfd-d8414f5c24fd",
        "colab": {
          "base_uri": "https://localhost:8080/"
        }
      },
      "outputs": [
        {
          "output_type": "stream",
          "name": "stdout",
          "text": [
            "\u001b[1m============================= test session starts ==============================\u001b[0m\n",
            "platform linux -- Python 3.11.13, pytest-7.4.4, pluggy-1.6.0\n",
            "benchmark: 3.2.3 (defaults: timer=time.perf_counter disable_gc=False min_rounds=5 min_time=0.000005 max_time=1.0 calibration_precision=10 warmup=False warmup_iterations=100000)\n",
            "rootdir: /content\n",
            "plugins: benchmark-3.2.3, anyio-4.10.0, typeguard-4.4.4, langsmith-0.4.13\n",
            "\u001b[1mcollecting ... \u001b[0m\u001b[1m\rcollected 5 items                                                              \u001b[0m\n",
            "\n",
            "test_levenshtein.py \u001b[32m.\u001b[0m\u001b[32m.\u001b[0m\u001b[32m.\u001b[0m\u001b[32m.\u001b[0m\u001b[32m.\u001b[0m\u001b[32m                                                [100%]\u001b[0m\n",
            "\n",
            "\u001b[32m============================== \u001b[32m\u001b[1m5 passed\u001b[0m\u001b[32m in 0.14s\u001b[0m\u001b[32m ===============================\u001b[0m\n"
          ]
        }
      ],
      "source": [
        "!pytest test_levenshtein.py"
      ]
    },
    {
      "cell_type": "markdown",
      "metadata": {
        "id": "mhGjejDFR5GB"
      },
      "source": [
        "There is a link there to Wikipedia, which has a standard textbook description of two algorithms - we will test which is faster. Can you fill in `my_levenshtein.py` to implement the _recursive_ `calculate_levenshtein` algorithm? Re-run the `pytest` command above until it passes!"
      ]
    },
    {
      "cell_type": "markdown",
      "metadata": {
        "id": "UTxfRENnR5GB"
      },
      "source": [
        "### Extension: Gene Wilder\n",
        "\n",
        "Going one further, can you implement the matrix version, using numpy, in the routine below? (algorithm also available from the same source)"
      ]
    },
    {
      "cell_type": "markdown",
      "metadata": {
        "id": "cJpys34CR5GB"
      },
      "source": [
        "### Extension: Gene E Us"
      ]
    },
    {
      "cell_type": "markdown",
      "metadata": {
        "id": "ukASY8q0R5GB"
      },
      "source": [
        "Can you write a version that passes all the tests, but does not work in general? Can you add a test to catch your \"mistake\"? How much more robust can you make the testing?\n",
        "\n",
        "This highlights a challenge with testing numerical or ML algorithms - that enumerating all possible cases is not necessarily possible. How might you break it up your testing, or your algorithm, to be able to more reliably test it?"
      ]
    },
    {
      "cell_type": "markdown",
      "metadata": {
        "id": "ZKw5L1A6R5GB"
      },
      "source": [
        "## pylint"
      ]
    },
    {
      "cell_type": "markdown",
      "metadata": {
        "id": "RVG2Mz2oR5GB"
      },
      "source": [
        "Pylint exists to help make sure your code is compliant with the PEP8 style guide (and a few others) - you can run it like so:"
      ]
    },
    {
      "cell_type": "code",
      "execution_count": null,
      "metadata": {
        "id": "Mdt21X1MR5GB",
        "outputId": "3d862942-6911-4d28-848c-990a46e86ab4",
        "colab": {
          "base_uri": "https://localhost:8080/"
        }
      },
      "outputs": [
        {
          "output_type": "stream",
          "name": "stdout",
          "text": [
            "/bin/bash: line 1: pylint: command not found\n"
          ]
        }
      ],
      "source": [
        "!pylint my_levenshtein.py"
      ]
    },
    {
      "cell_type": "markdown",
      "metadata": {
        "id": "NyLseoEuR5GB"
      },
      "source": [
        "It's a pain, but once your code passes it, it's a breeze! It is recommended to include it in a continuous integration pipeline, just like testing - some developers include it in the githooks (automated code that is run when code is either committed locally, or pushed remotely)."
      ]
    },
    {
      "cell_type": "markdown",
      "metadata": {
        "id": "yREimgdjR5GB"
      },
      "source": [
        "### Exercise: Code Hy-gene\n",
        "\n",
        "Try to adapt your code until it passes. Are all the checks useful? Are there some you would switch off?"
      ]
    },
    {
      "cell_type": "code",
      "source": [
        "pip install hypothesis"
      ],
      "metadata": {
        "colab": {
          "base_uri": "https://localhost:8080/"
        },
        "id": "NzZRQTKcchZt",
        "outputId": "49a94211-bcfd-44db-9808-39e815ac1fd8"
      },
      "execution_count": null,
      "outputs": [
        {
          "output_type": "stream",
          "name": "stdout",
          "text": [
            "Collecting hypothesis\n",
            "  Downloading hypothesis-6.138.0-py3-none-any.whl.metadata (5.6 kB)\n",
            "Requirement already satisfied: attrs>=22.2.0 in /usr/local/lib/python3.11/dist-packages (from hypothesis) (25.3.0)\n",
            "Requirement already satisfied: sortedcontainers<3.0.0,>=2.1.0 in /usr/local/lib/python3.11/dist-packages (from hypothesis) (2.4.0)\n",
            "Downloading hypothesis-6.138.0-py3-none-any.whl (529 kB)\n",
            "\u001b[2K   \u001b[90m━━━━━━━━━━━━━━━━━━━━━━━━━━━━━━━━━━━━━━━━\u001b[0m \u001b[32m529.9/529.9 kB\u001b[0m \u001b[31m6.8 MB/s\u001b[0m eta \u001b[36m0:00:00\u001b[0m\n",
            "\u001b[?25hInstalling collected packages: hypothesis\n",
            "Successfully installed hypothesis-6.138.0\n"
          ]
        }
      ]
    },
    {
      "cell_type": "code",
      "source": [
        "from hypothesis import given\n",
        "import hypothesis.strategies as st\n",
        "import my_levenshtein\n",
        "import Levenshtein as levenshtein_module  # known correct library\n",
        "\n",
        "# Hypothesis will give us MANY random pairs of strings\n",
        "@given(st.text(), st.text())\n",
        "def test_levenshtein_matches_library(a, b):\n",
        "    # Your function's result\n",
        "    my_result = my_levenshtein.calculate_levenshtein(a, b)\n",
        "\n",
        "    # Trusted \"gold standard\" result from python-Levenshtein\n",
        "    expected = levenshtein_module.distance(a, b)\n",
        "\n",
        "    # The property: They should always match\n",
        "    assert my_result == expected\n"
      ],
      "metadata": {
        "id": "ACJfkXLPcfG4"
      },
      "execution_count": null,
      "outputs": []
    },
    {
      "cell_type": "code",
      "source": [
        "!pytest -v"
      ],
      "metadata": {
        "colab": {
          "base_uri": "https://localhost:8080/"
        },
        "id": "O43HfDbSc3ir",
        "outputId": "3361eefb-ba7c-45bf-864b-46c2862d45ec"
      },
      "execution_count": null,
      "outputs": [
        {
          "output_type": "stream",
          "name": "stdout",
          "text": [
            "\u001b[1m============================= test session starts ==============================\u001b[0m\n",
            "platform linux -- Python 3.11.13, pytest-7.4.4, pluggy-1.6.0 -- /usr/bin/python3\n",
            "cachedir: .pytest_cache\n",
            "hypothesis profile 'default'\n",
            "benchmark: 3.2.3 (defaults: timer=time.perf_counter disable_gc=False min_rounds=5 min_time=0.000005 max_time=1.0 calibration_precision=10 warmup=False warmup_iterations=100000)\n",
            "rootdir: /content\n",
            "plugins: hypothesis-6.138.0, benchmark-3.2.3, anyio-4.10.0, typeguard-4.4.4, langsmith-0.4.13\n",
            "collected 5 items                                                              \u001b[0m\n",
            "\n",
            "test_levenshtein.py::test_same_string_has_zero_distance \u001b[32mPASSED\u001b[0m\u001b[32m           [ 20%]\u001b[0m\n",
            "test_levenshtein.py::test_different_strings_have_correct_distance \u001b[32mPASSED\u001b[0m\u001b[32m [ 40%]\u001b[0m\n",
            "test_levenshtein.py::test_asdf_asfd_distance_is_two \u001b[32mPASSED\u001b[0m\u001b[32m               [ 60%]\u001b[0m\n",
            "test_levenshtein.py::test_asf_asfd_distance_is_one \u001b[32mPASSED\u001b[0m\u001b[32m                [ 80%]\u001b[0m\n",
            "test_levenshtein.py::test_amazon_aazonia_distance_is_three \u001b[32mPASSED\u001b[0m\u001b[32m        [100%]\u001b[0m\n",
            "\n",
            "\u001b[32m============================== \u001b[32m\u001b[1m5 passed\u001b[0m\u001b[32m in 1.13s\u001b[0m\u001b[32m ===============================\u001b[0m\n"
          ]
        }
      ]
    },
    {
      "cell_type": "markdown",
      "source": [
        "Levenshtein distance was implemented in recursive and iterative forms.\n",
        "Tests included fixed cases and property-based testing with Hypothesis.\n",
        "Property-based testing helps catch issues that manual cases might miss"
      ],
      "metadata": {
        "id": "tryoboDsdlDN"
      }
    },
    {
      "cell_type": "code",
      "source": [],
      "metadata": {
        "id": "XlA1MbwmdlmZ"
      },
      "execution_count": null,
      "outputs": []
    }
  ],
  "metadata": {
    "celltoolbar": "Slideshow",
    "kernelspec": {
      "display_name": "Python 3",
      "language": "python",
      "name": "python3"
    },
    "language_info": {
      "codemirror_mode": {
        "name": "ipython",
        "version": 3
      },
      "file_extension": ".py",
      "mimetype": "text/x-python",
      "name": "python",
      "nbconvert_exporter": "python",
      "pygments_lexer": "ipython3",
      "version": "3.7.3"
    },
    "livereveal": {
      "theme": "beige",
      "transition": "cascade"
    },
    "colab": {
      "provenance": []
    }
  },
  "nbformat": 4,
  "nbformat_minor": 0
}