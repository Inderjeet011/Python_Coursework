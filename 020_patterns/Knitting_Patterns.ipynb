{
  "cells": [
    {
      "cell_type": "markdown",
      "metadata": {
        "id": "yxlP2J0_fLte"
      },
      "source": [
        "# Patterns"
      ]
    },
    {
      "cell_type": "markdown",
      "metadata": {
        "id": "3ZjxKPr6fLtg"
      },
      "source": [
        "## Knitting Code Beautifully"
      ]
    },
    {
      "cell_type": "markdown",
      "metadata": {
        "id": "X23oOscIfLth"
      },
      "source": [
        "We discussed Pythonic as being an ethos, rather than enforced rules - a subjective achievement that works by consensus. And that that is fundamental to how and why Python as an ecosystem or a language, works."
      ]
    },
    {
      "cell_type": "markdown",
      "metadata": {
        "id": "EAB6M9ujfLth"
      },
      "source": [
        "Design patterns are of a similar nature, and are seen in many languages in different ways - although tend to be discussed much more commonly in traditional enterprise languages, such as C# or Java. Nonetheless, they are highly relevant and, perhaps, an undervalued way of thinking about code quality in Python. Equivalently, and perhaps more importantly, anti-patterns - habits that make code worse or could be considered \"Code Smells\", indicators of deeper problems.\n",
        "\n",
        "One helpful language-independent resource from a leading author, is Martin Fowler's website: https://martinfowler.com/bliki/CodeSmell.html for instance. His wiki is a bit like TV Tropes for software projects."
      ]
    },
    {
      "cell_type": "markdown",
      "metadata": {
        "id": "heRCEUmffLti"
      },
      "source": [
        "These are not laws - Pythonic philosophy states that practicality beats purity and a hard-to-explain implementation is a bad idea. A literal reading of some design patterns would frequently be at odds with this, so it always comes down to judgement - in my opinion, Pythonic beats established design patterns, when in Python. Some design patterns have language assumptions (such as exception-handling being expensive) that contravene the underlying design principles of Python. The one thing that's critical, as all authors agree on, is that **thinking it through it is the key objective**, not your conclusion."
      ]
    },
    {
      "cell_type": "markdown",
      "metadata": {
        "id": "BPWu9WANfLtj"
      },
      "source": [
        "One final caveat: I know experienced programmers who say that design patterns are an anti-pattern themselves. This is based on the precept that languages should enforce or at least guide good coding practice, and that design patterns are a sticking plaster - certainly, Python goes the other philosophical direction, giving great freedom to the programmer and trusting that they use it wisely. As they say, with great power..."
      ]
    },
    {
      "cell_type": "markdown",
      "metadata": {
        "id": "w0YzzJxZfLtj"
      },
      "source": [
        "## Domain-Driven Design"
      ]
    },
    {
      "cell_type": "markdown",
      "metadata": {
        "id": "8n0fESzqfLtj"
      },
      "source": [
        "This will be a whistle-stop tour - we can delve a bit more into individual concepts in subsequent days, but I am keen that the terms and notions are at least familiar. The first and perhaps more under-described here, is domain-driven design. Tens of thousands of pages have been written about it, debate rages about what the \"ubiquitous language\" concept that underlies it is, or whether it's useful, but DDD (as it's affectionately known) boils down to:"
      ]
    },
    {
      "cell_type": "markdown",
      "metadata": {
        "id": "K-hcYn7-fLtk"
      },
      "source": [
        "### The terminology you use in the code should reflect the terminology of the user"
      ]
    },
    {
      "cell_type": "markdown",
      "metadata": {
        "id": "aKizbYPQfLtk"
      },
      "source": [
        "Going a little deeper, this is implemented by creating a conceptual \"domain model\", that is, a conceptual model of the business domain. Then, this is reflected in the code. A follow-on is that you start separating your code more cleanly into layers - a huge number of DDD patterns exist around how best to do this, but sticking to the basics is better than getting bogged down! But, you generally see at least:\n",
        "\n",
        "* an *application layer*: code handling presentation through UI or APIs; and\n",
        "* a *domain layer*: code implementing \"business logic\", i.e. logic rules of the application;\n",
        "* an *infrastructure layer*: code that deals with DBs, logging, etc"
      ]
    },
    {
      "cell_type": "markdown",
      "metadata": {
        "id": "Jqxa8Z0ofLtk"
      },
      "source": [
        "Sometimes it is confused with UML, but UML is only a tool that may or may not be useful - DDD is a way of thinking. I would highly recommend Martin Fowler's work on this, for a broader understanding and deep-dive: https://martinfowler.com/tags/domain%20driven%20design.html"
      ]
    },
    {
      "cell_type": "markdown",
      "metadata": {
        "id": "IvTnDtpIfLtl"
      },
      "source": [
        "DDD is prevalent in C#, where a lot of best-practice theory in the language ecosystem draws from DDD literature. Perhaps surprisingly for some, PHP's renaissance owed a huge amount to the purism of DDD advocates - PHP syntactically is (IMO) the best wide-spread scripting language for encouraging good programming practice. When PHP advocates in the late 2000s saw the damage poor code was doing to the language's reputation (and theirs!), library writers upped the bar high - the core PHP libraries have extremely strong principles around language style, idiom and design patterns. Modern web frameworks, such as Laravel and (especially) Symfony are excellent for educating new coders in those. But there's a long legacy to shake..."
      ]
    },
    {
      "cell_type": "markdown",
      "metadata": {
        "id": "1L1BHC4bfLtl"
      },
      "source": [
        "Strangely, Python, which is a beautiful language, is much laxer about this, and gives little guidance or assistance. However, DDD, at its highest level, is a simple concept to start with."
      ]
    },
    {
      "cell_type": "markdown",
      "metadata": {
        "id": "H_B6Zi91fLtl"
      },
      "source": [
        "The first step is building a domain model - this is entirely offline. To start, a concept of \"entities\" is useful: these are conceptual nouns that the domain-expert keeps referring to (also may be thought of as a stakeholder, or client, perhaps). The best way to tease these out is discussion - spot how they use words, what they refer to. The next concept is \"relationships\" - if they are a bridge-building company, they may talk about how many Arches (an entity) a Bridge (another entity) has. You can tell that one *bridge* has many *arches*. Perhaps a *surveyor* periodically \"surveys\" a bridge and \"signs it off\". Finally, there is the business logic: perhaps an application should insist that every *bridge* has an *arch* - this is a business rule - or that a surveyor only signs off a bridge if it is \"structurally sound\"."
      ]
    },
    {
      "cell_type": "markdown",
      "metadata": {
        "id": "fPif4Ru_fLtl"
      },
      "source": [
        "A basic way of pulling together a diagram of this is PlantUML (abusing its class diagram syntax...):"
      ]
    },
    {
      "cell_type": "code",
      "source": [
        "pip install iplantuml"
      ],
      "metadata": {
        "colab": {
          "base_uri": "https://localhost:8080/"
        },
        "id": "Zng-yKrcgpgg",
        "outputId": "473379fa-1209-49ab-e7dd-b964d5de97fa"
      },
      "execution_count": null,
      "outputs": [
        {
          "output_type": "stream",
          "name": "stdout",
          "text": [
            "Collecting iplantuml\n",
            "  Downloading IPlantUML-0.1.1.tar.gz (5.5 kB)\n",
            "  Preparing metadata (setup.py) ... \u001b[?25l\u001b[?25hdone\n",
            "Collecting plantweb (from iplantuml)\n",
            "  Downloading plantweb-1.3.0-py3-none-any.whl.metadata (4.1 kB)\n",
            "Requirement already satisfied: docutils in /usr/local/lib/python3.11/dist-packages (from plantweb->iplantuml) (0.21.2)\n",
            "Requirement already satisfied: requests in /usr/local/lib/python3.11/dist-packages (from plantweb->iplantuml) (2.32.3)\n",
            "Requirement already satisfied: six in /usr/local/lib/python3.11/dist-packages (from plantweb->iplantuml) (1.17.0)\n",
            "Requirement already satisfied: charset-normalizer<4,>=2 in /usr/local/lib/python3.11/dist-packages (from requests->plantweb->iplantuml) (3.4.3)\n",
            "Requirement already satisfied: idna<4,>=2.5 in /usr/local/lib/python3.11/dist-packages (from requests->plantweb->iplantuml) (3.10)\n",
            "Requirement already satisfied: urllib3<3,>=1.21.1 in /usr/local/lib/python3.11/dist-packages (from requests->plantweb->iplantuml) (2.5.0)\n",
            "Requirement already satisfied: certifi>=2017.4.17 in /usr/local/lib/python3.11/dist-packages (from requests->plantweb->iplantuml) (2025.8.3)\n",
            "Downloading plantweb-1.3.0-py3-none-any.whl (20 kB)\n",
            "Building wheels for collected packages: iplantuml\n",
            "  Building wheel for iplantuml (setup.py) ... \u001b[?25l\u001b[?25hdone\n",
            "  Created wheel for iplantuml: filename=IPlantUML-0.1.1-py2.py3-none-any.whl size=4894 sha256=4ff8a84db8b0da6846b832eb05d812e3af1a1f1d085d6772c7c1d77f7b7bba31\n",
            "  Stored in directory: /root/.cache/pip/wheels/ff/d9/f3/4bea79322686f50397e75019c91d0957d079092e5f16e86d23\n",
            "Successfully built iplantuml\n",
            "Installing collected packages: plantweb, iplantuml\n",
            "Successfully installed iplantuml-0.1.1 plantweb-1.3.0\n"
          ]
        }
      ]
    },
    {
      "cell_type": "code",
      "execution_count": null,
      "metadata": {
        "id": "Od_o3uZffLtm"
      },
      "outputs": [],
      "source": [
        "import iplantuml"
      ]
    },
    {
      "cell_type": "code",
      "execution_count": null,
      "metadata": {
        "id": "sM9J68zWfLtm",
        "outputId": "d29ab67c-fd16-459e-a9e3-925ed0f55e94",
        "colab": {
          "base_uri": "https://localhost:8080/",
          "height": 414
        }
      },
      "outputs": [
        {
          "output_type": "execute_result",
          "data": {
            "text/plain": [
              "<IPython.core.display.SVG object>"
            ],
            "image/svg+xml": "<svg xmlns=\"http://www.w3.org/2000/svg\" xmlns:xlink=\"http://www.w3.org/1999/xlink\" contentStyleType=\"text/css\" data-diagram-type=\"CLASS\" height=\"393px\" preserveAspectRatio=\"none\" style=\"width:184px;height:393px;background:#FFFFFF;\" version=\"1.1\" viewBox=\"0 0 184 393\" width=\"184px\" zoomAndPan=\"magnify\"><defs/><g><!--class Bridge--><g class=\"entity\" data-entity=\"Bridge\" data-source-line=\"1\" data-uid=\"ent0002\" id=\"entity_Bridge\"><rect fill=\"#F1F1F1\" height=\"96.8906\" rx=\"2.5\" ry=\"2.5\" style=\"stroke:#181818;stroke-width:0.5;\" width=\"170.4707\" x=\"7\" y=\"148.29\"/><ellipse cx=\"65.167\" cy=\"164.29\" fill=\"#ADD1B2\" rx=\"11\" ry=\"11\" style=\"stroke:#181818;stroke-width:1;\"/><path d=\"M68.1357,169.9306 Q67.5576,170.2275 66.917,170.3681 Q66.2764,170.5244 65.5732,170.5244 Q63.0732,170.5244 61.7451,168.8838 Q60.4326,167.2275 60.4326,164.1025 Q60.4326,160.9775 61.7451,159.3213 Q63.0732,157.665 65.5732,157.665 Q66.2764,157.665 66.917,157.8213 Q67.5732,157.9775 68.1357,158.2744 L68.1357,160.9931 Q67.5107,160.415 66.917,160.1494 Q66.3232,159.8681 65.6982,159.8681 Q64.3545,159.8681 63.667,160.9463 Q62.9795,162.0088 62.9795,164.1025 Q62.9795,166.1963 63.667,167.2744 Q64.3545,168.3369 65.6982,168.3369 Q66.3232,168.3369 66.917,168.0713 Q67.5107,167.79 68.1357,167.2119 L68.1357,169.9306 Z \" fill=\"#000000\"/><text fill=\"#000000\" font-family=\"sans-serif\" font-size=\"14\" lengthAdjust=\"spacing\" textLength=\"45.6367\" x=\"85.667\" y=\"169.1367\">Bridge</text><line style=\"stroke:#181818;stroke-width:0.5;\" x1=\"8\" x2=\"176.4707\" y1=\"180.29\" y2=\"180.29\"/><text fill=\"#000000\" font-family=\"sans-serif\" font-size=\"14\" lengthAdjust=\"spacing\" textLength=\"44.625\" x=\"13\" y=\"197.2851\">length</text><text fill=\"#000000\" font-family=\"sans-serif\" font-size=\"14\" lengthAdjust=\"spacing\" textLength=\"44.625\" x=\"13\" y=\"213.582\">height</text><line style=\"stroke:#181818;stroke-width:1;\" x1=\"8\" x2=\"176.4707\" y1=\"220.8838\" y2=\"220.8838\"/><text fill=\"#000000\" font-family=\"sans-serif\" font-size=\"14\" lengthAdjust=\"spacing\" textLength=\"158.4707\" x=\"13\" y=\"237.8789\">is_structurally_sound()</text></g><!--class Surveyor--><g class=\"entity\" data-entity=\"Surveyor\" data-source-line=\"8\" data-uid=\"ent0003\" id=\"entity_Surveyor\"><rect fill=\"#F1F1F1\" height=\"64.2969\" rx=\"2.5\" ry=\"2.5\" style=\"stroke:#181818;stroke-width:0.5;\" width=\"95.0205\" x=\"44.73\" y=\"7\"/><ellipse cx=\"59.73\" cy=\"23\" fill=\"#ADD1B2\" rx=\"11\" ry=\"11\" style=\"stroke:#181818;stroke-width:1;\"/><path d=\"M62.6988,28.6406 Q62.1206,28.9375 61.48,29.0781 Q60.8394,29.2344 60.1363,29.2344 Q57.6363,29.2344 56.3081,27.5938 Q54.9956,25.9375 54.9956,22.8125 Q54.9956,19.6875 56.3081,18.0313 Q57.6363,16.375 60.1363,16.375 Q60.8394,16.375 61.48,16.5313 Q62.1363,16.6875 62.6988,16.9844 L62.6988,19.7031 Q62.0738,19.125 61.48,18.8594 Q60.8863,18.5781 60.2613,18.5781 Q58.9175,18.5781 58.23,19.6563 Q57.5425,20.7188 57.5425,22.8125 Q57.5425,24.9063 58.23,25.9844 Q58.9175,27.0469 60.2613,27.0469 Q60.8863,27.0469 61.48,26.7813 Q62.0738,26.5 62.6988,25.9219 L62.6988,28.6406 Z \" fill=\"#000000\"/><text fill=\"#000000\" font-family=\"sans-serif\" font-size=\"14\" lengthAdjust=\"spacing\" textLength=\"63.0205\" x=\"73.73\" y=\"27.8467\">Surveyor</text><line style=\"stroke:#181818;stroke-width:0.5;\" x1=\"45.73\" x2=\"138.7505\" y1=\"39\" y2=\"39\"/><text fill=\"#000000\" font-family=\"sans-serif\" font-size=\"14\" lengthAdjust=\"spacing\" textLength=\"39.7031\" x=\"50.73\" y=\"55.9951\">name</text><line style=\"stroke:#181818;stroke-width:0.5;\" x1=\"45.73\" x2=\"138.7505\" y1=\"63.2969\" y2=\"63.2969\"/></g><!--class Arch--><g class=\"entity\" data-entity=\"Arch\" data-source-line=\"12\" data-uid=\"ent0004\" id=\"entity_Arch\"><rect fill=\"#F1F1F1\" height=\"64.2969\" rx=\"2.5\" ry=\"2.5\" style=\"stroke:#181818;stroke-width:0.5;\" width=\"75.4648\" x=\"54.5\" y=\"322.18\"/><ellipse cx=\"74.7027\" cy=\"338.18\" fill=\"#ADD1B2\" rx=\"11\" ry=\"11\" style=\"stroke:#181818;stroke-width:1;\"/><path d=\"M77.6714,343.8206 Q77.0933,344.1175 76.4527,344.2581 Q75.8121,344.4144 75.1089,344.4144 Q72.6089,344.4144 71.2808,342.7738 Q69.9683,341.1175 69.9683,337.9925 Q69.9683,334.8675 71.2808,333.2113 Q72.6089,331.555 75.1089,331.555 Q75.8121,331.555 76.4527,331.7113 Q77.1089,331.8675 77.6714,332.1644 L77.6714,334.8831 Q77.0464,334.305 76.4527,334.0394 Q75.8589,333.7581 75.2339,333.7581 Q73.8902,333.7581 73.2027,334.8363 Q72.5152,335.8988 72.5152,337.9925 Q72.5152,340.0863 73.2027,341.1644 Q73.8902,342.2269 75.2339,342.2269 Q75.8589,342.2269 76.4527,341.9613 Q77.0464,341.68 77.6714,341.1019 L77.6714,343.8206 Z \" fill=\"#000000\"/><text fill=\"#000000\" font-family=\"sans-serif\" font-size=\"14\" lengthAdjust=\"spacing\" textLength=\"31.9033\" x=\"89.8588\" y=\"343.0267\">Arch</text><line style=\"stroke:#181818;stroke-width:0.5;\" x1=\"55.5\" x2=\"128.9648\" y1=\"354.18\" y2=\"354.18\"/><text fill=\"#000000\" font-family=\"sans-serif\" font-size=\"14\" lengthAdjust=\"spacing\" textLength=\"63.4648\" x=\"60.5\" y=\"371.1751\">diameter</text><line style=\"stroke:#181818;stroke-width:0.5;\" x1=\"55.5\" x2=\"128.9648\" y1=\"378.4769\" y2=\"378.4769\"/></g><!--link Bridge to Arch--><g class=\"link\" data-entity-1=\"Bridge\" data-entity-2=\"Arch\" data-source-line=\"16\" data-uid=\"lnk5\" id=\"link_Bridge_Arch\"><path codeLine=\"16\" d=\"M92.24,245.27 C92.24,270.11 92.24,293.84 92.24,315.82\" fill=\"none\" id=\"Bridge-to-Arch\" style=\"stroke:#181818;stroke-width:1;\"/><polygon fill=\"#181818\" points=\"92.24,321.82,96.24,312.82,92.24,316.82,88.24,312.82,92.24,321.82\" style=\"stroke:#181818;stroke-width:1;\"/><text fill=\"#000000\" font-family=\"sans-serif\" font-size=\"13\" lengthAdjust=\"spacing\" textLength=\"22.9785\" x=\"93.24\" y=\"288.2469\">has</text></g><!--link Surveyor to Bridge--><g class=\"link\" data-entity-1=\"Surveyor\" data-entity-2=\"Bridge\" data-source-line=\"17\" data-uid=\"lnk6\" id=\"link_Surveyor_Bridge\"><path codeLine=\"17\" d=\"M60.47,71.58 C53.44,80.47 46.98,90.64 43.24,101.29 C37.73,116.98 39.2499,128.0574 47.2999,142.6374\" fill=\"none\" id=\"Surveyor-to-Bridge\" style=\"stroke:#181818;stroke-width:1;\"/><polygon fill=\"#181818\" points=\"50.2,147.89,49.3516,138.0778,47.7833,143.5129,42.3482,141.9445,50.2,147.89\" style=\"stroke:#181818;stroke-width:1;\"/><text fill=\"#000000\" font-family=\"sans-serif\" font-size=\"13\" lengthAdjust=\"spacing\" textLength=\"50.5146\" x=\"44.24\" y=\"114.3569\">surveys</text></g><!--link Surveyor to Bridge--><g class=\"link\" data-entity-1=\"Surveyor\" data-entity-2=\"Bridge\" data-source-line=\"18\" data-uid=\"lnk7\" id=\"link_Surveyor_Bridge\"><path codeLine=\"18\" d=\"M96.52,71.51 C97.64,81.05 98.68,91.58 99.24,101.29 C100.11,116.56 99.9104,127.2201 98.6804,142.2201\" fill=\"none\" id=\"Surveyor-to-Bridge-1\" style=\"stroke:#181818;stroke-width:1;\"/><polygon fill=\"#181818\" points=\"98.19,148.2,102.9122,139.557,98.5986,143.2167,94.9389,138.9032,98.19,148.2\" style=\"stroke:#181818;stroke-width:1;\"/><text fill=\"#000000\" font-family=\"sans-serif\" font-size=\"13\" lengthAdjust=\"spacing\" textLength=\"54.8882\" x=\"100.24\" y=\"114.3569\">signs off</text></g><!--SRC=[TOr12iCW54Jtdk8lcuKNoABGNg472A8_Vi4g_A-5K7ht6YFjAhCQvWqpDXeHk7Dm7k6je2bYyeMw9GoUIhUwgPiWYnIkjbGsCMwBv9hSPL8VfMmVUrH-uPRvc4lcYNzsOqlZneL62l8Enx_MrwCn0nbHlw4z7vKPfAUdDFWaaDVr2m00]--></g></svg>"
          },
          "metadata": {},
          "execution_count": 3
        }
      ],
      "source": [
        "%%plantuml\n",
        "\n",
        "@startuml\n",
        "class Bridge {\n",
        "    length\n",
        "    height\n",
        "    ----\n",
        "    is_structurally_sound()\n",
        "}\n",
        "\n",
        "class Surveyor {\n",
        "   name\n",
        "}\n",
        "\n",
        "class Arch {\n",
        "    diameter\n",
        "}\n",
        "\n",
        "Bridge --> Arch : has\n",
        "Surveyor --> Bridge : surveys\n",
        "Surveyor --> Bridge : signs off\n",
        "@enduml"
      ]
    },
    {
      "cell_type": "markdown",
      "metadata": {
        "id": "krD1c6dyfLto"
      },
      "source": [
        "* a **surveyor** can only **sign off** a **bridge** if it is **structurally sound**\n",
        "* a **bridge** can have several **arches**\n",
        "* a **bridge** must have at least one **arch**\n",
        "* the total of all **diameters** of a **bridge**'s **arches** must be less than the **width** of the **bridge**"
      ]
    },
    {
      "cell_type": "markdown",
      "metadata": {
        "id": "bzXoNF8ZfLto"
      },
      "source": [
        "---"
      ]
    },
    {
      "cell_type": "markdown",
      "metadata": {
        "id": "sbOcWJcyfLto"
      },
      "source": [
        "Strictly, in DDD, class diagrams are not really encouraged (partially because DDD has better tools for breaking down problems too complex for this monolithic approach), but they're adequate for getting you thinking along those lines."
      ]
    },
    {
      "cell_type": "markdown",
      "metadata": {
        "id": "3G4pXY5PfLto"
      },
      "source": [
        "A simple example:"
      ]
    },
    {
      "cell_type": "markdown",
      "metadata": {
        "id": "VV3btgOufLto"
      },
      "source": [
        "### Exercise: Knit Wit"
      ]
    },
    {
      "cell_type": "markdown",
      "metadata": {
        "id": "r1xo-BARfLto"
      },
      "source": [
        "You have been commissioned to build a web application for choosing knitting patterns. Perhaps a gallery, but maybe different types of wool, or techniques, will show different patterns? Do you want to link out to sales sites? Do you have users?\n",
        "\n",
        "* Split up into 2 groups. Within your group, nominate one person as a \"product owner\" and one person as an \"architect\"\n",
        "* The product owner is commissioning the app - their word is law! But... (for this exercise) they do not participate in the app design. The other team members should quiz them to understand what the needs are - what entities do they talk about? How are they related? What business rules are there? (e.g. who should see what? does thick wool show the same designs as fine wool?)\n",
        "* The other team members should guide the architect (who screenshares this notebook) in producing a simple domain model diagram, and bullet point list of business logic rules - don't overcomplicate it! But make sure to use the _language_ of the product owner (entities and relationships)"
      ]
    },
    {
      "cell_type": "code",
      "execution_count": null,
      "metadata": {
        "id": "s5j4r7dOfLtp",
        "outputId": "79d8e66f-ab51-42a9-cf51-51a924ce3d0d",
        "colab": {
          "base_uri": "https://localhost:8080/",
          "height": 333
        }
      },
      "outputs": [
        {
          "output_type": "execute_result",
          "data": {
            "text/plain": [
              "<IPython.core.display.SVG object>"
            ],
            "image/svg+xml": "<svg xmlns=\"http://www.w3.org/2000/svg\" xmlns:xlink=\"http://www.w3.org/1999/xlink\" contentStyleType=\"text/css\" data-diagram-type=\"CLASS\" height=\"312px\" preserveAspectRatio=\"none\" style=\"width:201px;height:312px;background:#FFFFFF;\" version=\"1.1\" viewBox=\"0 0 201 312\" width=\"201px\" zoomAndPan=\"magnify\"><defs/><g><!--class Pattern--><g class=\"entity\" data-entity=\"Pattern\" data-source-line=\"1\" data-uid=\"ent0002\" id=\"entity_Pattern\"><rect fill=\"#F1F1F1\" height=\"48\" rx=\"2.5\" ry=\"2.5\" style=\"stroke:#181818;stroke-width:0.5;\" width=\"83.2422\" x=\"52.26\" y=\"132\"/><ellipse cx=\"67.26\" cy=\"148\" fill=\"#ADD1B2\" rx=\"11\" ry=\"11\" style=\"stroke:#181818;stroke-width:1;\"/><path d=\"M70.2287,153.6406 Q69.6506,153.9375 69.01,154.0781 Q68.3694,154.2344 67.6662,154.2344 Q65.1662,154.2344 63.8381,152.5938 Q62.5256,150.9375 62.5256,147.8125 Q62.5256,144.6875 63.8381,143.0313 Q65.1662,141.375 67.6662,141.375 Q68.3694,141.375 69.01,141.5313 Q69.6662,141.6875 70.2287,141.9844 L70.2287,144.7031 Q69.6037,144.125 69.01,143.8594 Q68.4162,143.5781 67.7912,143.5781 Q66.4475,143.5781 65.76,144.6563 Q65.0725,145.7188 65.0725,147.8125 Q65.0725,149.9063 65.76,150.9844 Q66.4475,152.0469 67.7912,152.0469 Q68.4162,152.0469 69.01,151.7813 Q69.6037,151.5 70.2287,150.9219 L70.2287,153.6406 Z \" fill=\"#000000\"/><text fill=\"#000000\" font-family=\"sans-serif\" font-size=\"14\" lengthAdjust=\"spacing\" textLength=\"51.2422\" x=\"81.26\" y=\"152.8467\">Pattern</text><line style=\"stroke:#181818;stroke-width:0.5;\" x1=\"53.26\" x2=\"134.5022\" y1=\"164\" y2=\"164\"/><line style=\"stroke:#181818;stroke-width:0.5;\" x1=\"53.26\" x2=\"134.5022\" y1=\"172\" y2=\"172\"/></g><!--class Yarn--><g class=\"entity\" data-entity=\"Yarn\" data-source-line=\"4\" data-uid=\"ent0003\" id=\"entity_Yarn\"><rect fill=\"#F1F1F1\" height=\"48\" rx=\"2.5\" ry=\"2.5\" style=\"stroke:#181818;stroke-width:0.5;\" width=\"63.7598\" x=\"7\" y=\"257\"/><ellipse cx=\"22\" cy=\"273\" fill=\"#ADD1B2\" rx=\"11\" ry=\"11\" style=\"stroke:#181818;stroke-width:1;\"/><path d=\"M24.9688,278.6406 Q24.3906,278.9375 23.75,279.0781 Q23.1094,279.2344 22.4063,279.2344 Q19.9063,279.2344 18.5781,277.5938 Q17.2656,275.9375 17.2656,272.8125 Q17.2656,269.6875 18.5781,268.0313 Q19.9063,266.375 22.4063,266.375 Q23.1094,266.375 23.75,266.5313 Q24.4063,266.6875 24.9688,266.9844 L24.9688,269.7031 Q24.3438,269.125 23.75,268.8594 Q23.1563,268.5781 22.5313,268.5781 Q21.1875,268.5781 20.5,269.6563 Q19.8125,270.7188 19.8125,272.8125 Q19.8125,274.9063 20.5,275.9844 Q21.1875,277.0469 22.5313,277.0469 Q23.1563,277.0469 23.75,276.7813 Q24.3438,276.5 24.9688,275.9219 L24.9688,278.6406 Z \" fill=\"#000000\"/><text fill=\"#000000\" font-family=\"sans-serif\" font-size=\"14\" lengthAdjust=\"spacing\" textLength=\"31.7598\" x=\"36\" y=\"277.8467\">Yarn</text><line style=\"stroke:#181818;stroke-width:0.5;\" x1=\"8\" x2=\"69.7598\" y1=\"289\" y2=\"289\"/><line style=\"stroke:#181818;stroke-width:0.5;\" x1=\"8\" x2=\"69.7598\" y1=\"297\" y2=\"297\"/></g><!--class Needles--><g class=\"entity\" data-entity=\"Needles\" data-source-line=\"7\" data-uid=\"ent0004\" id=\"entity_Needles\"><rect fill=\"#F1F1F1\" height=\"48\" rx=\"2.5\" ry=\"2.5\" style=\"stroke:#181818;stroke-width:0.5;\" width=\"88.3828\" x=\"105.69\" y=\"257\"/><ellipse cx=\"120.69\" cy=\"273\" fill=\"#ADD1B2\" rx=\"11\" ry=\"11\" style=\"stroke:#181818;stroke-width:1;\"/><path d=\"M123.6588,278.6406 Q123.0806,278.9375 122.44,279.0781 Q121.7994,279.2344 121.0963,279.2344 Q118.5963,279.2344 117.2681,277.5938 Q115.9556,275.9375 115.9556,272.8125 Q115.9556,269.6875 117.2681,268.0313 Q118.5963,266.375 121.0963,266.375 Q121.7994,266.375 122.44,266.5313 Q123.0963,266.6875 123.6588,266.9844 L123.6588,269.7031 Q123.0338,269.125 122.44,268.8594 Q121.8463,268.5781 121.2213,268.5781 Q119.8775,268.5781 119.19,269.6563 Q118.5025,270.7188 118.5025,272.8125 Q118.5025,274.9063 119.19,275.9844 Q119.8775,277.0469 121.2213,277.0469 Q121.8463,277.0469 122.44,276.7813 Q123.0338,276.5 123.6588,275.9219 L123.6588,278.6406 Z \" fill=\"#000000\"/><text fill=\"#000000\" font-family=\"sans-serif\" font-size=\"14\" lengthAdjust=\"spacing\" textLength=\"56.3828\" x=\"134.69\" y=\"277.8467\">Needles</text><line style=\"stroke:#181818;stroke-width:0.5;\" x1=\"106.69\" x2=\"193.0728\" y1=\"289\" y2=\"289\"/><line style=\"stroke:#181818;stroke-width:0.5;\" x1=\"106.69\" x2=\"193.0728\" y1=\"297\" y2=\"297\"/></g><!--class User--><g class=\"entity\" data-entity=\"User\" data-source-line=\"10\" data-uid=\"ent0005\" id=\"entity_User\"><rect fill=\"#F1F1F1\" height=\"48\" rx=\"2.5\" ry=\"2.5\" style=\"stroke:#181818;stroke-width:0.5;\" width=\"63.9102\" x=\"61.92\" y=\"7\"/><ellipse cx=\"76.92\" cy=\"23\" fill=\"#ADD1B2\" rx=\"11\" ry=\"11\" style=\"stroke:#181818;stroke-width:1;\"/><path d=\"M79.8888,28.6406 Q79.3106,28.9375 78.67,29.0781 Q78.0294,29.2344 77.3263,29.2344 Q74.8263,29.2344 73.4981,27.5938 Q72.1856,25.9375 72.1856,22.8125 Q72.1856,19.6875 73.4981,18.0313 Q74.8263,16.375 77.3263,16.375 Q78.0294,16.375 78.67,16.5313 Q79.3263,16.6875 79.8888,16.9844 L79.8888,19.7031 Q79.2638,19.125 78.67,18.8594 Q78.0763,18.5781 77.4513,18.5781 Q76.1075,18.5781 75.42,19.6563 Q74.7325,20.7188 74.7325,22.8125 Q74.7325,24.9063 75.42,25.9844 Q76.1075,27.0469 77.4513,27.0469 Q78.0763,27.0469 78.67,26.7813 Q79.2638,26.5 79.8888,25.9219 L79.8888,28.6406 Z \" fill=\"#000000\"/><text fill=\"#000000\" font-family=\"sans-serif\" font-size=\"14\" lengthAdjust=\"spacing\" textLength=\"31.9102\" x=\"90.92\" y=\"27.8467\">User</text><line style=\"stroke:#181818;stroke-width:0.5;\" x1=\"62.92\" x2=\"124.8302\" y1=\"39\" y2=\"39\"/><line style=\"stroke:#181818;stroke-width:0.5;\" x1=\"62.92\" x2=\"124.8302\" y1=\"47\" y2=\"47\"/></g><!--link Pattern to Yarn--><g class=\"link\" data-entity-1=\"Pattern\" data-entity-2=\"Yarn\" data-source-line=\"13\" data-uid=\"lnk6\" id=\"link_Pattern_Yarn\"><path codeLine=\"13\" d=\"M83.41,180.42 C73.62,202.31 59.09,234.8 49.32,256.66\" fill=\"none\" id=\"Pattern-Yarn\" style=\"stroke:#181818;stroke-width:1;\"/><text fill=\"#000000\" font-family=\"sans-serif\" font-size=\"13\" lengthAdjust=\"spacing\" textLength=\"29.7832\" x=\"70.88\" y=\"223.0669\">uses</text><text fill=\"#000000\" font-family=\"sans-serif\" font-size=\"13\" lengthAdjust=\"spacing\" textLength=\"8.271\" x=\"72.0949\" y=\"199.8838\">1</text><text fill=\"#000000\" font-family=\"sans-serif\" font-size=\"13\" lengthAdjust=\"spacing\" textLength=\"6.5\" x=\"45.1945\" y=\"245.9821\">*</text></g><!--link Pattern to Needles--><g class=\"link\" data-entity-1=\"Pattern\" data-entity-2=\"Needles\" data-source-line=\"14\" data-uid=\"lnk7\" id=\"link_Pattern_Needles\"><path codeLine=\"14\" d=\"M104.54,180.42 C114.51,202.31 129.3,234.8 139.25,256.66\" fill=\"none\" id=\"Pattern-Needles\" style=\"stroke:#181818;stroke-width:1;\"/><text fill=\"#000000\" font-family=\"sans-serif\" font-size=\"13\" lengthAdjust=\"spacing\" textLength=\"53.5615\" x=\"125.88\" y=\"223.0669\">requires</text><text fill=\"#000000\" font-family=\"sans-serif\" font-size=\"13\" lengthAdjust=\"spacing\" textLength=\"8.271\" x=\"98.1112\" y=\"199.8838\">1</text><text fill=\"#000000\" font-family=\"sans-serif\" font-size=\"13\" lengthAdjust=\"spacing\" textLength=\"6.5\" x=\"129.9883\" y=\"245.9821\">*</text></g><!--link User to Pattern--><g class=\"link\" data-entity-1=\"User\" data-entity-2=\"Pattern\" data-source-line=\"15\" data-uid=\"lnk8\" id=\"link_User_Pattern\"><path codeLine=\"15\" d=\"M93.88,55.42 C93.88,77.31 93.88,109.8 93.88,131.66\" fill=\"none\" id=\"User-Pattern\" style=\"stroke:#181818;stroke-width:1;\"/><text fill=\"#000000\" font-family=\"sans-serif\" font-size=\"13\" lengthAdjust=\"spacing\" textLength=\"37.2036\" x=\"94.88\" y=\"98.0669\">saves</text><text fill=\"#000000\" font-family=\"sans-serif\" font-size=\"13\" lengthAdjust=\"spacing\" textLength=\"8.271\" x=\"84.9875\" y=\"74.8838\">1</text><text fill=\"#000000\" font-family=\"sans-serif\" font-size=\"13\" lengthAdjust=\"spacing\" textLength=\"6.5\" x=\"87.2094\" y=\"120.9821\">*</text></g><!--SRC=[Iyv9B2vM24WiAKajobEevghbuae62qKcelBzKbDJSbABaOL2YrEB87oOVYL39GLTNGKbBIM8VYk5qkBKOcpICEEi58fI2qipYu2gmCOXAO7fib8eJYnBBGO0]--></g></svg>"
          },
          "metadata": {},
          "execution_count": 4
        }
      ],
      "source": [
        "%%plantuml\n",
        "\n",
        "@startuml\n",
        "class Pattern {\n",
        "}\n",
        "\n",
        "class Yarn {\n",
        "}\n",
        "\n",
        "class Needles {\n",
        "}\n",
        "\n",
        "class User {\n",
        "}\n",
        "\n",
        "Pattern \"1\" -- \"*\" Yarn : uses\n",
        "Pattern \"1\" -- \"*\" Needles : requires\n",
        "User \"1\" -- \"*\" Pattern : saves\n",
        "\n",
        "@enduml"
      ]
    },
    {
      "cell_type": "markdown",
      "metadata": {
        "id": "xSYN4kQnfLtp"
      },
      "source": [
        "*   A **Pattern** must specify at least one type of **Yarn** required.\n",
        "*   A **Pattern** must specify the recommended **Needle** size(s).\n",
        "*   A **User** must be logged in to **save** a **Pattern** to their profile.\n",
        "*   A **Pattern** should have a **Difficulty Level**."
      ]
    },
    {
      "cell_type": "markdown",
      "metadata": {
        "id": "TsdlaUFrfLtq"
      },
      "source": [
        "----"
      ]
    },
    {
      "cell_type": "markdown",
      "metadata": {
        "id": "d5NLYvoWfLtq"
      },
      "source": [
        "The second phase is as follows:"
      ]
    },
    {
      "cell_type": "markdown",
      "metadata": {
        "id": "qPxgtTOifLtq"
      },
      "source": [
        "* Pass the entity relationship to the other group (architects can save their notebook in the Shared folder)\n",
        "* Architects: create an Etherpad link that your own group can share between them: https://pad.riseup.net/\n",
        "* In your groups, try and take the other group's diagram and create classes based on it, relating to entities, and to give them methods and properties using only, where possible, the language that you have been given. Don't worry about implementing them! Just add a comment to the method body to explain what it does. Use the Etherpad link created by your architect to work on it collaboratively."
      ]
    },
    {
      "cell_type": "code",
      "source": [
        "class Pattern:\n",
        "    def __init__(self, name: str, description: str, difficulty_level: str):\n",
        "        self.name = name\n",
        "        self.description = description\n",
        "        self.difficulty_level = difficulty_level\n",
        "        self.required_yarn = [] # List to hold Yarn objects\n",
        "        self.required_needles = [] # List to hold Needle objects\n",
        "        self.saved_by_users = [] # List to hold User objects\n",
        "\n",
        "    def add_required_yarn(self, yarn):\n",
        "        # Comment: Method to add a type of required yarn to the pattern\n",
        "        self.required_yarn.append(yarn)\n",
        "\n",
        "    def add_required_needles(self, needles):\n",
        "        # Comment: Method to add required needles to the pattern\n",
        "        self.required_needles.append(needles)\n",
        "\n",
        "    def display_details(self):\n",
        "        # Comment: Method to format and display the pattern details\n",
        "        pass\n",
        "\n",
        "    def save(self, user):\n",
        "        # Comment: Method to save the pattern for a user\n",
        "        self.saved_by_users.append(user)"
      ],
      "metadata": {
        "id": "BQ9VTBXomjgN"
      },
      "execution_count": null,
      "outputs": []
    },
    {
      "cell_type": "code",
      "source": [
        "class Yarn:\n",
        "    def __init__(self, name: str, weight: str, fiber_type: str):\n",
        "        self.name = name\n",
        "        self.weight = weight # e.g., \"Worsted\", \"Fingering\"\n",
        "        self.fiber_type = fiber_type # e.g., \"Wool\", \"Cotton\"\n",
        "        # Add more properties here, e.g., color options\n",
        "\n",
        "    def display_details(self):\n",
        "        # Comment: Method to format and display the yarn details\n",
        "        pass"
      ],
      "metadata": {
        "id": "TX6BIayBnYqX"
      },
      "execution_count": null,
      "outputs": []
    },
    {
      "cell_type": "code",
      "source": [
        "class Needles:\n",
        "    def __init__(self, size: str, needle_type: str):\n",
        "        self.size = size # e.g., \"US 8\", \"5.0 mm\"\n",
        "        self.needle_type = needle_type # e.g., \"Straight\", \"Circular\"\n"
      ],
      "metadata": {
        "id": "mn6q66nwnuaQ"
      },
      "execution_count": null,
      "outputs": []
    },
    {
      "cell_type": "code",
      "source": [
        "class User:\n",
        "    def __init__(self, username: str):\n",
        "        self.username = username\n",
        "        self.saved_patterns = [] # List to hold Pattern objects\n",
        "\n",
        "    def save_pattern(self, pattern):\n",
        "        # Comment: Method to save a pattern to the user's profile\n",
        "        if pattern not in self.saved_patterns:\n",
        "            self.saved_patterns.append(pattern)\n",
        "            # Optional: Add the user to the pattern's saved_by_users list if needed for the rule\n",
        "            # pattern.saved_by_users.append(self)\n",
        "\n",
        "    def remove_saved_pattern(self, pattern):\n",
        "        # Comment: Method to remove a pattern from the user's profile\n",
        "        if pattern in self.saved_patterns:\n",
        "            self.saved_patterns.remove(pattern)\n",
        "            # Optional: Remove the user from the pattern's saved_by_users list\n",
        "            # pattern.saved_by_users.remove(self)\n",
        "\n",
        "    def view_saved_patterns(self):\n",
        "        # Comment: Method to display the list of patterns saved by the user\n",
        "        pass\n",
        "\n",
        "    def display_details(self):\n",
        "        # Comment: Method to format and display the user details\n",
        "        pass"
      ],
      "metadata": {
        "id": "qHtEIq6jn42g"
      },
      "execution_count": null,
      "outputs": []
    },
    {
      "cell_type": "markdown",
      "metadata": {
        "id": "dmWeeQLcfLtq"
      },
      "source": [
        "### Additional Resources"
      ]
    },
    {
      "cell_type": "markdown",
      "metadata": {
        "id": "OmXHPRATfLtq"
      },
      "source": [
        "* https://github.com/valignatev/ddd-dynamic\n",
        "* https://github.com/Softwarepark/exercises/blob/master/transport-tycoon.md - programming challenges and solutions, including in Python, with DDD, using Transport Tycoon scenarios as motivation"
      ]
    },
    {
      "cell_type": "markdown",
      "metadata": {
        "id": "ZiJcsoyVfLtr"
      },
      "source": [
        "## Anaemic Domain Model\n",
        "\n",
        "This anti-pattern or code smell is about the use of OOP to disguise procedural programming. That is, using core classes as simple data stores, and not thinking hard about them representing some sort of entity - for instance, if I have a User:"
      ]
    },
    {
      "cell_type": "code",
      "execution_count": null,
      "metadata": {
        "id": "PyljJT-lfLtr",
        "outputId": "9efc652e-62ba-425e-cb75-b71548be3259",
        "colab": {
          "base_uri": "https://localhost:8080/",
          "height": 36
        }
      },
      "outputs": [
        {
          "output_type": "execute_result",
          "data": {
            "text/plain": [
              "'Hi, my name is Ash'"
            ],
            "application/vnd.google.colaboratory.intrinsic+json": {
              "type": "string"
            }
          },
          "metadata": {},
          "execution_count": 9
        }
      ],
      "source": [
        "class User:\n",
        "    def __init__(self, name):\n",
        "        self.name = name\n",
        "\n",
        "def user_greeting(user):\n",
        "    return f\"Hi, my name is {user.name}\"\n",
        "\n",
        "def check_user_has_name(user):\n",
        "    if not user.name:\n",
        "        raise RuntimeException(\"User has no name\")\n",
        "\n",
        "ash = User('Ash')\n",
        "check_user_has_name(ash)\n",
        "user_greeting(ash)"
      ]
    },
    {
      "cell_type": "markdown",
      "metadata": {
        "id": "lOafCK1AfLtr"
      },
      "source": [
        "This User doesn't do anything! They are only a name, with no actions. But yet... we have a function that makes a user \"greet\". An obvious question is, if a \"user greets someone\", why is \"greeting\" not a \"User\" method? This is a simplistic example, but you should question a class that has no methods, or business logic in it...\n",
        "\n",
        "There is a use case for largely methodless classes, \"Value Objects\", as they are known, but the rule of thumb is that they should only be used when they have no conceptual existence beyond their value - for example, two colours are interchangeable if they have the same hex-code (often a value object), but two users are not interchangeable just because they have the same name!\n",
        "\n",
        "Another question is why business logic specific to a user shouldn't be part of a user class - could check_user_has_name be something inherent to a user?"
      ]
    },
    {
      "cell_type": "code",
      "execution_count": null,
      "metadata": {
        "id": "87HD_5xkfLts",
        "outputId": "0fb2fe38-1096-4959-b9cb-6549d7db9273",
        "colab": {
          "base_uri": "https://localhost:8080/",
          "height": 36
        }
      },
      "outputs": [
        {
          "output_type": "execute_result",
          "data": {
            "text/plain": [
              "'Hi, my name is Ash'"
            ],
            "application/vnd.google.colaboratory.intrinsic+json": {
              "type": "string"
            }
          },
          "metadata": {},
          "execution_count": 10
        }
      ],
      "source": [
        "class User:\n",
        "    def __init__(self, name):\n",
        "        self.name = name\n",
        "\n",
        "    def greet(self):\n",
        "        return f\"Hi, my name is {self.name}\"\n",
        "\n",
        "    def check_has_name(self):\n",
        "        if not self.name:\n",
        "            raise RuntimeException(\"I have no name\")\n",
        "\n",
        "ash = User('Ash')\n",
        "ash.check_has_name()\n",
        "ash.greet()"
      ]
    },
    {
      "cell_type": "markdown",
      "metadata": {
        "id": "K1JYDwZ1fLts"
      },
      "source": [
        "## Call Super"
      ]
    },
    {
      "cell_type": "markdown",
      "metadata": {
        "id": "bt0t6CGIfLts"
      },
      "source": [
        "This one is particularly tempting in Python - it's not a massive issue, but it touches on a number of underlying OOP principles."
      ]
    },
    {
      "cell_type": "markdown",
      "metadata": {
        "id": "ZngY6_WufLtt"
      },
      "source": [
        "Lets suppose that we have a library that defines a User that sits in a chair (odd library, but hey)."
      ]
    },
    {
      "cell_type": "markdown",
      "metadata": {
        "id": "hA9LkkJnpc6j"
      },
      "source": [
        "## Call Super"
      ]
    },
    {
      "cell_type": "markdown",
      "metadata": {
        "id": "6AfVw1uupe5w"
      },
      "source": [
        "## Call Super"
      ]
    },
    {
      "cell_type": "markdown",
      "metadata": {
        "id": "u1owTJRzpe5x"
      },
      "source": [
        "This one is particularly tempting in Python - it's not a massive issue, but it touches on a number of underlying OOP principles."
      ]
    },
    {
      "cell_type": "markdown",
      "metadata": {
        "id": "T55Y3ESgpe5y"
      },
      "source": [
        "Lets suppose that we have a library that defines a User that sits in a chair (odd library, but hey)."
      ]
    },
    {
      "cell_type": "code",
      "execution_count": null,
      "metadata": {
        "id": "o5jgEifsfLtt"
      },
      "outputs": [],
      "source": [
        "class User:\n",
        "    in_chair = True\n",
        "\n",
        "    def stand_up(self):\n",
        "        self.in_chair = False\n",
        "\n",
        "    # Don't forget to call this go_to_door method if overriding!!\n",
        "    def go_to_door(self):\n",
        "        self.stand_up()"
      ]
    },
    {
      "cell_type": "markdown",
      "metadata": {
        "id": "2Ph6tfbAfLtt"
      },
      "source": [
        "We wish to use this user in our own class."
      ]
    },
    {
      "cell_type": "code",
      "execution_count": null,
      "metadata": {
        "id": "MPHr_hkHfLt1"
      },
      "outputs": [],
      "source": [
        "# In my own class\n",
        "class Receptionist(User):\n",
        "    behind_desk = True\n",
        "\n",
        "    def go_to_door(self):\n",
        "        self.behind_desk = False\n",
        "        super(Receptionist).go_to_door()"
      ]
    },
    {
      "cell_type": "markdown",
      "metadata": {
        "id": "8fXxMsd2fLt1"
      },
      "source": [
        "Here, any subclass of User, must remember to run `super(MyClass).go_to_door()` or else..."
      ]
    },
    {
      "cell_type": "code",
      "execution_count": null,
      "metadata": {
        "id": "G8XsFMBmfLt1",
        "outputId": "786d35bc-2614-4622-a5d1-260895d962ef",
        "colab": {
          "base_uri": "https://localhost:8080/"
        }
      },
      "outputs": [
        {
          "output_type": "execute_result",
          "data": {
            "text/plain": [
              "(True, False)"
            ]
          },
          "metadata": {},
          "execution_count": 13
        }
      ],
      "source": [
        "class Receptionist(User):\n",
        "    behind_desk = True\n",
        "\n",
        "    def go_to_door(self):\n",
        "        self.behind_desk = False\n",
        "\n",
        "dan = Receptionist()\n",
        "dan.go_to_door()\n",
        "dan.in_chair, dan.behind_desk"
      ]
    },
    {
      "cell_type": "markdown",
      "metadata": {
        "id": "q0hQ9hzhfLt2"
      },
      "source": [
        "🤔"
      ]
    },
    {
      "cell_type": "markdown",
      "metadata": {
        "id": "EbGWYWOxfLt2"
      },
      "source": [
        "All subclasses must remember to call the superclass's method - if they forget, or misread the docs, an inconsistent state is created. This is a specific case of a wider principle. Quoting Martin Fowler:\n",
        "\n",
        "> Whenever you have to remember to do something every time, that's a sign of a bad API."
      ]
    },
    {
      "cell_type": "markdown",
      "metadata": {
        "id": "cVKSXmVPfLt2"
      },
      "source": [
        "How do you deal with that? One option is to use a \"hook\"."
      ]
    },
    {
      "cell_type": "code",
      "execution_count": null,
      "metadata": {
        "id": "sy2Zf3KhfLt2"
      },
      "outputs": [],
      "source": [
        "class User:\n",
        "    in_chair = True\n",
        "\n",
        "    def stand_up(self):\n",
        "        self.in_chair = False\n",
        "\n",
        "    def go_to_door(self):\n",
        "        self.stand_up()\n",
        "        self.do_going_to_door()\n",
        "\n",
        "    # Override this!\n",
        "    def do_going_to_door(self):\n",
        "        pass"
      ]
    },
    {
      "cell_type": "code",
      "execution_count": null,
      "metadata": {
        "id": "fcV4aoZmfLt3",
        "outputId": "389dd2eb-6b73-42d8-dcf7-2a7d77f5ce0f",
        "colab": {
          "base_uri": "https://localhost:8080/"
        }
      },
      "outputs": [
        {
          "output_type": "execute_result",
          "data": {
            "text/plain": [
              "(False, False)"
            ]
          },
          "metadata": {},
          "execution_count": 15
        }
      ],
      "source": [
        "class Receptionist(User):\n",
        "    behind_desk = True\n",
        "\n",
        "    def do_going_to_door(self):\n",
        "        self.behind_desk = False\n",
        "\n",
        "dan = Receptionist()\n",
        "dan.go_to_door()\n",
        "dan.in_chair, dan.behind_desk"
      ]
    },
    {
      "cell_type": "markdown",
      "metadata": {
        "id": "lEbQauKofLt3"
      },
      "source": [
        "Success - Dan is at the door, and not still sitting down or behind a desk."
      ]
    },
    {
      "cell_type": "markdown",
      "metadata": {
        "id": "PRUug1qCfLt3"
      },
      "source": [
        "### Getters and Setters"
      ]
    },
    {
      "cell_type": "markdown",
      "metadata": {
        "id": "ysbT0S0sfLt3"
      },
      "source": [
        "Particularly tempting if you are coming from a Java or C# background, Python discourages lots of getter and setter methods in code. In part, because Python (for better or worse) philosophically puts much less emphasis on privacy of class members. In part, because it has more Pythonic ways of doing it..."
      ]
    },
    {
      "cell_type": "code",
      "execution_count": null,
      "metadata": {
        "id": "hS-u34SpfLt3",
        "outputId": "a72135a4-efe7-4f87-bb0f-75d1f5e71882",
        "colab": {
          "base_uri": "https://localhost:8080/"
        }
      },
      "outputs": [
        {
          "output_type": "execute_result",
          "data": {
            "text/plain": [
              "0.9"
            ]
          },
          "metadata": {},
          "execution_count": 16
        }
      ],
      "source": [
        "class Biscuit:\n",
        "    crumbliness_coefficient = 0.3\n",
        "\n",
        "    def get_crumbliness_coefficient(self):\n",
        "        return self.crumbliness_coefficient\n",
        "\n",
        "    def set_crumbliness_coefficient(self, crumble):\n",
        "        self.crumbliness_coefficient = crumble\n",
        "\n",
        "flapjack = Biscuit()\n",
        "flapjack.set_crumbliness_coefficient(0.9)\n",
        "flapjack.get_crumbliness_coefficient()"
      ]
    },
    {
      "cell_type": "markdown",
      "metadata": {
        "id": "4l9z7l5MfLt4"
      },
      "source": [
        "Python is more focused on succinctness and clarity:"
      ]
    },
    {
      "cell_type": "code",
      "execution_count": null,
      "metadata": {
        "id": "Inxrsv5YfLt4",
        "outputId": "98ee11a7-e132-49e4-a991-30de70d58864",
        "colab": {
          "base_uri": "https://localhost:8080/"
        }
      },
      "outputs": [
        {
          "output_type": "execute_result",
          "data": {
            "text/plain": [
              "0.9"
            ]
          },
          "metadata": {},
          "execution_count": 17
        }
      ],
      "source": [
        "class Biscuit:\n",
        "    crumbliness_coefficient = 0.3\n",
        "\n",
        "flapjack = Biscuit()\n",
        "flapjack.crumbliness_coefficient = 0.9\n",
        "flapjack.crumbliness_coefficient"
      ]
    },
    {
      "cell_type": "markdown",
      "metadata": {
        "id": "YPjgPrzjfLt4"
      },
      "source": [
        "Of course, there are some cases when this breach of encapsulation is a bit too much, or you need to do some processing."
      ]
    },
    {
      "cell_type": "code",
      "execution_count": null,
      "metadata": {
        "id": "n38GcesqfLt4",
        "outputId": "047f1646-93b4-4d3a-d7ad-94871f2c35fe",
        "colab": {
          "base_uri": "https://localhost:8080/"
        }
      },
      "outputs": [
        {
          "output_type": "execute_result",
          "data": {
            "text/plain": [
              "0.9"
            ]
          },
          "metadata": {},
          "execution_count": 18
        }
      ],
      "source": [
        "class Biscuit:\n",
        "    _crumbliness_coefficient = 0.3\n",
        "\n",
        "    @property\n",
        "    def crumbliness_coefficient(self):\n",
        "        return self._crumbliness_coefficient\n",
        "\n",
        "    @crumbliness_coefficient.setter\n",
        "    def crumbliness_coefficient(self, crumble):\n",
        "        self._crumbliness_coefficient = crumble\n",
        "\n",
        "flapjack = Biscuit()\n",
        "flapjack.crumbliness_coefficient = 0.9\n",
        "flapjack.crumbliness_coefficient"
      ]
    },
    {
      "cell_type": "markdown",
      "metadata": {
        "id": "nsl5g_i6fLt4"
      },
      "source": [
        "Note the use of an underscore to indicate that `_crumbliness_coefficient` should be protected within the class..."
      ]
    },
    {
      "cell_type": "code",
      "execution_count": null,
      "metadata": {
        "id": "ma8CKVqofLt5",
        "outputId": "d66a6a13-d573-4be3-a59c-7cd6d3ecb8f4",
        "colab": {
          "base_uri": "https://localhost:8080/"
        }
      },
      "outputs": [
        {
          "output_type": "execute_result",
          "data": {
            "text/plain": [
              "0.9"
            ]
          },
          "metadata": {},
          "execution_count": 19
        }
      ],
      "source": [
        "flapjack._crumbliness_coefficient"
      ]
    },
    {
      "cell_type": "markdown",
      "metadata": {
        "id": "CZQVgDMNfLt5"
      },
      "source": [
        "...but that is convention. Not generally recommended, but we can go one step further (especially if talking about strictly private methods), and use a double-underscore - Python will enforce this."
      ]
    },
    {
      "cell_type": "code",
      "execution_count": null,
      "metadata": {
        "id": "iuSVnrPufLt6",
        "outputId": "0e94c9f6-a18b-4cb2-f49e-731869d3f030",
        "colab": {
          "base_uri": "https://localhost:8080/"
        }
      },
      "outputs": [
        {
          "output_type": "execute_result",
          "data": {
            "text/plain": [
              "0.9"
            ]
          },
          "metadata": {},
          "execution_count": 20
        }
      ],
      "source": [
        "class Biscuit:\n",
        "    __crumbliness_coefficient = 0.3\n",
        "\n",
        "    @property\n",
        "    def crumbliness_coefficient(self):\n",
        "        return self.__crumbliness_coefficient\n",
        "\n",
        "    @crumbliness_coefficient.setter\n",
        "    def crumbliness_coefficient(self, crumble):\n",
        "        self.__crumbliness_coefficient = crumble\n",
        "\n",
        "flapjack = Biscuit()\n",
        "flapjack.crumbliness_coefficient = 0.9\n",
        "flapjack.crumbliness_coefficient"
      ]
    },
    {
      "cell_type": "code",
      "execution_count": null,
      "metadata": {
        "id": "GoJM7UREfLt6",
        "outputId": "9b7eb0fb-6e61-46fd-bf20-f68500e62481",
        "colab": {
          "base_uri": "https://localhost:8080/"
        }
      },
      "outputs": [
        {
          "output_type": "stream",
          "name": "stdout",
          "text": [
            "0.9\n"
          ]
        }
      ],
      "source": [
        "print(flapjack.crumbliness_coefficient)"
      ]
    },
    {
      "cell_type": "markdown",
      "metadata": {
        "id": "89-5RI-LfLt6"
      },
      "source": [
        "# Mix-and-match Types"
      ]
    },
    {
      "cell_type": "markdown",
      "metadata": {
        "id": "zySRjGiJfLt6"
      },
      "source": [
        "Realistically, there are occasions where this one is necessary or even desirable, but far fewer than you would see in the wild. In contrast to the previous, coming from a Java or C# background should make you less susceptible..."
      ]
    },
    {
      "cell_type": "code",
      "execution_count": null,
      "metadata": {
        "id": "JC0XXohLfLt6"
      },
      "outputs": [],
      "source": [
        "class Prisoner:\n",
        "    def __init__(self, name):\n",
        "        self.name = name\n",
        "\n",
        "    def get_number(self):\n",
        "        if self.name == 'Valjean':\n",
        "            return 24601\n",
        "        elif self.name == 'Number Six':\n",
        "            return 6\n",
        "        elif self.name == 'Bird man of Alcatraz':\n",
        "            return '#594'\n",
        "        else:\n",
        "            return None"
      ]
    },
    {
      "cell_type": "markdown",
      "metadata": {
        "id": "udOb93XofLt6"
      },
      "source": [
        "While there are a couple of issues there, this succinctly shows a method that can return three different types. Why is that an issue?"
      ]
    },
    {
      "cell_type": "code",
      "execution_count": null,
      "metadata": {
        "id": "o17m7CR_fLt7",
        "outputId": "38111f61-7c74-4906-9bfb-52ee0a07a443",
        "colab": {
          "base_uri": "https://localhost:8080/",
          "height": 36
        }
      },
      "outputs": [
        {
          "output_type": "execute_result",
          "data": {
            "text/plain": [
              "'Prison number: #594'"
            ],
            "application/vnd.google.colaboratory.intrinsic+json": {
              "type": "string"
            }
          },
          "metadata": {},
          "execution_count": 23
        }
      ],
      "source": [
        "robert_stroud = Prisoner('Bird man of Alcatraz')\n",
        "'Prison number: ' + robert_stroud.get_number()"
      ]
    },
    {
      "cell_type": "markdown",
      "metadata": {
        "id": "ckSFA3jGfLt7"
      },
      "source": [
        "That all seems fine in a test, but..."
      ]
    },
    {
      "cell_type": "code",
      "execution_count": null,
      "metadata": {
        "id": "7W_uJ3_bfLt7",
        "outputId": "30e11342-ec11-4f79-cdd9-7de275f72fe9",
        "colab": {
          "base_uri": "https://localhost:8080/",
          "height": 164
        }
      },
      "outputs": [
        {
          "output_type": "error",
          "ename": "TypeError",
          "evalue": "can only concatenate str (not \"int\") to str",
          "traceback": [
            "\u001b[0;31m---------------------------------------------------------------------------\u001b[0m",
            "\u001b[0;31mTypeError\u001b[0m                                 Traceback (most recent call last)",
            "\u001b[0;32m/tmp/ipython-input-2068092853.py\u001b[0m in \u001b[0;36m<cell line: 0>\u001b[0;34m()\u001b[0m\n\u001b[1;32m      1\u001b[0m \u001b[0mmayor_madeleine\u001b[0m \u001b[0;34m=\u001b[0m \u001b[0mPrisoner\u001b[0m\u001b[0;34m(\u001b[0m\u001b[0;34m'Valjean'\u001b[0m\u001b[0;34m)\u001b[0m\u001b[0;34m\u001b[0m\u001b[0;34m\u001b[0m\u001b[0m\n\u001b[0;32m----> 2\u001b[0;31m \u001b[0;34m'Prison number: '\u001b[0m \u001b[0;34m+\u001b[0m \u001b[0mmayor_madeleine\u001b[0m\u001b[0;34m.\u001b[0m\u001b[0mget_number\u001b[0m\u001b[0;34m(\u001b[0m\u001b[0;34m)\u001b[0m\u001b[0;34m\u001b[0m\u001b[0;34m\u001b[0m\u001b[0m\n\u001b[0m",
            "\u001b[0;31mTypeError\u001b[0m: can only concatenate str (not \"int\") to str"
          ]
        }
      ],
      "source": [
        "mayor_madeleine = Prisoner('Valjean')\n",
        "'Prison number: ' + mayor_madeleine.get_number()"
      ]
    },
    {
      "cell_type": "markdown",
      "metadata": {
        "id": "11yjpXFzfLt7"
      },
      "source": [
        "or..."
      ]
    },
    {
      "cell_type": "code",
      "execution_count": null,
      "metadata": {
        "id": "wpZK8daAfLt7",
        "outputId": "e28e8266-c9bb-4fd0-b6d0-a072ed21f79f",
        "colab": {
          "base_uri": "https://localhost:8080/",
          "height": 164
        }
      },
      "outputs": [
        {
          "output_type": "error",
          "ename": "TypeError",
          "evalue": "can only concatenate str (not \"NoneType\") to str",
          "traceback": [
            "\u001b[0;31m---------------------------------------------------------------------------\u001b[0m",
            "\u001b[0;31mTypeError\u001b[0m                                 Traceback (most recent call last)",
            "\u001b[0;32m/tmp/ipython-input-871029363.py\u001b[0m in \u001b[0;36m<cell line: 0>\u001b[0;34m()\u001b[0m\n\u001b[1;32m      1\u001b[0m \u001b[0mmary_stuart\u001b[0m \u001b[0;34m=\u001b[0m \u001b[0mPrisoner\u001b[0m\u001b[0;34m(\u001b[0m\u001b[0;34m'Mary Queen of Scots'\u001b[0m\u001b[0;34m)\u001b[0m\u001b[0;34m\u001b[0m\u001b[0;34m\u001b[0m\u001b[0m\n\u001b[0;32m----> 2\u001b[0;31m \u001b[0;34m'Prison number: '\u001b[0m \u001b[0;34m+\u001b[0m \u001b[0mmary_stuart\u001b[0m\u001b[0;34m.\u001b[0m\u001b[0mget_number\u001b[0m\u001b[0;34m(\u001b[0m\u001b[0;34m)\u001b[0m\u001b[0;34m\u001b[0m\u001b[0;34m\u001b[0m\u001b[0m\n\u001b[0m",
            "\u001b[0;31mTypeError\u001b[0m: can only concatenate str (not \"NoneType\") to str"
          ]
        }
      ],
      "source": [
        "mary_stuart = Prisoner('Mary Queen of Scots')\n",
        "'Prison number: ' + mary_stuart.get_number()"
      ]
    },
    {
      "cell_type": "markdown",
      "metadata": {
        "id": "fTWHu1QSfLt7"
      },
      "source": [
        "One approach for helping constrain types going in and out of a function or method is Python's relatively recent typing syntax."
      ]
    },
    {
      "cell_type": "code",
      "execution_count": null,
      "metadata": {
        "id": "H-vWg_TwfLt7"
      },
      "outputs": [],
      "source": [
        "class Prisoner:\n",
        "    def __init__(self, name: str):\n",
        "        self.name = name\n",
        "\n",
        "    def get_number(self) -> str:\n",
        "        if self.name == 'Valjean':\n",
        "            return 24601\n",
        "        elif self.name == 'Number Six':\n",
        "            return 6\n",
        "        elif self.name == 'Bird man of Alcatraz':\n",
        "            return '#594'\n",
        "        else:\n",
        "            return None\n",
        "\n",
        "\n",
        "cell_content = In[-1]"
      ]
    },
    {
      "cell_type": "markdown",
      "metadata": {
        "id": "AwTQDOuefLt7"
      },
      "source": [
        "Python's type-checking is actually very powerful, allowing C++-style templating of types to be checked - for instance, a sequence of floats or Prisoners (that will throw an exception if it is passed a list with an int in it). A static type-checker is then able to check for these kind of issues - a good example is `mypy`, which is normally run for the command line. If we dump out the previous cell to a file, we can try it..."
      ]
    },
    {
      "cell_type": "code",
      "execution_count": null,
      "metadata": {
        "id": "Qhi6xUD7fLt8"
      },
      "outputs": [],
      "source": [
        "with open('prisoner.py', 'w') as f:\n",
        "    f.write(cell_content)"
      ]
    },
    {
      "cell_type": "code",
      "source": [
        "!pip install mypy"
      ],
      "metadata": {
        "colab": {
          "base_uri": "https://localhost:8080/"
        },
        "id": "kOHAlNk-s8UY",
        "outputId": "e1d039ac-56a6-4029-a0f6-4b8a76710a87"
      },
      "execution_count": null,
      "outputs": [
        {
          "output_type": "stream",
          "name": "stdout",
          "text": [
            "Collecting mypy\n",
            "  Downloading mypy-1.17.1-cp311-cp311-manylinux2014_x86_64.manylinux_2_17_x86_64.manylinux_2_28_x86_64.whl.metadata (2.2 kB)\n",
            "Requirement already satisfied: typing_extensions>=4.6.0 in /usr/local/lib/python3.11/dist-packages (from mypy) (4.14.1)\n",
            "Collecting mypy_extensions>=1.0.0 (from mypy)\n",
            "  Downloading mypy_extensions-1.1.0-py3-none-any.whl.metadata (1.1 kB)\n",
            "Collecting pathspec>=0.9.0 (from mypy)\n",
            "  Downloading pathspec-0.12.1-py3-none-any.whl.metadata (21 kB)\n",
            "Downloading mypy-1.17.1-cp311-cp311-manylinux2014_x86_64.manylinux_2_17_x86_64.manylinux_2_28_x86_64.whl (12.6 MB)\n",
            "\u001b[2K   \u001b[90m━━━━━━━━━━━━━━━━━━━━━━━━━━━━━━━━━━━━━━━━\u001b[0m \u001b[32m12.6/12.6 MB\u001b[0m \u001b[31m90.5 MB/s\u001b[0m eta \u001b[36m0:00:00\u001b[0m\n",
            "\u001b[?25hDownloading mypy_extensions-1.1.0-py3-none-any.whl (5.0 kB)\n",
            "Downloading pathspec-0.12.1-py3-none-any.whl (31 kB)\n",
            "Installing collected packages: pathspec, mypy_extensions, mypy\n",
            "Successfully installed mypy-1.17.1 mypy_extensions-1.1.0 pathspec-0.12.1\n"
          ]
        }
      ]
    },
    {
      "cell_type": "code",
      "execution_count": null,
      "metadata": {
        "id": "DGZt3TZafLt8",
        "outputId": "b4c8985e-fa99-4c39-9c23-a03819b9879d",
        "colab": {
          "base_uri": "https://localhost:8080/"
        }
      },
      "outputs": [
        {
          "output_type": "stream",
          "name": "stdout",
          "text": [
            "prisoner.py:7: \u001b[1m\u001b[31merror:\u001b[m Incompatible return value type (got \u001b[m\u001b[1m\"int\"\u001b[m, expected \u001b[m\u001b[1m\"str\"\u001b[m)  \u001b[m\u001b[33m[return-value]\u001b[m\n",
            "prisoner.py:9: \u001b[1m\u001b[31merror:\u001b[m Incompatible return value type (got \u001b[m\u001b[1m\"int\"\u001b[m, expected \u001b[m\u001b[1m\"str\"\u001b[m)  \u001b[m\u001b[33m[return-value]\u001b[m\n",
            "prisoner.py:13: \u001b[1m\u001b[31merror:\u001b[m Incompatible return value type (got \u001b[m\u001b[1m\"None\"\u001b[m, expected \u001b[m\u001b[1m\"str\"\u001b[m)  \u001b[m\u001b[33m[return-value]\u001b[m\n",
            "prisoner.py:16: \u001b[1m\u001b[31merror:\u001b[m Name \u001b[m\u001b[1m\"In\"\u001b[m is not defined  \u001b[m\u001b[33m[name-defined]\u001b[m\n",
            "\u001b[1m\u001b[31mFound 4 errors in 1 file (checked 1 source file)\u001b[m\n"
          ]
        }
      ],
      "source": [
        "!mypy prisoner.py"
      ]
    },
    {
      "cell_type": "markdown",
      "metadata": {
        "id": "iQN8LvgQfLt8"
      },
      "source": [
        "### Exercise: Typing Practice"
      ]
    },
    {
      "cell_type": "markdown",
      "metadata": {
        "id": "lD24b9wnfLt8"
      },
      "source": [
        "Create a `Game` class - it should create a property, its `board` that is a 3x3 list of lists or numpy array. You should have a method `move` that can take a string `x` or a string `o`. It should also return a nice board representation when `board_to_string` is called (make it fancy if you like!)."
      ]
    },
    {
      "cell_type": "code",
      "execution_count": null,
      "metadata": {
        "id": "uTl6k5bcfLt8",
        "outputId": "fa6a2e30-610b-4f99-a43d-e14cd7ef532f",
        "colab": {
          "base_uri": "https://localhost:8080/"
        }
      },
      "outputs": [
        {
          "output_type": "stream",
          "name": "stdout",
          "text": [
            "-----\n",
            "|o  |\n",
            "|xo |\n",
            "|   |\n",
            "-----\n"
          ]
        }
      ],
      "source": [
        "class Game:\n",
        "    def __init__(self):\n",
        "        # Create a 3x3 board using a list of lists\n",
        "        self.board = [\n",
        "            [None, None, None],\n",
        "            [None, None, None],\n",
        "            [None, None, None]\n",
        "        ]\n",
        "\n",
        "    def move(self, counter: str, row: int, col: int):\n",
        "        # Method to place a counter ('x' or 'o') on the board\n",
        "        # Basic implementation: just place the counter\n",
        "        self.board[row][col] = counter\n",
        "\n",
        "    def board_to_string(self) -> str:\n",
        "        # Method to return a string representation of the board\n",
        "        board_str = \"-----\\n\"\n",
        "        for row in self.board:\n",
        "            board_str += \"|\"\n",
        "            for cell in row:\n",
        "                board_str += cell if cell is not None else \" \"\n",
        "            board_str += \"|\\n\"\n",
        "        board_str += \"-----\"\n",
        "        return board_str\n",
        "\n",
        "\n",
        "my_game = Game()\n",
        "my_game.move('x', 0, 0)\n",
        "my_game.move('o', 1, 1)\n",
        "my_game.move('x', 1, 0)\n",
        "my_game.move('o', 0, 0)\n",
        "print(my_game.board_to_string())"
      ]
    },
    {
      "cell_type": "markdown",
      "metadata": {
        "id": "ytsAl85dfLt8"
      },
      "source": [
        "### Extension 0"
      ]
    },
    {
      "cell_type": "markdown",
      "metadata": {
        "id": "hGFupT7SfLt8"
      },
      "source": [
        "Throw an exception if the cell you wish to move to already has a counter in it."
      ]
    },
    {
      "cell_type": "markdown",
      "metadata": {
        "id": "nvU6Cug_fLt9"
      },
      "source": [
        "Now, create two exceptions by subclassing RuntimeError - one for winning, and one for a draw. The move method should fire either of these if appropriate."
      ]
    },
    {
      "cell_type": "code",
      "source": [
        "class WinException(RuntimeError):\n",
        "    \"\"\"Custom exception for a winning condition.\"\"\"\n",
        "    pass\n",
        "\n",
        "class DrawException(RuntimeError):\n",
        "    \"\"\"Custom exception for a draw condition.\"\"\"\n",
        "    pass\n",
        "\n",
        "class Game:\n",
        "    def __init__(self):\n",
        "        # Create a 3x3 board using a list of lists\n",
        "        self.board = [\n",
        "            [None, None, None],\n",
        "            [None, None, None],\n",
        "            [None, None, None]\n",
        "        ]\n",
        "        self.moves_count = 0 # Keep track of moves for draw check\n",
        "\n",
        "    def move(self, counter: str, row: int, col: int):\n",
        "        # Method to place a counter ('x' or 'o') on the board\n",
        "        print(f\"\\nAttempting to move {counter} to ({row}, {col})\")\n",
        "        print(f\"Board before move: {self.board}\")\n",
        "\n",
        "        # Check if the cell is already occupied\n",
        "        if self.board[row][col] is not None:\n",
        "            print(f\"Cell at ({row}, {col}) is occupied. Raising ValueError.\")\n",
        "            raise ValueError(f\"Cell at ({row}, {col}) is already occupied.\")\n",
        "\n",
        "        # Place the counter\n",
        "        self.board[row][col] = counter\n",
        "        self.moves_count += 1\n",
        "        print(f\"Move successful. Board after move: {self.board}\")\n",
        "        print(f\"Moves count: {self.moves_count}\")\n",
        "\n",
        "        # Check for win or draw after the move\n",
        "        win = self._check_win(counter)\n",
        "        print(f\"_check_win({counter}) returned: {win}\")\n",
        "        if win:\n",
        "            print(f\"Win condition met for {counter}. Raising WinException.\")\n",
        "            raise WinException(f\"Player {counter} wins!\")\n",
        "\n",
        "        draw = self._check_draw()\n",
        "        print(f\"_check_draw() returned: {draw}\")\n",
        "        if draw:\n",
        "            print(\"Draw condition met. Raising DrawException.\")\n",
        "            raise DrawException(\"The game is a draw!\")\n",
        "\n",
        "        print(\"No win or draw yet.\")\n",
        "\n",
        "\n",
        "    def _check_win(self, counter: str) -> bool:\n",
        "        # Comment: Helper method to check for winning conditions (rows, columns, diagonals)\n",
        "        # This is a placeholder, full logic needs to be implemented\n",
        "        # Check rows\n",
        "        for r in range(3):\n",
        "            if all(self.board[r][c] == counter for c in range(3)):\n",
        "                return True\n",
        "        # Check columns\n",
        "        for c in range(3):\n",
        "            if all(self.board[r][c] == counter for r in range(3)):\n",
        "                return True\n",
        "        # Check diagonals\n",
        "        if all(self.board[i][i] == counter for i in range(3)) or \\\n",
        "           all(self.board[i][2-i] == counter for i in range(3)):\n",
        "            return True\n",
        "        return False\n",
        "\n",
        "\n",
        "    def _check_draw(self) -> bool:\n",
        "        # Comment: Helper method to check for a draw condition\n",
        "        # This assumes a draw happens when all cells are filled and no one has won\n",
        "        return self.moves_count == 9 and not self._check_win('x') and not self._check_win('o')\n",
        "\n",
        "\n",
        "    def board_to_string(self) -> str:\n",
        "        # Method to return a string representation of the board\n",
        "        board_str = \"-----\\n\"\n",
        "        for row in self.board:\n",
        "            board_str += \"|\"\n",
        "            for cell in row:\n",
        "                board_str += cell if cell is not None else \" \"\n",
        "            board_str += \"|\\n\"\n",
        "        board_str += \"-----\"\n",
        "        return board_str\n",
        "\n"
      ],
      "metadata": {
        "id": "1l60Mlo_ugiP"
      },
      "execution_count": null,
      "outputs": []
    },
    {
      "cell_type": "code",
      "source": [
        "print(\"\\n--- Testing WinException ---\")\n",
        "my_game = Game()\n",
        "my_game.move('x', 0, 0) # X in top-left\n",
        "my_game.move('o', 1, 0) # O in middle-left\n",
        "my_game.move('x', 0, 1) # X in top-middle\n",
        "my_game.move('o', 1, 1) # O in middle-middle\n",
        "my_game.move('o', 1, 1)\n",
        "    # This move completes the top row for X and should raise a WinException\n",
        "my_game.move('x', 0, 2)\n"
      ],
      "metadata": {
        "colab": {
          "base_uri": "https://localhost:8080/",
          "height": 1000
        },
        "id": "jjJ0gpy6vIdE",
        "outputId": "3f9309e8-58cb-4511-8823-f87cdf58ccdb"
      },
      "execution_count": null,
      "outputs": [
        {
          "output_type": "stream",
          "name": "stdout",
          "text": [
            "\n",
            "--- Testing WinException ---\n",
            "\n",
            "Attempting to move x to (0, 0)\n",
            "Board before move: [[None, None, None], [None, None, None], [None, None, None]]\n",
            "Move successful. Board after move: [['x', None, None], [None, None, None], [None, None, None]]\n",
            "Moves count: 1\n",
            "_check_win(x) returned: False\n",
            "_check_draw() returned: False\n",
            "No win or draw yet.\n",
            "\n",
            "Attempting to move o to (1, 0)\n",
            "Board before move: [['x', None, None], [None, None, None], [None, None, None]]\n",
            "Move successful. Board after move: [['x', None, None], ['o', None, None], [None, None, None]]\n",
            "Moves count: 2\n",
            "_check_win(o) returned: False\n",
            "_check_draw() returned: False\n",
            "No win or draw yet.\n",
            "\n",
            "Attempting to move x to (0, 1)\n",
            "Board before move: [['x', None, None], ['o', None, None], [None, None, None]]\n",
            "Move successful. Board after move: [['x', 'x', None], ['o', None, None], [None, None, None]]\n",
            "Moves count: 3\n",
            "_check_win(x) returned: False\n",
            "_check_draw() returned: False\n",
            "No win or draw yet.\n",
            "\n",
            "Attempting to move o to (1, 1)\n",
            "Board before move: [['x', 'x', None], ['o', None, None], [None, None, None]]\n",
            "Move successful. Board after move: [['x', 'x', None], ['o', 'o', None], [None, None, None]]\n",
            "Moves count: 4\n",
            "_check_win(o) returned: False\n",
            "_check_draw() returned: False\n",
            "No win or draw yet.\n",
            "\n",
            "Attempting to move o to (1, 1)\n",
            "Board before move: [['x', 'x', None], ['o', 'o', None], [None, None, None]]\n",
            "Cell at (1, 1) is occupied. Raising ValueError.\n"
          ]
        },
        {
          "output_type": "error",
          "ename": "ValueError",
          "evalue": "Cell at (1, 1) is already occupied.",
          "traceback": [
            "\u001b[0;31m---------------------------------------------------------------------------\u001b[0m",
            "\u001b[0;31mValueError\u001b[0m                                Traceback (most recent call last)",
            "\u001b[0;32m/tmp/ipython-input-726574378.py\u001b[0m in \u001b[0;36m<cell line: 0>\u001b[0;34m()\u001b[0m\n\u001b[1;32m      5\u001b[0m \u001b[0mmy_game\u001b[0m\u001b[0;34m.\u001b[0m\u001b[0mmove\u001b[0m\u001b[0;34m(\u001b[0m\u001b[0;34m'x'\u001b[0m\u001b[0;34m,\u001b[0m \u001b[0;36m0\u001b[0m\u001b[0;34m,\u001b[0m \u001b[0;36m1\u001b[0m\u001b[0;34m)\u001b[0m \u001b[0;31m# X in top-middle\u001b[0m\u001b[0;34m\u001b[0m\u001b[0;34m\u001b[0m\u001b[0m\n\u001b[1;32m      6\u001b[0m \u001b[0mmy_game\u001b[0m\u001b[0;34m.\u001b[0m\u001b[0mmove\u001b[0m\u001b[0;34m(\u001b[0m\u001b[0;34m'o'\u001b[0m\u001b[0;34m,\u001b[0m \u001b[0;36m1\u001b[0m\u001b[0;34m,\u001b[0m \u001b[0;36m1\u001b[0m\u001b[0;34m)\u001b[0m \u001b[0;31m# O in middle-middle\u001b[0m\u001b[0;34m\u001b[0m\u001b[0;34m\u001b[0m\u001b[0m\n\u001b[0;32m----> 7\u001b[0;31m \u001b[0mmy_game\u001b[0m\u001b[0;34m.\u001b[0m\u001b[0mmove\u001b[0m\u001b[0;34m(\u001b[0m\u001b[0;34m'o'\u001b[0m\u001b[0;34m,\u001b[0m \u001b[0;36m1\u001b[0m\u001b[0;34m,\u001b[0m \u001b[0;36m1\u001b[0m\u001b[0;34m)\u001b[0m\u001b[0;34m\u001b[0m\u001b[0;34m\u001b[0m\u001b[0m\n\u001b[0m\u001b[1;32m      8\u001b[0m     \u001b[0;31m# This move completes the top row for X and should raise a WinException\u001b[0m\u001b[0;34m\u001b[0m\u001b[0;34m\u001b[0m\u001b[0m\n\u001b[1;32m      9\u001b[0m \u001b[0mmy_game\u001b[0m\u001b[0;34m.\u001b[0m\u001b[0mmove\u001b[0m\u001b[0;34m(\u001b[0m\u001b[0;34m'x'\u001b[0m\u001b[0;34m,\u001b[0m \u001b[0;36m0\u001b[0m\u001b[0;34m,\u001b[0m \u001b[0;36m2\u001b[0m\u001b[0;34m)\u001b[0m\u001b[0;34m\u001b[0m\u001b[0;34m\u001b[0m\u001b[0m\n",
            "\u001b[0;32m/tmp/ipython-input-894800912.py\u001b[0m in \u001b[0;36mmove\u001b[0;34m(self, counter, row, col)\u001b[0m\n\u001b[1;32m     25\u001b[0m         \u001b[0;32mif\u001b[0m \u001b[0mself\u001b[0m\u001b[0;34m.\u001b[0m\u001b[0mboard\u001b[0m\u001b[0;34m[\u001b[0m\u001b[0mrow\u001b[0m\u001b[0;34m]\u001b[0m\u001b[0;34m[\u001b[0m\u001b[0mcol\u001b[0m\u001b[0;34m]\u001b[0m \u001b[0;32mis\u001b[0m \u001b[0;32mnot\u001b[0m \u001b[0;32mNone\u001b[0m\u001b[0;34m:\u001b[0m\u001b[0;34m\u001b[0m\u001b[0;34m\u001b[0m\u001b[0m\n\u001b[1;32m     26\u001b[0m             \u001b[0mprint\u001b[0m\u001b[0;34m(\u001b[0m\u001b[0;34mf\"Cell at ({row}, {col}) is occupied. Raising ValueError.\"\u001b[0m\u001b[0;34m)\u001b[0m\u001b[0;34m\u001b[0m\u001b[0;34m\u001b[0m\u001b[0m\n\u001b[0;32m---> 27\u001b[0;31m             \u001b[0;32mraise\u001b[0m \u001b[0mValueError\u001b[0m\u001b[0;34m(\u001b[0m\u001b[0;34mf\"Cell at ({row}, {col}) is already occupied.\"\u001b[0m\u001b[0;34m)\u001b[0m\u001b[0;34m\u001b[0m\u001b[0;34m\u001b[0m\u001b[0m\n\u001b[0m\u001b[1;32m     28\u001b[0m \u001b[0;34m\u001b[0m\u001b[0m\n\u001b[1;32m     29\u001b[0m         \u001b[0;31m# Place the counter\u001b[0m\u001b[0;34m\u001b[0m\u001b[0;34m\u001b[0m\u001b[0m\n",
            "\u001b[0;31mValueError\u001b[0m: Cell at (1, 1) is already occupied."
          ]
        }
      ]
    },
    {
      "cell_type": "markdown",
      "metadata": {
        "id": "PlNzWWKefLt9"
      },
      "source": [
        "### Extension 1"
      ]
    },
    {
      "cell_type": "markdown",
      "metadata": {
        "id": "63A_VDuOfLt9"
      },
      "source": [
        "Try adding type-checking to every method of game - both arguments (except `self`) and return values (with `->`)"
      ]
    },
    {
      "cell_type": "code",
      "source": [
        "from typing import List, Optional # Import necessary types\n",
        "\n",
        "class WinException(RuntimeError):\n",
        "    \"\"\"Custom exception for a winning condition.\"\"\"\n",
        "    pass\n",
        "\n",
        "class DrawException(RuntimeError):\n",
        "    \"\"\"Custom exception for a draw condition.\"\"\"\n",
        "    pass\n",
        "\n",
        "class Game:\n",
        "    def __init__(self):\n",
        "        # Create a 3x3 board using a list of lists\n",
        "        # Using Optional[str] because cells can be None or a string ('x' or 'o')\n",
        "        self.board: List[List[Optional[str]]] = [\n",
        "            [None, None, None],\n",
        "            [None, None, None],\n",
        "            [None, None, None]\n",
        "        ]\n",
        "        self.moves_count: int = 0 # Keep track of moves for draw check\n",
        "\n",
        "    def move(self, counter: str, row: int, col: int) -> None: # move doesn't return a value\n",
        "        # Method to place a counter ('x' or 'o') on the board\n",
        "        print(f\"\\nAttempting to move {counter} to ({row}, {col})\")\n",
        "        print(f\"Board before move: {self.board}\")\n",
        "\n",
        "        # Check if the cell is already occupied\n",
        "        if self.board[row][col] is not None:\n",
        "            print(f\"Cell at ({row}, {col}) is occupied. Raising ValueError.\")\n",
        "            raise ValueError(f\"Cell at ({row}, {col}) is already occupied.\")\n",
        "\n",
        "        # Place the counter\n",
        "        self.board[row][col] = counter\n",
        "        self.moves_count += 1\n",
        "        print(f\"Move successful. Board after move: {self.board}\")\n",
        "        print(f\"Moves count: {self.moves_count}\")\n",
        "\n",
        "        # Check for win or draw after the move\n",
        "        win = self._check_win(counter)\n",
        "        print(f\"_check_win({counter}) returned: {win}\")\n",
        "        if win:\n",
        "            print(f\"Win condition met for {counter}. Raising WinException.\")\n",
        "            raise WinException(f\"Player {counter} wins!\")\n",
        "\n",
        "        draw = self._check_draw()\n",
        "        print(f\"_check_draw() returned: {draw}\")\n",
        "        if draw:\n",
        "            print(\"Draw condition met. Raising DrawException.\")\n",
        "            raise DrawException(\"The game is a draw!\")\n",
        "\n",
        "        print(\"No win or draw yet.\")\n",
        "\n",
        "\n",
        "    def _check_win(self, counter: str) -> bool:\n",
        "        # Comment: Helper method to check for winning conditions (rows, columns, diagonals)\n",
        "        # This is a placeholder, full logic needs to be implemented\n",
        "        # Check rows\n",
        "        for r in range(3):\n",
        "            if all(self.board[r][c] == counter for c in range(3)):\n",
        "                return True\n",
        "        # Check columns\n",
        "        for c in range(3):\n",
        "            if all(self.board[r][c] == counter for r in range(3)):\n",
        "                return True\n",
        "        # Check diagonals\n",
        "        if all(self.board[i][i] == counter for i in range(3)) or \\\n",
        "           all(self.board[i][2-i] == counter for i in range(3)):\n",
        "            return True\n",
        "        return False\n",
        "\n",
        "\n",
        "    def _check_draw(self) -> bool:\n",
        "        # Comment: Helper method to check for a draw condition\n",
        "        # This assumes a draw happens when all cells are filled and no one has won\n",
        "        return self.moves_count == 9 and not self._check_win('x') and not self._check_win('o')\n",
        "\n",
        "\n",
        "    def board_to_string(self) -> str:\n",
        "        # Method to return a string representation of the board\n",
        "        board_str = \"-----\\n\"\n",
        "        for row in self.board:\n",
        "            board_str += \"|\"\n",
        "            for cell in row:\n",
        "                # Ensure cell is treated as a string for concatenation\n",
        "                board_str += str(cell) if cell is not None else \" \"\n",
        "            board_str += \"|\\n\"\n",
        "        board_str += \"-----\"\n",
        "        return board_str\n",
        "\n"
      ],
      "metadata": {
        "id": "egu6nkI3yJWT"
      },
      "execution_count": null,
      "outputs": []
    },
    {
      "cell_type": "code",
      "source": [],
      "metadata": {
        "id": "sKNeH8ZRyZ-b"
      },
      "execution_count": null,
      "outputs": []
    },
    {
      "cell_type": "markdown",
      "metadata": {
        "id": "EKAoB5mafLt9"
      },
      "source": [
        "### Extension 2"
      ]
    },
    {
      "cell_type": "markdown",
      "metadata": {
        "id": "O2nq1CjpfLt9"
      },
      "source": [
        "A useful class that can help constrain values to a discrete set is `Enum`."
      ]
    },
    {
      "cell_type": "code",
      "execution_count": null,
      "metadata": {
        "id": "E0_PZFwNfLt9"
      },
      "outputs": [],
      "source": [
        "from enum import Enum\n",
        "\n",
        "class Counter(Enum):\n",
        "    X = 'x'\n",
        "    O = 'o'\n",
        "\n",
        "X = Counter.X\n",
        "O = Counter.O\n",
        "\n",
        "my_game.move(X, 1, 0)"
      ]
    },
    {
      "cell_type": "code",
      "execution_count": null,
      "metadata": {
        "id": "EvshhggTfLt9",
        "outputId": "93884a5f-519e-4974-8330-a3fdd0c88327"
      },
      "outputs": [
        {
          "data": {
            "text/plain": [
              "'x'"
            ]
          },
          "execution_count": 108,
          "metadata": {},
          "output_type": "execute_result"
        }
      ],
      "source": [
        "X.value"
      ]
    },
    {
      "cell_type": "markdown",
      "metadata": {
        "id": "R0kd_RmRfLt9"
      },
      "source": [
        "Can you adapt your `my_game.board_to_string` to use your Counters? Hint: `X.value` is the string `x`."
      ]
    },
    {
      "cell_type": "code",
      "source": [
        "from typing import List, Optional # Import necessary types\n",
        "from enum import Enum # Import Enum\n",
        "\n",
        "class Counter(Enum):\n",
        "    X = 'x'\n",
        "    O = 'o'\n",
        "\n",
        "class WinException(RuntimeError):\n",
        "    \"\"\"Custom exception for a winning condition.\"\"\"\n",
        "    pass\n",
        "\n",
        "class DrawException(RuntimeError):\n",
        "    \"\"\"Custom exception for a draw condition.\"\"\"\n",
        "    pass\n",
        "\n",
        "class Game:\n",
        "    def __init__(self):\n",
        "        # Create a 3x3 board using a list of lists\n",
        "        # Using Optional[str] because cells can be None or a string ('x' or 'o')\n",
        "        self.board: List[List[Optional[str]]] = [\n",
        "            [None, None, None],\n",
        "            [None, None, None],\n",
        "            [None, None, None]\n",
        "        ]\n",
        "        self.moves_count: int = 0 # Keep track of moves for draw check\n",
        "\n",
        "    # Update type hint for counter to Counter Enum\n",
        "    def move(self, counter: Counter, row: int, col: int) -> None: # move doesn't return a value\n",
        "        # Method to place a counter ('x' or 'o') on the board\n",
        "        print(f\"\\nAttempting to move {counter.value} to ({row}, {col})\") # Use value for printing\n",
        "        print(f\"Board before move: {self.board}\")\n",
        "\n",
        "        # Check if the cell is already occupied\n",
        "        if self.board[row][col] is not None:\n",
        "            print(f\"Cell at ({row}, {col}) is occupied. Raising ValueError.\")\n",
        "            raise ValueError(f\"Cell at ({row}, {col}) is already occupied.\")\n",
        "\n",
        "        # Place the counter - use the string value from the Enum\n",
        "        self.board[row][col] = counter.value\n",
        "        self.moves_count += 1\n",
        "        print(f\"Move successful. Board after move: {self.board}\")\n",
        "        print(f\"Moves count: {self.moves_count}\")\n",
        "\n",
        "        # Check for win or draw after the move - pass the string value\n",
        "        win = self._check_win(counter.value)\n",
        "        print(f\"_check_win({counter.value}) returned: {win}\")\n",
        "        if win:\n",
        "            print(f\"Win condition met for {counter.value}. Raising WinException.\") # Use value for message\n",
        "            raise WinException(f\"Player {counter.value} wins!\")\n",
        "\n",
        "        draw = self._check_draw()\n",
        "        print(f\"_check_draw() returned: {draw}\")\n",
        "        if draw:\n",
        "            print(\"Draw condition met. Raising DrawException.\")\n",
        "            raise DrawException(\"The game is a draw!\")\n",
        "\n",
        "        print(\"No win or draw yet.\")\n",
        "\n",
        "\n",
        "    # Update type hint for counter to str (as board stores strings)\n",
        "    def _check_win(self, counter: str) -> bool:\n",
        "        # Comment: Helper method to check for winning conditions (rows, columns, diagonals)\n",
        "        # Check rows\n",
        "        for r in range(3):\n",
        "            if all(self.board[r][c] == counter for c in range(3)):\n",
        "                return True\n",
        "        # Check columns\n",
        "        for c in range(3):\n",
        "            if all(self.board[r][c] == counter for r in range(3)):\n",
        "                return True\n",
        "        # Check diagonals\n",
        "        if all(self.board[i][i] == counter for i in range(3)) or \\\n",
        "           all(self.board[i][2-i] == counter for i in range(3)):\n",
        "            return True\n",
        "        return False\n",
        "\n",
        "\n",
        "    def _check_draw(self) -> bool:\n",
        "        # Comment: Helper method to check for a draw condition\n",
        "        # This assumes a draw happens when all cells are filled and no one has won\n",
        "        return self.moves_count == 9 and not self._check_win(Counter.X.value) and not self._check_win(Counter.O.value)\n",
        "\n",
        "\n",
        "    def board_to_string(self) -> str:\n",
        "        # Method to return a string representation of the board\n",
        "        board_str = \"-----\\n\"\n",
        "        for row in self.board:\n",
        "            board_str += \"|\"\n",
        "            for cell in row:\n",
        "                # The board stores strings, so just display the string\n",
        "                board_str += cell if cell is not None else \" \"\n",
        "            board_str += \"|\\n\"\n",
        "        board_str += \"-----\"\n",
        "        return board_str\n"
      ],
      "metadata": {
        "id": "sYqYhDFmzIaP"
      },
      "execution_count": null,
      "outputs": []
    },
    {
      "cell_type": "code",
      "source": [
        "from enum import Enum\n",
        "\n",
        "class Counter(Enum):\n",
        "    X = 'x'\n",
        "    O = 'o'\n",
        "\n",
        "try:\n",
        "    my_game = Game()\n",
        "    my_game.move(Counter.X, 0, 0)\n",
        "    my_game.move(Counter.O, 1, 1)\n",
        "    my_game.move(Counter.X, 1, 0)\n",
        "    print(my_game.board_to_string())\n",
        "except (ValueError, WinException, DrawException) as e:\n",
        "    print(f\"Game over: {e}\")"
      ],
      "metadata": {
        "colab": {
          "base_uri": "https://localhost:8080/"
        },
        "id": "5Gf5wONQzqfi",
        "outputId": "6bc4cc76-c089-4f20-c54f-aaf77a77ad96"
      },
      "execution_count": null,
      "outputs": [
        {
          "output_type": "stream",
          "name": "stdout",
          "text": [
            "\n",
            "Attempting to move Counter.X to (0, 0)\n",
            "Board before move: [[None, None, None], [None, None, None], [None, None, None]]\n",
            "Move successful. Board after move: [[<Counter.X: 'x'>, None, None], [None, None, None], [None, None, None]]\n",
            "Moves count: 1\n",
            "_check_win(Counter.X) returned: False\n",
            "_check_draw() returned: False\n",
            "No win or draw yet.\n",
            "\n",
            "Attempting to move Counter.O to (1, 1)\n",
            "Board before move: [[<Counter.X: 'x'>, None, None], [None, None, None], [None, None, None]]\n",
            "Move successful. Board after move: [[<Counter.X: 'x'>, None, None], [None, <Counter.O: 'o'>, None], [None, None, None]]\n",
            "Moves count: 2\n",
            "_check_win(Counter.O) returned: False\n",
            "_check_draw() returned: False\n",
            "No win or draw yet.\n",
            "\n",
            "Attempting to move Counter.X to (1, 0)\n",
            "Board before move: [[<Counter.X: 'x'>, None, None], [None, <Counter.O: 'o'>, None], [None, None, None]]\n",
            "Move successful. Board after move: [[<Counter.X: 'x'>, None, None], [<Counter.X: 'x'>, <Counter.O: 'o'>, None], [None, None, None]]\n",
            "Moves count: 3\n",
            "_check_win(Counter.X) returned: False\n",
            "_check_draw() returned: False\n",
            "No win or draw yet.\n",
            "-----\n",
            "|Counter.X  |\n",
            "|Counter.XCounter.O |\n",
            "|   |\n",
            "-----\n"
          ]
        }
      ]
    },
    {
      "cell_type": "markdown",
      "metadata": {
        "id": "EzQtQUIyfLt9"
      },
      "source": [
        "For your type-checking to work, you will need to now check that the first non-self argument to `move` is a Counter. Have a look at the type-hints docs to see how to do that."
      ]
    },
    {
      "cell_type": "markdown",
      "metadata": {
        "id": "s1e6_2OffLt9"
      },
      "source": [
        "### Extension Squared"
      ]
    },
    {
      "cell_type": "markdown",
      "metadata": {
        "id": "3fC3cANUfLt9"
      },
      "source": [
        "If you're feeling brave, can you implement a simple AI to play against you? It will move (and call the `move` method for its own move) when you call a `Game.play` method. To begin with, get it to pick the first empty cell and set its counter there. You should throw an exception if `move` is called on its move, or `play` is called on yours."
      ]
    },
    {
      "cell_type": "markdown",
      "metadata": {
        "id": "-1JJeWanfLt-"
      },
      "source": [
        "Once you have that working, try to get it to play a sensible algorithm. Theoretically, if it goes first and takes the centre cell, and always blocks you getting three, it will at least always draw!"
      ]
    },
    {
      "cell_type": "markdown",
      "metadata": {
        "id": "X3IzsVz6fLt-"
      },
      "source": [
        "# Sequential Coupling"
      ]
    },
    {
      "cell_type": "markdown",
      "metadata": {
        "id": "0N_xswm_fLt-"
      },
      "source": [
        "This is an easy-to-fall-into trap, where methods must be called in a certain order to work. Sometimes it is unavoidable, but a common workaround is to use that hook pattern we saw earlier."
      ]
    },
    {
      "cell_type": "code",
      "execution_count": null,
      "metadata": {
        "id": "Cl1u2t1vfLt-",
        "outputId": "8f583528-5580-4685-82d1-cb8ce164c5ad",
        "colab": {
          "base_uri": "https://localhost:8080/"
        }
      },
      "outputs": [
        {
          "output_type": "execute_result",
          "data": {
            "text/plain": [
              "10"
            ]
          },
          "metadata": {},
          "execution_count": 59
        }
      ],
      "source": [
        "class Model:\n",
        "    def build(self):\n",
        "        self.vector = [1, 2, 3, 4]\n",
        "\n",
        "    def run(self):\n",
        "        return sum(self.vector)\n",
        "\n",
        "model = Model()\n",
        "model.build()\n",
        "model.run()"
      ]
    },
    {
      "cell_type": "code",
      "execution_count": null,
      "metadata": {
        "id": "AYtowVVRfLt-",
        "outputId": "13e5eb79-1b88-4909-c82c-82eb115312fd",
        "colab": {
          "base_uri": "https://localhost:8080/",
          "height": 297
        }
      },
      "outputs": [
        {
          "output_type": "error",
          "ename": "AttributeError",
          "evalue": "'Model' object has no attribute 'vector'",
          "traceback": [
            "\u001b[0;31m---------------------------------------------------------------------------\u001b[0m",
            "\u001b[0;31mAttributeError\u001b[0m                            Traceback (most recent call last)",
            "\u001b[0;32m/tmp/ipython-input-2214342079.py\u001b[0m in \u001b[0;36m<cell line: 0>\u001b[0;34m()\u001b[0m\n\u001b[1;32m      1\u001b[0m \u001b[0mmodel\u001b[0m \u001b[0;34m=\u001b[0m \u001b[0mModel\u001b[0m\u001b[0;34m(\u001b[0m\u001b[0;34m)\u001b[0m\u001b[0;34m\u001b[0m\u001b[0;34m\u001b[0m\u001b[0m\n\u001b[0;32m----> 2\u001b[0;31m \u001b[0mmodel\u001b[0m\u001b[0;34m.\u001b[0m\u001b[0mrun\u001b[0m\u001b[0;34m(\u001b[0m\u001b[0;34m)\u001b[0m\u001b[0;34m\u001b[0m\u001b[0;34m\u001b[0m\u001b[0m\n\u001b[0m\u001b[1;32m      3\u001b[0m \u001b[0mmodel\u001b[0m\u001b[0;34m.\u001b[0m\u001b[0mbuild\u001b[0m\u001b[0;34m(\u001b[0m\u001b[0;34m)\u001b[0m\u001b[0;34m\u001b[0m\u001b[0;34m\u001b[0m\u001b[0m\n",
            "\u001b[0;32m/tmp/ipython-input-1322502492.py\u001b[0m in \u001b[0;36mrun\u001b[0;34m(self)\u001b[0m\n\u001b[1;32m      4\u001b[0m \u001b[0;34m\u001b[0m\u001b[0m\n\u001b[1;32m      5\u001b[0m     \u001b[0;32mdef\u001b[0m \u001b[0mrun\u001b[0m\u001b[0;34m(\u001b[0m\u001b[0mself\u001b[0m\u001b[0;34m)\u001b[0m\u001b[0;34m:\u001b[0m\u001b[0;34m\u001b[0m\u001b[0;34m\u001b[0m\u001b[0m\n\u001b[0;32m----> 6\u001b[0;31m         \u001b[0;32mreturn\u001b[0m \u001b[0msum\u001b[0m\u001b[0;34m(\u001b[0m\u001b[0mself\u001b[0m\u001b[0;34m.\u001b[0m\u001b[0mvector\u001b[0m\u001b[0;34m)\u001b[0m\u001b[0;34m\u001b[0m\u001b[0;34m\u001b[0m\u001b[0m\n\u001b[0m\u001b[1;32m      7\u001b[0m \u001b[0;34m\u001b[0m\u001b[0m\n\u001b[1;32m      8\u001b[0m \u001b[0mmodel\u001b[0m \u001b[0;34m=\u001b[0m \u001b[0mModel\u001b[0m\u001b[0;34m(\u001b[0m\u001b[0;34m)\u001b[0m\u001b[0;34m\u001b[0m\u001b[0;34m\u001b[0m\u001b[0m\n",
            "\u001b[0;31mAttributeError\u001b[0m: 'Model' object has no attribute 'vector'"
          ]
        }
      ],
      "source": [
        "model = Model()\n",
        "model.run()\n",
        "model.build()"
      ]
    },
    {
      "cell_type": "markdown",
      "metadata": {
        "id": "XH_GpK-8fLt-"
      },
      "source": [
        "One option is to have a governing method that can call the sequence - a subclass, if needed, only needs to override the \"hooks\" and the order is still guaranteed."
      ]
    },
    {
      "cell_type": "code",
      "execution_count": null,
      "metadata": {
        "id": "gaEuT99RfLt-",
        "outputId": "cff09e3e-0801-49ea-f0cd-a5a85f08b71e",
        "colab": {
          "base_uri": "https://localhost:8080/"
        }
      },
      "outputs": [
        {
          "output_type": "execute_result",
          "data": {
            "text/plain": [
              "10"
            ]
          },
          "metadata": {},
          "execution_count": 61
        }
      ],
      "source": [
        "class Model:\n",
        "    def execute(self):\n",
        "        self.build()\n",
        "        return self.run()\n",
        "\n",
        "    def build(self):\n",
        "        self.vector = [1, 2, 3, 4]\n",
        "\n",
        "    def run(self):\n",
        "        return sum(self.vector)\n",
        "\n",
        "model = Model()\n",
        "model.execute()"
      ]
    },
    {
      "cell_type": "markdown",
      "metadata": {
        "id": "DwYsUZj-fLt-"
      },
      "source": [
        "Sometimes the issue is resolvable by moving more of the program's functionality inside the class, if steps need to be conducted between method calls. At the least, checking necessary state or steps have occured when a method is called is a way to highlight ordering issues."
      ]
    },
    {
      "cell_type": "code",
      "execution_count": null,
      "metadata": {
        "id": "X_cLvDqNfLt-",
        "outputId": "e15cb700-f789-4d28-c194-55ec2a88ff3e",
        "colab": {
          "base_uri": "https://localhost:8080/",
          "height": 332
        }
      },
      "outputs": [
        {
          "output_type": "error",
          "ename": "RuntimeError",
          "evalue": "The model has not been built - please call build() first.",
          "traceback": [
            "\u001b[0;31m---------------------------------------------------------------------------\u001b[0m",
            "\u001b[0;31mRuntimeError\u001b[0m                              Traceback (most recent call last)",
            "\u001b[0;32m/tmp/ipython-input-3765399743.py\u001b[0m in \u001b[0;36m<cell line: 0>\u001b[0;34m()\u001b[0m\n\u001b[1;32m     12\u001b[0m \u001b[0;34m\u001b[0m\u001b[0m\n\u001b[1;32m     13\u001b[0m \u001b[0mmodel\u001b[0m \u001b[0;34m=\u001b[0m \u001b[0mModel\u001b[0m\u001b[0;34m(\u001b[0m\u001b[0;34m)\u001b[0m\u001b[0;34m\u001b[0m\u001b[0;34m\u001b[0m\u001b[0m\n\u001b[0;32m---> 14\u001b[0;31m \u001b[0mmodel\u001b[0m\u001b[0;34m.\u001b[0m\u001b[0mrun\u001b[0m\u001b[0;34m(\u001b[0m\u001b[0;34m)\u001b[0m\u001b[0;34m\u001b[0m\u001b[0;34m\u001b[0m\u001b[0m\n\u001b[0m\u001b[1;32m     15\u001b[0m \u001b[0mmodel\u001b[0m\u001b[0;34m.\u001b[0m\u001b[0mbuild\u001b[0m\u001b[0;34m(\u001b[0m\u001b[0;34m)\u001b[0m\u001b[0;34m\u001b[0m\u001b[0;34m\u001b[0m\u001b[0m\n",
            "\u001b[0;32m/tmp/ipython-input-3765399743.py\u001b[0m in \u001b[0;36mrun\u001b[0;34m(self)\u001b[0m\n\u001b[1;32m      8\u001b[0m     \u001b[0;32mdef\u001b[0m \u001b[0mrun\u001b[0m\u001b[0;34m(\u001b[0m\u001b[0mself\u001b[0m\u001b[0;34m)\u001b[0m\u001b[0;34m:\u001b[0m\u001b[0;34m\u001b[0m\u001b[0;34m\u001b[0m\u001b[0m\n\u001b[1;32m      9\u001b[0m         \u001b[0;32mif\u001b[0m \u001b[0;32mnot\u001b[0m \u001b[0mself\u001b[0m\u001b[0;34m.\u001b[0m\u001b[0mmodel_built\u001b[0m\u001b[0;34m:\u001b[0m\u001b[0;34m\u001b[0m\u001b[0;34m\u001b[0m\u001b[0m\n\u001b[0;32m---> 10\u001b[0;31m             \u001b[0;32mraise\u001b[0m \u001b[0mRuntimeError\u001b[0m\u001b[0;34m(\u001b[0m\u001b[0;34m'The model has not been built - please call build() first.'\u001b[0m\u001b[0;34m)\u001b[0m\u001b[0;34m\u001b[0m\u001b[0;34m\u001b[0m\u001b[0m\n\u001b[0m\u001b[1;32m     11\u001b[0m         \u001b[0;32mreturn\u001b[0m \u001b[0msum\u001b[0m\u001b[0;34m(\u001b[0m\u001b[0mself\u001b[0m\u001b[0;34m.\u001b[0m\u001b[0mvector\u001b[0m\u001b[0;34m)\u001b[0m\u001b[0;34m\u001b[0m\u001b[0;34m\u001b[0m\u001b[0m\n\u001b[1;32m     12\u001b[0m \u001b[0;34m\u001b[0m\u001b[0m\n",
            "\u001b[0;31mRuntimeError\u001b[0m: The model has not been built - please call build() first."
          ]
        }
      ],
      "source": [
        "class Model:\n",
        "    model_built = False\n",
        "\n",
        "    def build(self):\n",
        "        self.vector = [1, 2, 3, 4]\n",
        "        self.model_built = True\n",
        "\n",
        "    def run(self):\n",
        "        if not self.model_built:\n",
        "            raise RuntimeError('The model has not been built - please call build() first.')\n",
        "        return sum(self.vector)\n",
        "\n",
        "model = Model()\n",
        "model.run()\n",
        "model.build()"
      ]
    },
    {
      "cell_type": "markdown",
      "metadata": {
        "id": "ZpAfwV59fLt-"
      },
      "source": [
        "# Yo-Yo Problem\n",
        "## Or too much abstraction in general"
      ]
    },
    {
      "cell_type": "markdown",
      "metadata": {
        "id": "4rdGjqLdfLt-"
      },
      "source": [
        "Python tends to reduce abstraction compared to statically typed languages - this is part of its paradigm, and comes back to \"concise and clear\" as principle. The Yo-Yo problem is the idea that too much subclassing can make it very hard to debug code."
      ]
    },
    {
      "cell_type": "markdown",
      "metadata": {
        "id": "zbWDeQo6fLt-"
      },
      "source": [
        "`Lifeform -> Animal -> Cow -> Jersey -> MilkingJersey -> MilkingJerseyCalledDaisy`"
      ]
    },
    {
      "cell_type": "markdown",
      "metadata": {
        "id": "-YFLzWiVfLt_"
      },
      "source": [
        "Possibly better: `Animal -> Cow[type=Jersey, state=milking, name=Daisy]`"
      ]
    }
  ],
  "metadata": {
    "kernelspec": {
      "display_name": "Python 3",
      "language": "python",
      "name": "python3"
    },
    "language_info": {
      "codemirror_mode": {
        "name": "ipython",
        "version": 3
      },
      "file_extension": ".py",
      "mimetype": "text/x-python",
      "name": "python",
      "nbconvert_exporter": "python",
      "pygments_lexer": "ipython3",
      "version": "3.7.3"
    },
    "colab": {
      "provenance": []
    }
  },
  "nbformat": 4,
  "nbformat_minor": 0
}